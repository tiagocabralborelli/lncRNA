{
 "cells": [
  {
   "cell_type": "markdown",
   "metadata": {},
   "source": [
    "### 1. Objetivos\n",
    "**Geral**: encontrar RNA de plantas tidos como não codificantes mas que, na verdade, codificam proteínas\n",
    "\n",
    "**Específico**: Varrer os bancos de dados de proteômica em busca de proteínas candidatas a serem codificadas por mRNAs tidos como não codificantes\n"
   ]
  },
  {
   "cell_type": "markdown",
   "metadata": {},
   "source": [
    "### 2. PRoteomcis IDEntifications Database (PRIDE) [link](https://www.ebi.ac.uk/pride/)"
   ]
  },
  {
   "cell_type": "markdown",
   "metadata": {},
   "source": [
    "Visão geral do PRIDE"
   ]
  },
  {
   "cell_type": "code",
   "execution_count": 87,
   "metadata": {},
   "outputs": [
    {
     "name": "stderr",
     "output_type": "stream",
     "text": [
      "UsageError: Line magic function `%` not found.\n"
     ]
    }
   ],
   "source": [
    "from filter_datasets import *\n",
    "import pandas as pd\n",
    "import json\n",
    "import collections\n",
    "import seaborn as sn\n",
    "% matplotlib inline\n",
    "import matplotlib.pyplot as plt\n",
    "import ppx #A Python interface to proteomics data repositories\n",
    "from pyteomics import mztab\n",
    "from ete3 import Tree, NodeStyle, TreeStyle, NodeStyle, faces, AttrFace, CircleFace\n",
    "from ete3 import NCBITaxa\n",
    "import glob\n",
    "import urllib.parse\n",
    "import urllib.request\n",
    "import uniprot\n",
    "import requests\n",
    "from Bio import SeqIO\n",
    "from io import StringIO\n",
    "from pandas_profiling import ProfileReport"
   ]
  },
  {
   "cell_type": "code",
   "execution_count": 5,
   "metadata": {},
   "outputs": [
    {
     "name": "stdout",
     "output_type": "stream",
     "text": [
      "Total de projetos com plantas no PRIDE: 1464\n"
     ]
    }
   ],
   "source": [
    "# pride_plant.json foi gerado usando a função filterPride para checar o número de projetos com plantas \n",
    "with open('pride_plant.json') as pride_plants_file:\n",
    "    pride_plant = json.load(pride_plants_file)\n",
    "print(f\"Total de projetos com plantas no PRIDE: {len(pride_plant)}\")"
   ]
  },
  {
   "cell_type": "code",
   "execution_count": 6,
   "metadata": {},
   "outputs": [
    {
     "data": {
      "text/html": [
       "<div>\n",
       "<style scoped>\n",
       "    .dataframe tbody tr th:only-of-type {\n",
       "        vertical-align: middle;\n",
       "    }\n",
       "\n",
       "    .dataframe tbody tr th {\n",
       "        vertical-align: top;\n",
       "    }\n",
       "\n",
       "    .dataframe thead th {\n",
       "        text-align: right;\n",
       "    }\n",
       "</style>\n",
       "<table border=\"1\" class=\"dataframe\">\n",
       "  <thead>\n",
       "    <tr style=\"text-align: right;\">\n",
       "      <th></th>\n",
       "      <th>name</th>\n",
       "      <th>accession</th>\n",
       "    </tr>\n",
       "  </thead>\n",
       "  <tbody>\n",
       "    <tr>\n",
       "      <th>PRD000037</th>\n",
       "      <td>Chlamydomonas reinhardtii</td>\n",
       "      <td>3055</td>\n",
       "    </tr>\n",
       "    <tr>\n",
       "      <th>PRD000044</th>\n",
       "      <td>Arabidopsis thaliana (mouse-ear cress)</td>\n",
       "      <td>3702</td>\n",
       "    </tr>\n",
       "    <tr>\n",
       "      <th>PRD000051</th>\n",
       "      <td>Zea mays (maize)</td>\n",
       "      <td>4577</td>\n",
       "    </tr>\n",
       "    <tr>\n",
       "      <th>PRD000084</th>\n",
       "      <td>Arabidopsis thaliana (mouse-ear cress)</td>\n",
       "      <td>3702</td>\n",
       "    </tr>\n",
       "    <tr>\n",
       "      <th>PRD000096</th>\n",
       "      <td>Arabidopsis thaliana (mouse-ear cress)</td>\n",
       "      <td>3702</td>\n",
       "    </tr>\n",
       "  </tbody>\n",
       "</table>\n",
       "</div>"
      ],
      "text/plain": [
       "                                             name accession\n",
       "PRD000037               Chlamydomonas reinhardtii      3055\n",
       "PRD000044  Arabidopsis thaliana (mouse-ear cress)      3702\n",
       "PRD000051                        Zea mays (maize)      4577\n",
       "PRD000084  Arabidopsis thaliana (mouse-ear cress)      3702\n",
       "PRD000096  Arabidopsis thaliana (mouse-ear cress)      3702"
      ]
     },
     "execution_count": 6,
     "metadata": {},
     "output_type": "execute_result"
    }
   ],
   "source": [
    "pd.DataFrame(pride_plant,).T.head()"
   ]
  },
  {
   "cell_type": "code",
   "execution_count": 7,
   "metadata": {},
   "outputs": [
    {
     "name": "stdout",
     "output_type": "stream",
     "text": [
      "Total de projetos com arquivos mztab: 270\n"
     ]
    }
   ],
   "source": [
    "# Pride_plants_mztab.json foi gerado usando a função get_mztabes. Ele contem os projetos com plantas e com arquivos mztab\n",
    "with open(\"pride_plants_mztab.json\") as mztabs:\n",
    "    pride_plants_mztab = json.load(mztabs)\n",
    "print(f\"Total de projetos com arquivos mztab: {len(pride_plants_mztab)}\")"
   ]
  },
  {
   "cell_type": "markdown",
   "metadata": {},
   "source": [
    "Arquivos mztab por espécie"
   ]
  },
  {
   "cell_type": "code",
   "execution_count": 8,
   "metadata": {},
   "outputs": [],
   "source": [
    "pride_plants_names = [values[\"name\"] for keys,values in pride_plant.items()]\n",
    "pride_plants_counter = collections.Counter(pride_plants_names)\n",
    "plant_names = [plants[0] for plants in pride_plants_counter.items()]\n",
    "plant_quant = [plants[1] for plants in pride_plants_counter.items()]\n",
    "plant_with_mztab = [] \n",
    "for specie in pride_plants_counter.keys():\n",
    "    all_projects = [projects for projects,values in pride_plant.items() if f\"{specie}\" == values[\"name\"]]\n",
    "    mztab_projects = list(set(pride_plants_mztab.keys()) & set(all_projects))\n",
    "    plant_with_mztab.append(len(mztab_projects))\n",
    "plants_count_dataframe = pd.DataFrame({\n",
    "    \"Specie\":plant_names,\n",
    "    \"Total_projects\":plant_quant,\n",
    "    \"Projects_with_mztab\":plant_with_mztab\n",
    "})\n",
    "plants_count_dataframe.sort_values(\"Total_projects\", ascending = False, inplace = True)\n"
   ]
  },
  {
   "cell_type": "code",
   "execution_count": 92,
   "metadata": {},
   "outputs": [],
   "source": [
    "plt.figure(figsize = (12,8))\n",
    "plot = plt.subplot()\n",
    "projects = plot.barh(plants_count_dataframe.Specie[:20],plants_count_dataframe.Total_projects[:20],color = 'b',align='center', alpha = .6)\n",
    "mztabs = plot.barh(plants_count_dataframe.Specie[:20],plants_count_dataframe.Projects_with_mztab[:20],color = 'g',align='center', alpha = 0.6,)\n",
    "plot.set_ylabel(\"Espécie\",fontsize = 20)\n",
    "plot.set_xlabel(\"Número de projetos\",fontsize = 20)\n",
    "plot.set_title(\"20 plantas mais comuns (PRIDE)\", fontsize = 30)\n",
    "plot.tick_params(labelsize = 18)\n",
    "plot.legend((projects,mztabs),(\"Total de projetos\",\"Projetos com arquivos mztab\"),fontsize = 20)\n",
    "#plt.savefig(\"/home/tiago/documents/lncRNA/figures/most_commum.png\")\n",
    "plt.show()\n"
   ]
  },
  {
   "cell_type": "markdown",
   "metadata": {},
   "source": [
    "### 3. Caminhos possíveis \n",
    "\n",
    "1. Os arquivos do PRIDE contem peptídeos que fazem parte de proteínas não caracterizadas e que podem ser mapeadas de volta em regiões codificam RNAs não codificantes nos genomas das espécias alvo.\n",
    "\n",
    "2. Os arquivos do PRIDE contem peptídeos qua não estão nos proteoma das espécies alvo.\n"
   ]
  },
  {
   "cell_type": "markdown",
   "metadata": {},
   "source": [
    "![Fluxograma](figures/fluxograma.jpg)"
   ]
  },
  {
   "cell_type": "markdown",
   "metadata": {},
   "source": []
  },
  {
   "cell_type": "code",
   "execution_count": 10,
   "metadata": {},
   "outputs": [],
   "source": [
    "def get_projects(dict_plants = pride_plant, dict_mztab = pride_plants_mztab, specie = None):\n",
    "    \"\"\"\n",
    "    Returns all projecst with mztab files for a give plant specie. Search by name\n",
    "    parameters:\n",
    "        dict_plants: contains all plant projects retrivied from PRIDE\n",
    "        pride_plants_mztab: contains all plant projects with mztab retrivied from PRIDE\n",
    "        specie: specie's name to search\n",
    "    \"\"\"\n",
    "    projetcs_total = [projects for projects,values in dict_plants.items() if f\"{specie}\" in values[\"name\"]]\n",
    "    projects = list(set(dict_mztab.keys()) & set(projetcs_total))\n",
    "    return projects"
   ]
  },
  {
   "cell_type": "code",
   "execution_count": 21,
   "metadata": {},
   "outputs": [],
   "source": [
    "def download_projects(project_list):\n",
    "    \"\"\"\n",
    "        Download all mztab files as well as creates a directory with all files available for download\n",
    "        Parameters:\n",
    "            project_list: list of projects to download\n",
    "    \"\"\"\n",
    "    for projects in project_list:\n",
    "        print(f\"Downloading projetc:{projects}\") \n",
    "        pride_obj = ppx.PrideProject(\n",
    "        projects,\n",
    "        local = os.path.join(os.getcwd(),mztab_storage_folder,f\"{projects}\")\n",
    "        )\n",
    "        pride_obj.download(pride_plants_mztab[projects])\n",
    "        \n"
   ]
  },
  {
   "cell_type": "code",
   "execution_count": 62,
   "metadata": {},
   "outputs": [],
   "source": [
    "def unzip_mztabs(path):\n",
    "    \"\"\"\n",
    "    Unzip all mztba.gz files\n",
    "    \"\"\"\n",
    "    for proj_dir,subdir,files in os.walk(os.path.join(os.getcwd(),mztab_storage_folder)):\n",
    "        if proj_dir.endswith(\"/generated\"):\n",
    "           os.system(f\"gunzip {os.path.join(proj_dir,'*.gz')}\")\n"
   ]
  },
  {
   "cell_type": "code",
   "execution_count": 13,
   "metadata": {},
   "outputs": [],
   "source": [
    "def get_allmztab(path):\n",
    "    \"\"\"\n",
    "    Get a list with all mztab files \n",
    "    \"\"\"\n",
    "    all_files = glob.glob(path)\n",
    "    return all_files"
   ]
  },
  {
   "cell_type": "code",
   "execution_count": 14,
   "metadata": {},
   "outputs": [],
   "source": [
    "# usar accession de PSM para pegar description em PRT\n",
    "def PSM2PRT (mztab,accession):\n",
    "    \"\"\"\n",
    "    Uses mztab[\"PRT\"] accession to get pep sequence description availabel only on mztab[\"PSM\"]\n",
    "    Parameters:\n",
    "        mztab: file to search\n",
    "        accession: accession number\n",
    "    \"\"\"   \n",
    "    for pst_data in mztab[\"PRT\"].itertuples():\n",
    "            if pst_data.accession == accession:\n",
    "                return pst_data.description\n"
   ]
  },
  {
   "cell_type": "code",
   "execution_count": 15,
   "metadata": {},
   "outputs": [],
   "source": [
    "def resume_mztab(file_list:list,specie ):\n",
    "    \"\"\"\n",
    "        Returns a fasta file, per project, with all peps on all mztabs\n",
    "        Parameters:\n",
    "            file_list: list containg mztab files\n",
    "            specie: specie to name the returning fasta file   \n",
    "    \"\"\"\n",
    "    for files in file_list:\n",
    "        mztab_obj = mztab.MzTab(files)\n",
    "        projetc_number  = mztab_obj.metadata[\"mzTab-ID\"]\n",
    "        with open(f\"{specie}_{projetc_number}.fasta\",\"w+\") as file_fasta:\n",
    "            for info in mztab_obj[\"PSM\"].itertuples():\n",
    "                file_fasta.write(f\">{info.accession} | {PSM2PRT(mztab_obj,info.accession)} \\n\") # Se possível, preciso melhorar isso. O(n²) é lento\n",
    "                file_fasta.write(f\"{info.sequence}\\n\") \n",
    "    return file_fasta"
   ]
  },
  {
   "cell_type": "code",
   "execution_count": 16,
   "metadata": {},
   "outputs": [],
   "source": [
    "def get_swissprot_sequences(accession:list,out_file_name:str,project):\n",
    "    \"\"\"\n",
    "    convert pride accession number to swissprot accession number then downloads complete protein sequences\n",
    "        Parameters:\n",
    "            accession: List containg PRIDE IDs\n",
    "\n",
    "    \"\"\"\n",
    "    databases_url = 'https://www.uniprot.org/uploadlists/'\n",
    "    query = None\n",
    "    if len(accession) == 1:\n",
    "        query = accession\n",
    "        params = {\n",
    "        'from': 'ACC+ID', #pride accession\n",
    "        'to': 'SWISSPROT', #swissprot accession\n",
    "        'format': 'list',\n",
    "        'query': f'{query}'}\n",
    "    else:\n",
    "        params = {\n",
    "        'from': 'ACC+ID', #pride accession\n",
    "        'to': 'SWISSPROT', #swissprot accession\n",
    "        'format': 'list',\n",
    "        'query': f'{\" \".join(accession)}'}\n",
    "    pride_accession = urllib.parse.urlencode(params)\n",
    "    pride_accession = pride_accession.encode('utf-8')\n",
    "    req = urllib.request.Request(databases_url, pride_accession)\n",
    "    with urllib.request.urlopen(req) as accession_file:\n",
    "        response = accession_file.read()\n",
    "    swissprot_accession = list(response.decode('utf-8').split(\"\\n\"))\n",
    "\n",
    "    \n",
    "    # Get protein sequences from swissprot\n",
    "    swissprot_url = \"http://www.uniprot.org/uniprot/\"\n",
    "    with open(f\"{'_'.join(out_file_name)}_{project}.complete.fasta\",\"w+\") as fasta:\n",
    "        for IDs in swissprot_accession:\n",
    "            joint_url = swissprot_url + IDs + \".fasta\"\n",
    "            swissprot_response = requests.post(joint_url)\n",
    "            raw_data = \"\".join(swissprot_response.text)\n",
    "            Seq = StringIO(raw_data)\n",
    "            for seq_info in SeqIO.parse(Seq,'fasta'):\n",
    "                fasta.write(f\">{seq_info.description}\\n\")\n",
    "                fasta.write(f\"{seq_info.seq}\\n\")\n",
    "    return fasta"
   ]
  },
  {
   "cell_type": "code",
   "execution_count": 17,
   "metadata": {},
   "outputs": [],
   "source": [
    "def concatenate_swissprot(file_list, specie):\n",
    "    \"\"\"\n",
    "    Concatenate get_swissprot_sequences results\n",
    "    \"\"\"\n",
    "    for files in file_list:\n",
    "        mztab_obj = mztab.MzTab(files)\n",
    "        project_number  = mztab_obj.metadata[\"mzTab-ID\"]\n",
    "        accession_list = mztab_obj[\"PRT\"].accession.values\n",
    "        get_swissprot_sequences(accession_list,specie,project_number)"
   ]
  },
  {
   "cell_type": "code",
   "execution_count": 77,
   "metadata": {},
   "outputs": [],
   "source": [
    "def download_sequences(mztab_prt,out_file):\n",
    "    project_id  = mztab_prt.metadata[\"mzTab-ID\"]\n",
    "    with open(f\"{os.path.join(out_file,project_id)}.fasta\",\"w+\") as sequence_fasta_file:\n",
    "        for data in mztab_prt[\"PRT\"].itertuples():\n",
    "            uniprot_url = 'https://www.uniprot.org/uploadlists/'\n",
    "            params = {\n",
    "            'from': 'ACC+ID', #pride accession\n",
    "            'to': 'EMBL', #ENA accession\n",
    "            'format': 'list',\n",
    "            'query': f'{data.accession}'\n",
    "            }\n",
    "            pride_accession = urllib.parse.urlencode(params)\n",
    "            pride_accession = pride_accession.encode('utf-8')\n",
    "            pride_request = urllib.request.Request(uniprot_url, pride_accession)\n",
    "            with urllib.request.urlopen(pride_request) as request_data:\n",
    "                request_response = request_data.read()\n",
    "            ENA_accession = request_response.decode(\"utf-8\").split('\\n')\n",
    "            ENA_ulr = url = f\"https://www.ebi.ac.uk/ena/browser/api/fasta/{ENA_accession[0]}?lineLimit=1000\"\n",
    "            ENA_seq_request = requests.get(url).text.split(\"\\n\")\n",
    "            fasta_id = data.description\n",
    "            fasta_seq = \"\".join(ENA_seq_request[1:])\n",
    "            sequence_fasta_file.write(f\">{fasta_id}\\n\")\n",
    "            sequence_fasta_file.write(f\"{fasta_seq}\\n\")"
   ]
  },
  {
   "cell_type": "markdown",
   "metadata": {},
   "source": [
    "## Resultados"
   ]
  },
  {
   "cell_type": "markdown",
   "metadata": {},
   "source": [
    "### *Cafea arabica*"
   ]
  },
  {
   "cell_type": "code",
   "execution_count": 82,
   "metadata": {},
   "outputs": [
    {
     "name": "stdout",
     "output_type": "stream",
     "text": [
      "Folder already exist: /home/tiago/documents/lncRNA/C.arabica\n"
     ]
    }
   ],
   "source": [
    "mztab_storage_folder = \"C.arabica\"\n",
    "try:\n",
    "    os.makedirs(os.path.join(os.getcwd(),mztab_storage_folder))\n",
    "except:\n",
    "    print(f\"Folder already exist: {os.path.join(os.getcwd(),mztab_storage_folder)}\")"
   ]
  },
  {
   "cell_type": "code",
   "execution_count": 85,
   "metadata": {},
   "outputs": [
    {
     "name": "stdout",
     "output_type": "stream",
     "text": [
      "Downloading projetc:PXD002963\n"
     ]
    },
    {
     "data": {
      "application/vnd.jupyter.widget-view+json": {
       "model_id": "411152c392f3492b9ecea7eb679f3163",
       "version_major": 2,
       "version_minor": 0
      },
      "text/plain": [
       "TOTAL:   0%|          | 0/1 [00:00<?, ?files/s]"
      ]
     },
     "metadata": {},
     "output_type": "display_data"
    },
    {
     "data": {
      "application/vnd.jupyter.widget-view+json": {
       "model_id": "fed21273445445b98a971dbbcfc55d86",
       "version_major": 2,
       "version_minor": 0
      },
      "text/plain": [
       "generated/2experimentos.pride.mztab.gz:   0%|          | 0.00/846k [00:00<?, ?b/s]"
      ]
     },
     "metadata": {},
     "output_type": "display_data"
    },
    {
     "name": "stderr",
     "output_type": "stream",
     "text": [
      "gzip: /home/tiago/documents/lncRNA/C.arabica/PXD002963/generated/2experimentos.pride.mztab already exists;\tnot overwritten\n"
     ]
    },
    {
     "name": "stdout",
     "output_type": "stream",
     "text": [
      "PXD002963\n"
     ]
    }
   ],
   "source": [
    "specie = \"Coffea arabica\"\n",
    "projects = get_projects(specie = specie)\n",
    "download_projects(projects)\n",
    "unzip_mztabs(path = os.path.join(os.getcwd(),mztab_storage_folder))\n",
    "for proj_dir,subdir,files in os.walk(os.path.join(os.getcwd(),mztab_storage_folder)):\n",
    "    if proj_dir.endswith(\"/generated\"):\n",
    "        all_mztab_files = get_allmztab(os.path.join(proj_dir,\"*.mztab\"))\n",
    "        for mztab_path in all_mztab_files:\n",
    "            mztab_obj = mztab.MzTab(mztab_path)\n",
    "            print(proj_dir.split(\"/\")[-2])\n",
    "            download_sequences(mztab_obj,proj_dir)"
   ]
  },
  {
   "cell_type": "markdown",
   "metadata": {},
   "source": [
    "### Soy bean"
   ]
  },
  {
   "cell_type": "code",
   "execution_count": 94,
   "metadata": {},
   "outputs": [
    {
     "name": "stdout",
     "output_type": "stream",
     "text": [
      "Folder already exist: /home/tiago/documents/lncRNA/G.max\n"
     ]
    }
   ],
   "source": [
    "mztab_storage_folder = \"G.max\"\n",
    "try:\n",
    "    os.makedirs(os.path.join(os.getcwd(),mztab_storage_folder))\n",
    "except:\n",
    "    print(f\"Folder already exist: {os.path.join(os.getcwd(),mztab_storage_folder)}\")"
   ]
  },
  {
   "cell_type": "code",
   "execution_count": 96,
   "metadata": {},
   "outputs": [
    {
     "name": "stdout",
     "output_type": "stream",
     "text": [
      "Total of projects for Glycine max:7\n",
      "Downloading projetc:PXD013198\n"
     ]
    },
    {
     "data": {
      "application/vnd.jupyter.widget-view+json": {
       "model_id": "cd601617ed8640938496e279a293d848",
       "version_major": 2,
       "version_minor": 0
      },
      "text/plain": [
       "TOTAL:   0%|          | 0/137 [00:00<?, ?files/s]"
      ]
     },
     "metadata": {},
     "output_type": "display_data"
    },
    {
     "data": {
      "application/vnd.jupyter.widget-view+json": {
       "model_id": "d9fce3f0d9814bdf9c2d53a485e8ff4f",
       "version_major": 2,
       "version_minor": 0
      },
      "text/plain": [
       "generated/SoySEC_standards_02a_03132018.MSGF+.pride.mztab.gz:   0%|          | 0.00/14.5M [00:00<?, ?b/s]"
      ]
     },
     "metadata": {},
     "output_type": "display_data"
    },
    {
     "data": {
      "application/vnd.jupyter.widget-view+json": {
       "model_id": "25ac245a2fee40c9aeb5f6e2880def92",
       "version_major": 2,
       "version_minor": 0
      },
      "text/plain": [
       "generated/SoySEC_standards_03a_03142018.MSGF+.pride.mztab.gz:   0%|          | 0.00/16.3M [00:00<?, ?b/s]"
      ]
     },
     "metadata": {},
     "output_type": "display_data"
    },
    {
     "data": {
      "application/vnd.jupyter.widget-view+json": {
       "model_id": "25410411f43e4a0480d718ff9bc4b21e",
       "version_major": 2,
       "version_minor": 0
      },
      "text/plain": [
       "generated/SoySEC_standards_04a_03142018.MSGF+.pride.mztab.gz:   0%|          | 0.00/16.7M [00:00<?, ?b/s]"
      ]
     },
     "metadata": {},
     "output_type": "display_data"
    },
    {
     "data": {
      "application/vnd.jupyter.widget-view+json": {
       "model_id": "42f32bb49512492794f66682c9e1482b",
       "version_major": 2,
       "version_minor": 0
      },
      "text/plain": [
       "generated/SoySEC_standards_06a_03152018.MSGF+.pride.mztab.gz:   0%|          | 0.00/15.8M [00:00<?, ?b/s]"
      ]
     },
     "metadata": {},
     "output_type": "display_data"
    },
    {
     "data": {
      "application/vnd.jupyter.widget-view+json": {
       "model_id": "0a92f156e78f4d50a61cf5ad2751974b",
       "version_major": 2,
       "version_minor": 0
      },
      "text/plain": [
       "generated/SoySEC_standards_07a_03152018.MSGF+.pride.mztab.gz:   0%|          | 0.00/14.2M [00:00<?, ?b/s]"
      ]
     },
     "metadata": {},
     "output_type": "display_data"
    },
    {
     "data": {
      "application/vnd.jupyter.widget-view+json": {
       "model_id": "a2049198ad2845dfbf62651a5f04c150",
       "version_major": 2,
       "version_minor": 0
      },
      "text/plain": [
       "generated/SoySEC_standards_08a_03162018.MSGF+.pride.mztab.gz:   0%|          | 0.00/15.4M [00:00<?, ?b/s]"
      ]
     },
     "metadata": {},
     "output_type": "display_data"
    },
    {
     "data": {
      "application/vnd.jupyter.widget-view+json": {
       "model_id": "2a4424cdf48146228aa5f22f83c80c0c",
       "version_major": 2,
       "version_minor": 0
      },
      "text/plain": [
       "generated/SoySEC_standards_09a_03162018.MSGF+.pride.mztab.gz:   0%|          | 0.00/15.6M [00:00<?, ?b/s]"
      ]
     },
     "metadata": {},
     "output_type": "display_data"
    },
    {
     "data": {
      "application/vnd.jupyter.widget-view+json": {
       "model_id": "370aad4bf8b3416b8709388c8ebbf8b3",
       "version_major": 2,
       "version_minor": 0
      },
      "text/plain": [
       "generated/SoySEC_standards_10a_03162018.MSGF+.pride.mztab.gz:   0%|          | 0.00/16.7M [00:00<?, ?b/s]"
      ]
     },
     "metadata": {},
     "output_type": "display_data"
    },
    {
     "data": {
      "application/vnd.jupyter.widget-view+json": {
       "model_id": "f632481b43f5431b9b9033ba04a0ee0f",
       "version_major": 2,
       "version_minor": 0
      },
      "text/plain": [
       "generated/SoySEC_standards_11a_03172018.MSGF+.pride.mztab.gz:   0%|          | 0.00/16.3M [00:00<?, ?b/s]"
      ]
     },
     "metadata": {},
     "output_type": "display_data"
    },
    {
     "data": {
      "application/vnd.jupyter.widget-view+json": {
       "model_id": "5f7fd7a8cf48419f88e8b7a989bafd14",
       "version_major": 2,
       "version_minor": 0
      },
      "text/plain": [
       "generated/SoySEC_standards_12a_03172018.MSGF+.pride.mztab.gz:   0%|          | 0.00/15.7M [00:00<?, ?b/s]"
      ]
     },
     "metadata": {},
     "output_type": "display_data"
    },
    {
     "data": {
      "application/vnd.jupyter.widget-view+json": {
       "model_id": "60d0510e6af247b3a53a91e6f04292ac",
       "version_major": 2,
       "version_minor": 0
      },
      "text/plain": [
       "generated/SoySEC_standards_13a_03132018.MSGF+.pride.mztab.gz:   0%|          | 0.00/16.2M [00:00<?, ?b/s]"
      ]
     },
     "metadata": {},
     "output_type": "display_data"
    },
    {
     "data": {
      "application/vnd.jupyter.widget-view+json": {
       "model_id": "94a98c19fa1d4ba3ac551c2475395076",
       "version_major": 2,
       "version_minor": 0
      },
      "text/plain": [
       "generated/SoySEC_standards_14a_03132018.MSGF+.pride.mztab.gz:   0%|          | 0.00/16.2M [00:00<?, ?b/s]"
      ]
     },
     "metadata": {},
     "output_type": "display_data"
    },
    {
     "data": {
      "application/vnd.jupyter.widget-view+json": {
       "model_id": "fc6a1f728b3049a0ad57db0fab191355",
       "version_major": 2,
       "version_minor": 0
      },
      "text/plain": [
       "generated/SoySEC_standards_15a_03142018.MSGF+.pride.mztab.gz:   0%|          | 0.00/16.4M [00:00<?, ?b/s]"
      ]
     },
     "metadata": {},
     "output_type": "display_data"
    },
    {
     "data": {
      "application/vnd.jupyter.widget-view+json": {
       "model_id": "91147ad488d94be6b9459e8db3bce3d4",
       "version_major": 2,
       "version_minor": 0
      },
      "text/plain": [
       "generated/SoySEC_standards_16a_03142018.MSGF+.pride.mztab.gz:   0%|          | 0.00/15.6M [00:00<?, ?b/s]"
      ]
     },
     "metadata": {},
     "output_type": "display_data"
    },
    {
     "data": {
      "application/vnd.jupyter.widget-view+json": {
       "model_id": "ac850d552a1143a1bf1e223d2476ddfe",
       "version_major": 2,
       "version_minor": 0
      },
      "text/plain": [
       "generated/SoySEC_standards_17a_03152018.MSGF+.pride.mztab.gz:   0%|          | 0.00/17.2M [00:00<?, ?b/s]"
      ]
     },
     "metadata": {},
     "output_type": "display_data"
    },
    {
     "data": {
      "application/vnd.jupyter.widget-view+json": {
       "model_id": "8604e36fc2684a5d9a36c36b6659712a",
       "version_major": 2,
       "version_minor": 0
      },
      "text/plain": [
       "generated/SoySEC_standards_18a_03152018.MSGF+.pride.mztab.gz:   0%|          | 0.00/17.3M [00:00<?, ?b/s]"
      ]
     },
     "metadata": {},
     "output_type": "display_data"
    },
    {
     "data": {
      "application/vnd.jupyter.widget-view+json": {
       "model_id": "96e2f1f5d7e3473bba27d2f9a3202341",
       "version_major": 2,
       "version_minor": 0
      },
      "text/plain": [
       "generated/SoySEC_standards_19a_03152018.MSGF+.pride.mztab.gz:   0%|          | 0.00/17.6M [00:00<?, ?b/s]"
      ]
     },
     "metadata": {},
     "output_type": "display_data"
    },
    {
     "data": {
      "application/vnd.jupyter.widget-view+json": {
       "model_id": "f8d4884079df4ca4bc66060a8b4640e9",
       "version_major": 2,
       "version_minor": 0
      },
      "text/plain": [
       "generated/SoySEC_standards_20a_03162018.MSGF+.pride.mztab.gz:   0%|          | 0.00/14.7M [00:00<?, ?b/s]"
      ]
     },
     "metadata": {},
     "output_type": "display_data"
    },
    {
     "data": {
      "application/vnd.jupyter.widget-view+json": {
       "model_id": "e6fe44bbb7ae4042928e241567eae9a1",
       "version_major": 2,
       "version_minor": 0
      },
      "text/plain": [
       "generated/SoySEC_standards_21a_03162018.MSGF+.pride.mztab.gz:   0%|          | 0.00/13.5M [00:00<?, ?b/s]"
      ]
     },
     "metadata": {},
     "output_type": "display_data"
    },
    {
     "data": {
      "application/vnd.jupyter.widget-view+json": {
       "model_id": "7643b72f2fee43ea80ed2eacadfb2ec4",
       "version_major": 2,
       "version_minor": 0
      },
      "text/plain": [
       "generated/SoySEC_standards_22a_03162018.MSGF+.pride.mztab.gz:   0%|          | 0.00/16.1M [00:00<?, ?b/s]"
      ]
     },
     "metadata": {},
     "output_type": "display_data"
    },
    {
     "data": {
      "application/vnd.jupyter.widget-view+json": {
       "model_id": "24cd461b21e94fbaabf7e4b30c2e1790",
       "version_major": 2,
       "version_minor": 0
      },
      "text/plain": [
       "generated/SoySEC_standards_23a_03172018.MSGF+.pride.mztab.gz:   0%|          | 0.00/19.3M [00:00<?, ?b/s]"
      ]
     },
     "metadata": {},
     "output_type": "display_data"
    },
    {
     "data": {
      "application/vnd.jupyter.widget-view+json": {
       "model_id": "13efe9be0ac74e498654d95c933d22f1",
       "version_major": 2,
       "version_minor": 0
      },
      "text/plain": [
       "generated/SoySEC_standards_24a_03172018.MSGF+.pride.mztab.gz:   0%|          | 0.00/19.4M [00:00<?, ?b/s]"
      ]
     },
     "metadata": {},
     "output_type": "display_data"
    },
    {
     "data": {
      "application/vnd.jupyter.widget-view+json": {
       "model_id": "edca1aa552104544a4c5d12b4dc47254",
       "version_major": 2,
       "version_minor": 0
      },
      "text/plain": [
       "generated/SoySEC_standards_25a_03132018.MSGF+.pride.mztab.gz:   0%|          | 0.00/18.2M [00:00<?, ?b/s]"
      ]
     },
     "metadata": {},
     "output_type": "display_data"
    },
    {
     "data": {
      "application/vnd.jupyter.widget-view+json": {
       "model_id": "1189ff27a27d4183bd7aa6309a74382b",
       "version_major": 2,
       "version_minor": 0
      },
      "text/plain": [
       "generated/SoySEC_standards_26a_03132018.MSGF+.pride.mztab.gz:   0%|          | 0.00/18.3M [00:00<?, ?b/s]"
      ]
     },
     "metadata": {},
     "output_type": "display_data"
    },
    {
     "data": {
      "application/vnd.jupyter.widget-view+json": {
       "model_id": "085d4a06683c4ac49bee4dc09431652b",
       "version_major": 2,
       "version_minor": 0
      },
      "text/plain": [
       "generated/SoySEC_standards_27a_03142018.MSGF+.pride.mztab.gz:   0%|          | 0.00/18.6M [00:00<?, ?b/s]"
      ]
     },
     "metadata": {},
     "output_type": "display_data"
    },
    {
     "data": {
      "application/vnd.jupyter.widget-view+json": {
       "model_id": "4c0d54c049b54e6e8f5bd9ed10858a3d",
       "version_major": 2,
       "version_minor": 0
      },
      "text/plain": [
       "generated/SoySEC_standards_28a_03142018.MSGF+.pride.mztab.gz:   0%|          | 0.00/17.3M [00:00<?, ?b/s]"
      ]
     },
     "metadata": {},
     "output_type": "display_data"
    },
    {
     "data": {
      "application/vnd.jupyter.widget-view+json": {
       "model_id": "225777b0ad244567af5593026d0ebd03",
       "version_major": 2,
       "version_minor": 0
      },
      "text/plain": [
       "generated/SoySEC_standards_29a_03152018.MSGF+.pride.mztab.gz:   0%|          | 0.00/18.0M [00:00<?, ?b/s]"
      ]
     },
     "metadata": {},
     "output_type": "display_data"
    },
    {
     "data": {
      "application/vnd.jupyter.widget-view+json": {
       "model_id": "57dc863b674c4fd4a082f336ff5ba1da",
       "version_major": 2,
       "version_minor": 0
      },
      "text/plain": [
       "generated/SoySEC_standards_30a_03152018.MSGF+.pride.mztab.gz:   0%|          | 0.00/17.4M [00:00<?, ?b/s]"
      ]
     },
     "metadata": {},
     "output_type": "display_data"
    },
    {
     "data": {
      "application/vnd.jupyter.widget-view+json": {
       "model_id": "7cc80b6344674d4d8649aeea6cdfb57b",
       "version_major": 2,
       "version_minor": 0
      },
      "text/plain": [
       "generated/SoySEC_standards_31a_03152018.MSGF+.pride.mztab.gz:   0%|          | 0.00/17.8M [00:00<?, ?b/s]"
      ]
     },
     "metadata": {},
     "output_type": "display_data"
    },
    {
     "data": {
      "application/vnd.jupyter.widget-view+json": {
       "model_id": "95c0556cbed94d8c8d6be5f4aa6473e8",
       "version_major": 2,
       "version_minor": 0
      },
      "text/plain": [
       "generated/SoySEC_standards_32a_03162018.MSGF+.pride.mztab.gz:   0%|          | 0.00/17.3M [00:00<?, ?b/s]"
      ]
     },
     "metadata": {},
     "output_type": "display_data"
    },
    {
     "data": {
      "application/vnd.jupyter.widget-view+json": {
       "model_id": "6936355cc78848769b01ff7bc1a2499e",
       "version_major": 2,
       "version_minor": 0
      },
      "text/plain": [
       "generated/SoySEC_standards_33a_03162018.MSGF+.pride.mztab.gz:   0%|          | 0.00/16.3M [00:00<?, ?b/s]"
      ]
     },
     "metadata": {},
     "output_type": "display_data"
    },
    {
     "data": {
      "application/vnd.jupyter.widget-view+json": {
       "model_id": "bd7197cb2e394ac5bb14b90bc43dac8d",
       "version_major": 2,
       "version_minor": 0
      },
      "text/plain": [
       "generated/SoySEC_standards_34a_03162018.MSGF+.pride.mztab.gz:   0%|          | 0.00/16.3M [00:00<?, ?b/s]"
      ]
     },
     "metadata": {},
     "output_type": "display_data"
    },
    {
     "data": {
      "application/vnd.jupyter.widget-view+json": {
       "model_id": "cdb405a57dd64235afecee9f2750c82a",
       "version_major": 2,
       "version_minor": 0
      },
      "text/plain": [
       "generated/SoySEC_standards_35a_03172018.MSGF+.pride.mztab.gz:   0%|          | 0.00/16.6M [00:00<?, ?b/s]"
      ]
     },
     "metadata": {},
     "output_type": "display_data"
    },
    {
     "data": {
      "application/vnd.jupyter.widget-view+json": {
       "model_id": "fd20e9c914934dc488cedd1fd3b97253",
       "version_major": 2,
       "version_minor": 0
      },
      "text/plain": [
       "generated/SoySEC_standards_36a_03172018.MSGF+.pride.mztab.gz:   0%|          | 0.00/15.1M [00:00<?, ?b/s]"
      ]
     },
     "metadata": {},
     "output_type": "display_data"
    },
    {
     "data": {
      "application/vnd.jupyter.widget-view+json": {
       "model_id": "4c995f0950f84c7f82cdf8dca2121752",
       "version_major": 2,
       "version_minor": 0
      },
      "text/plain": [
       "generated/SoySEC_standards_37a_03132018.MSGF+.pride.mztab.gz:   0%|          | 0.00/15.4M [00:00<?, ?b/s]"
      ]
     },
     "metadata": {},
     "output_type": "display_data"
    },
    {
     "data": {
      "application/vnd.jupyter.widget-view+json": {
       "model_id": "6c4d6385306f4bda8c12b5eed49a9c46",
       "version_major": 2,
       "version_minor": 0
      },
      "text/plain": [
       "generated/SoySEC_standards_38a_03142018.MSGF+.pride.mztab.gz:   0%|          | 0.00/14.4M [00:00<?, ?b/s]"
      ]
     },
     "metadata": {},
     "output_type": "display_data"
    },
    {
     "data": {
      "application/vnd.jupyter.widget-view+json": {
       "model_id": "aa96b8c1800041c99ceade3c97b4415e",
       "version_major": 2,
       "version_minor": 0
      },
      "text/plain": [
       "generated/SoySEC_standards_39a_03142018.MSGF+.pride.mztab.gz:   0%|          | 0.00/14.3M [00:00<?, ?b/s]"
      ]
     },
     "metadata": {},
     "output_type": "display_data"
    },
    {
     "data": {
      "application/vnd.jupyter.widget-view+json": {
       "model_id": "49c8403b9c3a44fea7111e53d200ade0",
       "version_major": 2,
       "version_minor": 0
      },
      "text/plain": [
       "generated/SoySEC_standards_40a_03142018.MSGF+.pride.mztab.gz:   0%|          | 0.00/13.4M [00:00<?, ?b/s]"
      ]
     },
     "metadata": {},
     "output_type": "display_data"
    },
    {
     "data": {
      "application/vnd.jupyter.widget-view+json": {
       "model_id": "854626c6be1e4605b56f06ca34cca2c2",
       "version_major": 2,
       "version_minor": 0
      },
      "text/plain": [
       "generated/SoySEC_standards_41a_03152018.MSGF+.pride.mztab.gz:   0%|          | 0.00/12.8M [00:00<?, ?b/s]"
      ]
     },
     "metadata": {},
     "output_type": "display_data"
    },
    {
     "data": {
      "application/vnd.jupyter.widget-view+json": {
       "model_id": "2bfba5309774484da3f66fa05d149901",
       "version_major": 2,
       "version_minor": 0
      },
      "text/plain": [
       "generated/SoySEC_standards_42a_03152018.MSGF+.pride.mztab.gz:   0%|          | 0.00/13.0M [00:00<?, ?b/s]"
      ]
     },
     "metadata": {},
     "output_type": "display_data"
    },
    {
     "data": {
      "application/vnd.jupyter.widget-view+json": {
       "model_id": "ac75c216662f45f89486bf9986560536",
       "version_major": 2,
       "version_minor": 0
      },
      "text/plain": [
       "generated/SoySEC_standards_43a_03152018.MSGF+.pride.mztab.gz:   0%|          | 0.00/12.2M [00:00<?, ?b/s]"
      ]
     },
     "metadata": {},
     "output_type": "display_data"
    },
    {
     "data": {
      "application/vnd.jupyter.widget-view+json": {
       "model_id": "ac696ab990d24b27ad77f4ff19ca3246",
       "version_major": 2,
       "version_minor": 0
      },
      "text/plain": [
       "generated/SoySEC_standards_44a_03162018.MSGF+.pride.mztab.gz:   0%|          | 0.00/12.3M [00:00<?, ?b/s]"
      ]
     },
     "metadata": {},
     "output_type": "display_data"
    },
    {
     "data": {
      "application/vnd.jupyter.widget-view+json": {
       "model_id": "e4a5a4c7d013456aa13b3760a1e45715",
       "version_major": 2,
       "version_minor": 0
      },
      "text/plain": [
       "generated/SoySEC_standards_45a_03162018.MSGF+.pride.mztab.gz:   0%|          | 0.00/12.2M [00:00<?, ?b/s]"
      ]
     },
     "metadata": {},
     "output_type": "display_data"
    },
    {
     "data": {
      "application/vnd.jupyter.widget-view+json": {
       "model_id": "7ea17b5153cc47f09f73a8257f52ceca",
       "version_major": 2,
       "version_minor": 0
      },
      "text/plain": [
       "generated/SoySEC_standards_46a_03162018.MSGF+.pride.mztab.gz:   0%|          | 0.00/13.6M [00:00<?, ?b/s]"
      ]
     },
     "metadata": {},
     "output_type": "display_data"
    },
    {
     "data": {
      "application/vnd.jupyter.widget-view+json": {
       "model_id": "2b6a04be1cd14845a775f698fe9fdc7a",
       "version_major": 2,
       "version_minor": 0
      },
      "text/plain": [
       "generated/SoySEC_standards_47a_03172018.MSGF+.pride.mztab.gz:   0%|          | 0.00/13.0M [00:00<?, ?b/s]"
      ]
     },
     "metadata": {},
     "output_type": "display_data"
    },
    {
     "data": {
      "application/vnd.jupyter.widget-view+json": {
       "model_id": "3e766bbbcf0f4f23ac9514f327d2e26b",
       "version_major": 2,
       "version_minor": 0
      },
      "text/plain": [
       "generated/SoySEC_standards_48a_03172018.MSGF+.pride.mztab.gz:   0%|          | 0.00/13.1M [00:00<?, ?b/s]"
      ]
     },
     "metadata": {},
     "output_type": "display_data"
    },
    {
     "data": {
      "application/vnd.jupyter.widget-view+json": {
       "model_id": "6f885d3793434217b4e3cb3115281fec",
       "version_major": 2,
       "version_minor": 0
      },
      "text/plain": [
       "generated/SoySEC_standards_49a_03132018.MSGF+.pride.mztab.gz:   0%|          | 0.00/12.4M [00:00<?, ?b/s]"
      ]
     },
     "metadata": {},
     "output_type": "display_data"
    },
    {
     "data": {
      "application/vnd.jupyter.widget-view+json": {
       "model_id": "438465eba0f4481c91d525ae9c6e420d",
       "version_major": 2,
       "version_minor": 0
      },
      "text/plain": [
       "generated/SoySEC_standards_50a_03142018.MSGF+.pride.mztab.gz:   0%|          | 0.00/8.28M [00:00<?, ?b/s]"
      ]
     },
     "metadata": {},
     "output_type": "display_data"
    },
    {
     "data": {
      "application/vnd.jupyter.widget-view+json": {
       "model_id": "cc34b47481054472810b094364405db3",
       "version_major": 2,
       "version_minor": 0
      },
      "text/plain": [
       "generated/SoySEC_standards_51a_03142018.MSGF+.pride.mztab.gz:   0%|          | 0.00/11.5M [00:00<?, ?b/s]"
      ]
     },
     "metadata": {},
     "output_type": "display_data"
    },
    {
     "data": {
      "application/vnd.jupyter.widget-view+json": {
       "model_id": "29cfbdaa2fdc4b57a908847b5d012f95",
       "version_major": 2,
       "version_minor": 0
      },
      "text/plain": [
       "generated/SoySEC_standards_52a_03142018.MSGF+.pride.mztab.gz:   0%|          | 0.00/10.8M [00:00<?, ?b/s]"
      ]
     },
     "metadata": {},
     "output_type": "display_data"
    },
    {
     "data": {
      "application/vnd.jupyter.widget-view+json": {
       "model_id": "9e9d363d41eb4834842f52d25f12a88f",
       "version_major": 2,
       "version_minor": 0
      },
      "text/plain": [
       "generated/SoySEC_standards_53a_03152018.MSGF+.pride.mztab.gz:   0%|          | 0.00/11.0M [00:00<?, ?b/s]"
      ]
     },
     "metadata": {},
     "output_type": "display_data"
    },
    {
     "data": {
      "application/vnd.jupyter.widget-view+json": {
       "model_id": "a486d74437a44dd2b89d621756ab500f",
       "version_major": 2,
       "version_minor": 0
      },
      "text/plain": [
       "generated/SoySEC_standards_54a_03152018.MSGF+.pride.mztab.gz:   0%|          | 0.00/7.19M [00:00<?, ?b/s]"
      ]
     },
     "metadata": {},
     "output_type": "display_data"
    },
    {
     "data": {
      "application/vnd.jupyter.widget-view+json": {
       "model_id": "eb224b8e40ca486490c5c66b27b57ba1",
       "version_major": 2,
       "version_minor": 0
      },
      "text/plain": [
       "generated/SoySEC_standards_55a_03152018.MSGF+.pride.mztab.gz:   0%|          | 0.00/11.8M [00:00<?, ?b/s]"
      ]
     },
     "metadata": {},
     "output_type": "display_data"
    },
    {
     "data": {
      "application/vnd.jupyter.widget-view+json": {
       "model_id": "295fbbbff5974944a47cd093c9df7f1d",
       "version_major": 2,
       "version_minor": 0
      },
      "text/plain": [
       "generated/SoySEC_standards_56a_03162018.MSGF+.pride.mztab.gz:   0%|          | 0.00/11.2M [00:00<?, ?b/s]"
      ]
     },
     "metadata": {},
     "output_type": "display_data"
    },
    {
     "data": {
      "application/vnd.jupyter.widget-view+json": {
       "model_id": "510c6d1e60d540388b5d8ab5f48d984d",
       "version_major": 2,
       "version_minor": 0
      },
      "text/plain": [
       "generated/SoySEC_standards_57a_03162018.MSGF+.pride.mztab.gz:   0%|          | 0.00/10.1M [00:00<?, ?b/s]"
      ]
     },
     "metadata": {},
     "output_type": "display_data"
    },
    {
     "data": {
      "application/vnd.jupyter.widget-view+json": {
       "model_id": "5799d1414802471aa103671003cafe5d",
       "version_major": 2,
       "version_minor": 0
      },
      "text/plain": [
       "generated/SoySEC_standards_58a_03162018.MSGF+.pride.mztab.gz:   0%|          | 0.00/9.66M [00:00<?, ?b/s]"
      ]
     },
     "metadata": {},
     "output_type": "display_data"
    },
    {
     "data": {
      "application/vnd.jupyter.widget-view+json": {
       "model_id": "ae6b2ed9ff9e4e25a391771cf8eff9e8",
       "version_major": 2,
       "version_minor": 0
      },
      "text/plain": [
       "generated/SoySEC_standards_59a_03172018.MSGF+.pride.mztab.gz:   0%|          | 0.00/10.5M [00:00<?, ?b/s]"
      ]
     },
     "metadata": {},
     "output_type": "display_data"
    },
    {
     "data": {
      "application/vnd.jupyter.widget-view+json": {
       "model_id": "6dabe7de781d42698cc0870ba59c160a",
       "version_major": 2,
       "version_minor": 0
      },
      "text/plain": [
       "generated/SoySEC_standards_60a_03172018.MSGF+.pride.mztab.gz:   0%|          | 0.00/10.7M [00:00<?, ?b/s]"
      ]
     },
     "metadata": {},
     "output_type": "display_data"
    },
    {
     "data": {
      "application/vnd.jupyter.widget-view+json": {
       "model_id": "2ecd30fb944041ecbb4d36e16050b1ec",
       "version_major": 2,
       "version_minor": 0
      },
      "text/plain": [
       "generated/SoySEC_standards_61a_03132018.MSGF+.pride.mztab.gz:   0%|          | 0.00/10.1M [00:00<?, ?b/s]"
      ]
     },
     "metadata": {},
     "output_type": "display_data"
    },
    {
     "data": {
      "application/vnd.jupyter.widget-view+json": {
       "model_id": "e4d579d4f3d446a6bc1adc2087e8379b",
       "version_major": 2,
       "version_minor": 0
      },
      "text/plain": [
       "generated/SoySEC_standards_62a_03142018.MSGF+.pride.mztab.gz:   0%|          | 0.00/10.4M [00:00<?, ?b/s]"
      ]
     },
     "metadata": {},
     "output_type": "display_data"
    },
    {
     "data": {
      "application/vnd.jupyter.widget-view+json": {
       "model_id": "8e0286c131df4872b0f011dc06a3f766",
       "version_major": 2,
       "version_minor": 0
      },
      "text/plain": [
       "generated/SoySEC_standards_63a_03142018.MSGF+.pride.mztab.gz:   0%|          | 0.00/10.4M [00:00<?, ?b/s]"
      ]
     },
     "metadata": {},
     "output_type": "display_data"
    },
    {
     "data": {
      "application/vnd.jupyter.widget-view+json": {
       "model_id": "4e976afb05e94e058ed091d623cbfdea",
       "version_major": 2,
       "version_minor": 0
      },
      "text/plain": [
       "generated/SoySEC_standards_64a_03142018.MSGF+.pride.mztab.gz:   0%|          | 0.00/9.68M [00:00<?, ?b/s]"
      ]
     },
     "metadata": {},
     "output_type": "display_data"
    },
    {
     "data": {
      "application/vnd.jupyter.widget-view+json": {
       "model_id": "327288a7a77a41348c39008d410961fc",
       "version_major": 2,
       "version_minor": 0
      },
      "text/plain": [
       "generated/SoySEC_standards_65a_03152018.MSGF+.pride.mztab.gz:   0%|          | 0.00/11.4M [00:00<?, ?b/s]"
      ]
     },
     "metadata": {},
     "output_type": "display_data"
    },
    {
     "data": {
      "application/vnd.jupyter.widget-view+json": {
       "model_id": "1a90c38dadcd4fcfa3211e51da8e8811",
       "version_major": 2,
       "version_minor": 0
      },
      "text/plain": [
       "generated/SoySEC_standards_66a_03152018.MSGF+.pride.mztab.gz:   0%|          | 0.00/10.2M [00:00<?, ?b/s]"
      ]
     },
     "metadata": {},
     "output_type": "display_data"
    },
    {
     "data": {
      "application/vnd.jupyter.widget-view+json": {
       "model_id": "396645addd294027b4d7796b16e7909a",
       "version_major": 2,
       "version_minor": 0
      },
      "text/plain": [
       "generated/SoySEC_standards_67a_03162018.MSGF+.pride.mztab.gz:   0%|          | 0.00/8.56M [00:00<?, ?b/s]"
      ]
     },
     "metadata": {},
     "output_type": "display_data"
    },
    {
     "data": {
      "application/vnd.jupyter.widget-view+json": {
       "model_id": "b749840168e7444b9409e7be0bc8e9a8",
       "version_major": 2,
       "version_minor": 0
      },
      "text/plain": [
       "generated/SoySEC_standards_68a_03162018.MSGF+.pride.mztab.gz:   0%|          | 0.00/10.8M [00:00<?, ?b/s]"
      ]
     },
     "metadata": {},
     "output_type": "display_data"
    },
    {
     "data": {
      "application/vnd.jupyter.widget-view+json": {
       "model_id": "3cc970f8e13d48e6a87f7ddf5d33436b",
       "version_major": 2,
       "version_minor": 0
      },
      "text/plain": [
       "generated/SoySEC_standards_69a_03162018.MSGF+.pride.mztab.gz:   0%|          | 0.00/11.2M [00:00<?, ?b/s]"
      ]
     },
     "metadata": {},
     "output_type": "display_data"
    },
    {
     "data": {
      "application/vnd.jupyter.widget-view+json": {
       "model_id": "555c93c62ac44a34a908d1ba99bd9b2d",
       "version_major": 2,
       "version_minor": 0
      },
      "text/plain": [
       "generated/SoySEC_standards_70a_03172018.MSGF+.pride.mztab.gz:   0%|          | 0.00/9.03M [00:00<?, ?b/s]"
      ]
     },
     "metadata": {},
     "output_type": "display_data"
    },
    {
     "data": {
      "application/vnd.jupyter.widget-view+json": {
       "model_id": "53e25d2e56b54b60ac29de265155c4d7",
       "version_major": 2,
       "version_minor": 0
      },
      "text/plain": [
       "generated/SoySEC_standards_71a_03172018.MSGF+.pride.mztab.gz:   0%|          | 0.00/11.9M [00:00<?, ?b/s]"
      ]
     },
     "metadata": {},
     "output_type": "display_data"
    },
    {
     "data": {
      "application/vnd.jupyter.widget-view+json": {
       "model_id": "1215fb42121843a8be1e5b5a3eccd55b",
       "version_major": 2,
       "version_minor": 0
      },
      "text/plain": [
       "generated/SoySEC_standards_72a_03172018.MSGF+.pride.mztab.gz:   0%|          | 0.00/9.61M [00:00<?, ?b/s]"
      ]
     },
     "metadata": {},
     "output_type": "display_data"
    },
    {
     "data": {
      "application/vnd.jupyter.widget-view+json": {
       "model_id": "c617fe90d2584c8c80e850abfabf9bfa",
       "version_major": 2,
       "version_minor": 0
      },
      "text/plain": [
       "generated/Soy_sprout_SEC_03_1a_10212017.MSGF+.pride.mztab.gz:   0%|          | 0.00/8.91M [00:00<?, ?b/s]"
      ]
     },
     "metadata": {},
     "output_type": "display_data"
    },
    {
     "data": {
      "application/vnd.jupyter.widget-view+json": {
       "model_id": "9b0a3a1ba0d44cdcb7eeb375c08bf89c",
       "version_major": 2,
       "version_minor": 0
      },
      "text/plain": [
       "generated/Soy_sprout_SEC_04_1a_10212017.MSGF+.pride.mztab.gz:   0%|          | 0.00/10.4M [00:00<?, ?b/s]"
      ]
     },
     "metadata": {},
     "output_type": "display_data"
    },
    {
     "data": {
      "application/vnd.jupyter.widget-view+json": {
       "model_id": "2fef54f71591424a8315772bd9612496",
       "version_major": 2,
       "version_minor": 0
      },
      "text/plain": [
       "generated/Soy_sprout_SEC_05_1a_10222017.MSGF+.pride.mztab.gz:   0%|          | 0.00/9.91M [00:00<?, ?b/s]"
      ]
     },
     "metadata": {},
     "output_type": "display_data"
    },
    {
     "data": {
      "application/vnd.jupyter.widget-view+json": {
       "model_id": "68cfc5af12824aa7b89eda1289913b97",
       "version_major": 2,
       "version_minor": 0
      },
      "text/plain": [
       "generated/Soy_sprout_SEC_06_1a_10222017.MSGF+.pride.mztab.gz:   0%|          | 0.00/9.26M [00:00<?, ?b/s]"
      ]
     },
     "metadata": {},
     "output_type": "display_data"
    },
    {
     "data": {
      "application/vnd.jupyter.widget-view+json": {
       "model_id": "2c2d26dd72a041728c9709044321dc79",
       "version_major": 2,
       "version_minor": 0
      },
      "text/plain": [
       "generated/Soy_sprout_SEC_07_1a_10222017.MSGF+.pride.mztab.gz:   0%|          | 0.00/7.99M [00:00<?, ?b/s]"
      ]
     },
     "metadata": {},
     "output_type": "display_data"
    },
    {
     "data": {
      "application/vnd.jupyter.widget-view+json": {
       "model_id": "3246035a6cb34adf93e46610a59a1776",
       "version_major": 2,
       "version_minor": 0
      },
      "text/plain": [
       "generated/Soy_sprout_SEC_08_1a_10232017.MSGF+.pride.mztab.gz:   0%|          | 0.00/7.81M [00:00<?, ?b/s]"
      ]
     },
     "metadata": {},
     "output_type": "display_data"
    },
    {
     "data": {
      "application/vnd.jupyter.widget-view+json": {
       "model_id": "174a52831b4f460e8343d8633b0dd7fe",
       "version_major": 2,
       "version_minor": 0
      },
      "text/plain": [
       "generated/Soy_sprout_SEC_09_1a_10232017.MSGF+.pride.mztab.gz:   0%|          | 0.00/7.90M [00:00<?, ?b/s]"
      ]
     },
     "metadata": {},
     "output_type": "display_data"
    },
    {
     "data": {
      "application/vnd.jupyter.widget-view+json": {
       "model_id": "4d76053b3d864190b3b511c8f74eda4e",
       "version_major": 2,
       "version_minor": 0
      },
      "text/plain": [
       "generated/Soy_sprout_SEC_10_1a_10242017.MSGF+.pride.mztab.gz:   0%|          | 0.00/8.05M [00:00<?, ?b/s]"
      ]
     },
     "metadata": {},
     "output_type": "display_data"
    },
    {
     "data": {
      "application/vnd.jupyter.widget-view+json": {
       "model_id": "bf1c4c3a6c264a8a8159603b443c81a7",
       "version_major": 2,
       "version_minor": 0
      },
      "text/plain": [
       "generated/Soy_sprout_SEC_11_1a_10242017.MSGF+.pride.mztab.gz:   0%|          | 0.00/7.92M [00:00<?, ?b/s]"
      ]
     },
     "metadata": {},
     "output_type": "display_data"
    },
    {
     "data": {
      "application/vnd.jupyter.widget-view+json": {
       "model_id": "ebeb599f325843e9b8f4b8661288d089",
       "version_major": 2,
       "version_minor": 0
      },
      "text/plain": [
       "generated/Soy_sprout_SEC_12_1a_10242017.MSGF+.pride.mztab.gz:   0%|          | 0.00/8.01M [00:00<?, ?b/s]"
      ]
     },
     "metadata": {},
     "output_type": "display_data"
    },
    {
     "data": {
      "application/vnd.jupyter.widget-view+json": {
       "model_id": "aab0d96dd4154e2b9403964ecda82cd1",
       "version_major": 2,
       "version_minor": 0
      },
      "text/plain": [
       "generated/Soy_sprout_SEC_13_1a_10202017.MSGF+.pride.mztab.gz:   0%|          | 0.00/9.07M [00:00<?, ?b/s]"
      ]
     },
     "metadata": {},
     "output_type": "display_data"
    },
    {
     "data": {
      "application/vnd.jupyter.widget-view+json": {
       "model_id": "92c1b1c44514413e83bfd27d4ae77c00",
       "version_major": 2,
       "version_minor": 0
      },
      "text/plain": [
       "generated/Soy_sprout_SEC_14_1a_10212017.MSGF+.pride.mztab.gz:   0%|          | 0.00/9.24M [00:00<?, ?b/s]"
      ]
     },
     "metadata": {},
     "output_type": "display_data"
    },
    {
     "data": {
      "application/vnd.jupyter.widget-view+json": {
       "model_id": "2606aba50fef43d69f49a4cf7665ea74",
       "version_major": 2,
       "version_minor": 0
      },
      "text/plain": [
       "generated/Soy_sprout_SEC_15_1a_10212017.MSGF+.pride.mztab.gz:   0%|          | 0.00/9.36M [00:00<?, ?b/s]"
      ]
     },
     "metadata": {},
     "output_type": "display_data"
    },
    {
     "data": {
      "application/vnd.jupyter.widget-view+json": {
       "model_id": "b5c68476597f4b1fbfb5eb0eb82acf67",
       "version_major": 2,
       "version_minor": 0
      },
      "text/plain": [
       "generated/Soy_sprout_SEC_16_1a_10212017.MSGF+.pride.mztab.gz:   0%|          | 0.00/9.11M [00:00<?, ?b/s]"
      ]
     },
     "metadata": {},
     "output_type": "display_data"
    },
    {
     "data": {
      "application/vnd.jupyter.widget-view+json": {
       "model_id": "ac6367fa55ae467bbcaf7a4f64fb26f3",
       "version_major": 2,
       "version_minor": 0
      },
      "text/plain": [
       "generated/Soy_sprout_SEC_17_1a_10222017.MSGF+.pride.mztab.gz:   0%|          | 0.00/9.49M [00:00<?, ?b/s]"
      ]
     },
     "metadata": {},
     "output_type": "display_data"
    },
    {
     "data": {
      "application/vnd.jupyter.widget-view+json": {
       "model_id": "f9c496c251f2407683c7432eacf15cac",
       "version_major": 2,
       "version_minor": 0
      },
      "text/plain": [
       "generated/Soy_sprout_SEC_18_1a_10222017.MSGF+.pride.mztab.gz:   0%|          | 0.00/9.00M [00:00<?, ?b/s]"
      ]
     },
     "metadata": {},
     "output_type": "display_data"
    },
    {
     "data": {
      "application/vnd.jupyter.widget-view+json": {
       "model_id": "a430eb0555bb4fd1bd93ca384d2a5fc2",
       "version_major": 2,
       "version_minor": 0
      },
      "text/plain": [
       "generated/Soy_sprout_SEC_19_1a_10232017.MSGF+.pride.mztab.gz:   0%|          | 0.00/6.41M [00:00<?, ?b/s]"
      ]
     },
     "metadata": {},
     "output_type": "display_data"
    },
    {
     "data": {
      "application/vnd.jupyter.widget-view+json": {
       "model_id": "7772f843b4e04dbdacd010c312808af6",
       "version_major": 2,
       "version_minor": 0
      },
      "text/plain": [
       "generated/Soy_sprout_SEC_20_1a_10232017.MSGF+.pride.mztab.gz:   0%|          | 0.00/6.96M [00:00<?, ?b/s]"
      ]
     },
     "metadata": {},
     "output_type": "display_data"
    },
    {
     "data": {
      "application/vnd.jupyter.widget-view+json": {
       "model_id": "1a9cd554120249e5bdbe8a378c14e00a",
       "version_major": 2,
       "version_minor": 0
      },
      "text/plain": [
       "generated/Soy_sprout_SEC_21_1a_10232017.MSGF+.pride.mztab.gz:   0%|          | 0.00/8.22M [00:00<?, ?b/s]"
      ]
     },
     "metadata": {},
     "output_type": "display_data"
    },
    {
     "data": {
      "application/vnd.jupyter.widget-view+json": {
       "model_id": "23bd27fdb1ce479080e957f81d2a1e54",
       "version_major": 2,
       "version_minor": 0
      },
      "text/plain": [
       "generated/Soy_sprout_SEC_22_1a_10242017.MSGF+.pride.mztab.gz:   0%|          | 0.00/9.15M [00:00<?, ?b/s]"
      ]
     },
     "metadata": {},
     "output_type": "display_data"
    },
    {
     "data": {
      "application/vnd.jupyter.widget-view+json": {
       "model_id": "7dfe20a8086f446cb2ccc45e0524c440",
       "version_major": 2,
       "version_minor": 0
      },
      "text/plain": [
       "generated/Soy_sprout_SEC_23_1a_10242017.MSGF+.pride.mztab.gz:   0%|          | 0.00/9.87M [00:00<?, ?b/s]"
      ]
     },
     "metadata": {},
     "output_type": "display_data"
    },
    {
     "data": {
      "application/vnd.jupyter.widget-view+json": {
       "model_id": "8072d76025fa4ece990366abd13de08d",
       "version_major": 2,
       "version_minor": 0
      },
      "text/plain": [
       "generated/Soy_sprout_SEC_24_1a_10242017.MSGF+.pride.mztab.gz:   0%|          | 0.00/9.72M [00:00<?, ?b/s]"
      ]
     },
     "metadata": {},
     "output_type": "display_data"
    },
    {
     "data": {
      "application/vnd.jupyter.widget-view+json": {
       "model_id": "c5d1429efcc64077a36dcfab5fd3a730",
       "version_major": 2,
       "version_minor": 0
      },
      "text/plain": [
       "generated/Soy_sprout_SEC_25_1a_10202017.MSGF+.pride.mztab.gz:   0%|          | 0.00/10.0M [00:00<?, ?b/s]"
      ]
     },
     "metadata": {},
     "output_type": "display_data"
    },
    {
     "data": {
      "application/vnd.jupyter.widget-view+json": {
       "model_id": "b031980be3dd453d80d423a398e244b0",
       "version_major": 2,
       "version_minor": 0
      },
      "text/plain": [
       "generated/Soy_sprout_SEC_26_1a_10212017.MSGF+.pride.mztab.gz:   0%|          | 0.00/9.75M [00:00<?, ?b/s]"
      ]
     },
     "metadata": {},
     "output_type": "display_data"
    },
    {
     "data": {
      "application/vnd.jupyter.widget-view+json": {
       "model_id": "dce49d19283444f69bf1303f253513e6",
       "version_major": 2,
       "version_minor": 0
      },
      "text/plain": [
       "generated/Soy_sprout_SEC_27_1a_10212017.MSGF+.pride.mztab.gz:   0%|          | 0.00/9.57M [00:00<?, ?b/s]"
      ]
     },
     "metadata": {},
     "output_type": "display_data"
    },
    {
     "data": {
      "application/vnd.jupyter.widget-view+json": {
       "model_id": "0506261d1afc4bb3ba6e6f449aca39e0",
       "version_major": 2,
       "version_minor": 0
      },
      "text/plain": [
       "generated/Soy_sprout_SEC_28_1a_10212017.MSGF+.pride.mztab.gz:   0%|          | 0.00/9.32M [00:00<?, ?b/s]"
      ]
     },
     "metadata": {},
     "output_type": "display_data"
    },
    {
     "data": {
      "application/vnd.jupyter.widget-view+json": {
       "model_id": "1a834f5b8e5b420ab947b4ca5d08426e",
       "version_major": 2,
       "version_minor": 0
      },
      "text/plain": [
       "generated/Soy_sprout_SEC_29_1a_10222017.MSGF+.pride.mztab.gz:   0%|          | 0.00/8.79M [00:00<?, ?b/s]"
      ]
     },
     "metadata": {},
     "output_type": "display_data"
    },
    {
     "data": {
      "application/vnd.jupyter.widget-view+json": {
       "model_id": "cc7e46fd0e0641868aa0705a28bae4f8",
       "version_major": 2,
       "version_minor": 0
      },
      "text/plain": [
       "generated/Soy_sprout_SEC_30_1a_10222017.MSGF+.pride.mztab.gz:   0%|          | 0.00/8.54M [00:00<?, ?b/s]"
      ]
     },
     "metadata": {},
     "output_type": "display_data"
    },
    {
     "data": {
      "application/vnd.jupyter.widget-view+json": {
       "model_id": "9405ecd94c4b499495b19ae6d2ae00f3",
       "version_major": 2,
       "version_minor": 0
      },
      "text/plain": [
       "generated/Soy_sprout_SEC_31_1a_10232017.MSGF+.pride.mztab.gz:   0%|          | 0.00/8.75M [00:00<?, ?b/s]"
      ]
     },
     "metadata": {},
     "output_type": "display_data"
    },
    {
     "data": {
      "application/vnd.jupyter.widget-view+json": {
       "model_id": "27c6a01a7cb542659ffcbbf0e0d8a032",
       "version_major": 2,
       "version_minor": 0
      },
      "text/plain": [
       "generated/Soy_sprout_SEC_32_1a_10232017.MSGF+.pride.mztab.gz:   0%|          | 0.00/8.55M [00:00<?, ?b/s]"
      ]
     },
     "metadata": {},
     "output_type": "display_data"
    },
    {
     "data": {
      "application/vnd.jupyter.widget-view+json": {
       "model_id": "d9f58dd85c7242bfa8d9ee79a5a19b47",
       "version_major": 2,
       "version_minor": 0
      },
      "text/plain": [
       "generated/Soy_sprout_SEC_33_1a_10232017.MSGF+.pride.mztab.gz:   0%|          | 0.00/8.35M [00:00<?, ?b/s]"
      ]
     },
     "metadata": {},
     "output_type": "display_data"
    },
    {
     "data": {
      "application/vnd.jupyter.widget-view+json": {
       "model_id": "c09af6980fa045899f785c8f2caec007",
       "version_major": 2,
       "version_minor": 0
      },
      "text/plain": [
       "generated/Soy_sprout_SEC_34_1a_10242017.MSGF+.pride.mztab.gz:   0%|          | 0.00/8.99M [00:00<?, ?b/s]"
      ]
     },
     "metadata": {},
     "output_type": "display_data"
    },
    {
     "data": {
      "application/vnd.jupyter.widget-view+json": {
       "model_id": "bbe93c53814d4b86b66daecd9e10f096",
       "version_major": 2,
       "version_minor": 0
      },
      "text/plain": [
       "generated/Soy_sprout_SEC_35_1a_10242017.MSGF+.pride.mztab.gz:   0%|          | 0.00/9.03M [00:00<?, ?b/s]"
      ]
     },
     "metadata": {},
     "output_type": "display_data"
    },
    {
     "data": {
      "application/vnd.jupyter.widget-view+json": {
       "model_id": "a8559482635742c7b42128b146190ca5",
       "version_major": 2,
       "version_minor": 0
      },
      "text/plain": [
       "generated/Soy_sprout_SEC_36_1a_10242017.MSGF+.pride.mztab.gz:   0%|          | 0.00/8.59M [00:00<?, ?b/s]"
      ]
     },
     "metadata": {},
     "output_type": "display_data"
    },
    {
     "data": {
      "application/vnd.jupyter.widget-view+json": {
       "model_id": "58b4b23c9f924c8c96febe29d09c3dcc",
       "version_major": 2,
       "version_minor": 0
      },
      "text/plain": [
       "generated/Soy_sprout_SEC_37_1a_10202017.MSGF+.pride.mztab.gz:   0%|          | 0.00/9.11M [00:00<?, ?b/s]"
      ]
     },
     "metadata": {},
     "output_type": "display_data"
    },
    {
     "data": {
      "application/vnd.jupyter.widget-view+json": {
       "model_id": "2aca59b3866343ab8041aacd7ccc4f67",
       "version_major": 2,
       "version_minor": 0
      },
      "text/plain": [
       "generated/Soy_sprout_SEC_38_1a_10212017.MSGF+.pride.mztab.gz:   0%|          | 0.00/9.00M [00:00<?, ?b/s]"
      ]
     },
     "metadata": {},
     "output_type": "display_data"
    },
    {
     "data": {
      "application/vnd.jupyter.widget-view+json": {
       "model_id": "59baec27084f44b5ad971556717e81a4",
       "version_major": 2,
       "version_minor": 0
      },
      "text/plain": [
       "generated/Soy_sprout_SEC_39_1a_10212017.MSGF+.pride.mztab.gz:   0%|          | 0.00/8.33M [00:00<?, ?b/s]"
      ]
     },
     "metadata": {},
     "output_type": "display_data"
    },
    {
     "data": {
      "application/vnd.jupyter.widget-view+json": {
       "model_id": "1c66d6343aa749f7bd60fea7db7fa96d",
       "version_major": 2,
       "version_minor": 0
      },
      "text/plain": [
       "generated/Soy_sprout_SEC_40_1a_10212017.MSGF+.pride.mztab.gz:   0%|          | 0.00/8.11M [00:00<?, ?b/s]"
      ]
     },
     "metadata": {},
     "output_type": "display_data"
    },
    {
     "data": {
      "application/vnd.jupyter.widget-view+json": {
       "model_id": "d92a4d51efda469097d860eb7f9eab1b",
       "version_major": 2,
       "version_minor": 0
      },
      "text/plain": [
       "generated/Soy_sprout_SEC_41_1a_10222017.MSGF+.pride.mztab.gz:   0%|          | 0.00/6.52M [00:00<?, ?b/s]"
      ]
     },
     "metadata": {},
     "output_type": "display_data"
    },
    {
     "data": {
      "application/vnd.jupyter.widget-view+json": {
       "model_id": "7eba8374cbf04aee9bdd438d8b41b931",
       "version_major": 2,
       "version_minor": 0
      },
      "text/plain": [
       "generated/Soy_sprout_SEC_42_1a_10222017.MSGF+.pride.mztab.gz:   0%|          | 0.00/6.83M [00:00<?, ?b/s]"
      ]
     },
     "metadata": {},
     "output_type": "display_data"
    },
    {
     "data": {
      "application/vnd.jupyter.widget-view+json": {
       "model_id": "d9d4b0150f11423b8459ca0bbced3baa",
       "version_major": 2,
       "version_minor": 0
      },
      "text/plain": [
       "generated/Soy_sprout_SEC_43_1a_10232017.MSGF+.pride.mztab.gz:   0%|          | 0.00/6.89M [00:00<?, ?b/s]"
      ]
     },
     "metadata": {},
     "output_type": "display_data"
    },
    {
     "data": {
      "application/vnd.jupyter.widget-view+json": {
       "model_id": "3a6f816966b549848f5eff8b0854bbc4",
       "version_major": 2,
       "version_minor": 0
      },
      "text/plain": [
       "generated/Soy_sprout_SEC_44_1a_10232017.MSGF+.pride.mztab.gz:   0%|          | 0.00/6.38M [00:00<?, ?b/s]"
      ]
     },
     "metadata": {},
     "output_type": "display_data"
    },
    {
     "data": {
      "application/vnd.jupyter.widget-view+json": {
       "model_id": "6f8c6ed5005441218eb349c181cbbab6",
       "version_major": 2,
       "version_minor": 0
      },
      "text/plain": [
       "generated/Soy_sprout_SEC_45_1a_10232017.MSGF+.pride.mztab.gz:   0%|          | 0.00/6.09M [00:00<?, ?b/s]"
      ]
     },
     "metadata": {},
     "output_type": "display_data"
    },
    {
     "data": {
      "application/vnd.jupyter.widget-view+json": {
       "model_id": "b4ce51ae87334ebf94ac45a12bdce2bc",
       "version_major": 2,
       "version_minor": 0
      },
      "text/plain": [
       "generated/Soy_sprout_SEC_46_1a_10242017.MSGF+.pride.mztab.gz:   0%|          | 0.00/5.04M [00:00<?, ?b/s]"
      ]
     },
     "metadata": {},
     "output_type": "display_data"
    },
    {
     "data": {
      "application/vnd.jupyter.widget-view+json": {
       "model_id": "f299e850f7024d1e876da06dcba003a8",
       "version_major": 2,
       "version_minor": 0
      },
      "text/plain": [
       "generated/Soy_sprout_SEC_47_1a_10242017.MSGF+.pride.mztab.gz:   0%|          | 0.00/4.98M [00:00<?, ?b/s]"
      ]
     },
     "metadata": {},
     "output_type": "display_data"
    },
    {
     "data": {
      "application/vnd.jupyter.widget-view+json": {
       "model_id": "00a366839e4541608e30ec1d0b3d2d25",
       "version_major": 2,
       "version_minor": 0
      },
      "text/plain": [
       "generated/Soy_sprout_SEC_48_1a_10242017.MSGF+.pride.mztab.gz:   0%|          | 0.00/3.85M [00:00<?, ?b/s]"
      ]
     },
     "metadata": {},
     "output_type": "display_data"
    },
    {
     "data": {
      "application/vnd.jupyter.widget-view+json": {
       "model_id": "ff3a8159cf424380a1d9d4f01e4c1782",
       "version_major": 2,
       "version_minor": 0
      },
      "text/plain": [
       "generated/Soy_sprout_SEC_49_1a_10202017.MSGF+.pride.mztab.gz:   0%|          | 0.00/5.48M [00:00<?, ?b/s]"
      ]
     },
     "metadata": {},
     "output_type": "display_data"
    },
    {
     "data": {
      "application/vnd.jupyter.widget-view+json": {
       "model_id": "5a5b116799bb4363a5d990553a4a158e",
       "version_major": 2,
       "version_minor": 0
      },
      "text/plain": [
       "generated/Soy_sprout_SEC_50_1a_10212017.MSGF+.pride.mztab.gz:   0%|          | 0.00/5.23M [00:00<?, ?b/s]"
      ]
     },
     "metadata": {},
     "output_type": "display_data"
    },
    {
     "data": {
      "application/vnd.jupyter.widget-view+json": {
       "model_id": "cf1d09091d5648f9903dfe2afe1b4914",
       "version_major": 2,
       "version_minor": 0
      },
      "text/plain": [
       "generated/Soy_sprout_SEC_51_1a_10212017.MSGF+.pride.mztab.gz:   0%|          | 0.00/4.90M [00:00<?, ?b/s]"
      ]
     },
     "metadata": {},
     "output_type": "display_data"
    },
    {
     "data": {
      "application/vnd.jupyter.widget-view+json": {
       "model_id": "a964e86b3a584b2ca25956aec413afa4",
       "version_major": 2,
       "version_minor": 0
      },
      "text/plain": [
       "generated/Soy_sprout_SEC_52_1a_10222017.MSGF+.pride.mztab.gz:   0%|          | 0.00/4.59M [00:00<?, ?b/s]"
      ]
     },
     "metadata": {},
     "output_type": "display_data"
    },
    {
     "data": {
      "application/vnd.jupyter.widget-view+json": {
       "model_id": "9a4550c32e7745b0b3e77555636feb5a",
       "version_major": 2,
       "version_minor": 0
      },
      "text/plain": [
       "generated/Soy_sprout_SEC_53_1a_10222017.MSGF+.pride.mztab.gz:   0%|          | 0.00/4.60M [00:00<?, ?b/s]"
      ]
     },
     "metadata": {},
     "output_type": "display_data"
    },
    {
     "data": {
      "application/vnd.jupyter.widget-view+json": {
       "model_id": "6a009560b80148af981b531651156ef0",
       "version_major": 2,
       "version_minor": 0
      },
      "text/plain": [
       "generated/Soy_sprout_SEC_54_1a_10222017.MSGF+.pride.mztab.gz:   0%|          | 0.00/4.26M [00:00<?, ?b/s]"
      ]
     },
     "metadata": {},
     "output_type": "display_data"
    },
    {
     "data": {
      "application/vnd.jupyter.widget-view+json": {
       "model_id": "57e48e38a85944e58afe3e31f951203f",
       "version_major": 2,
       "version_minor": 0
      },
      "text/plain": [
       "generated/Soy_sprout_SEC_55_1a_10232017.MSGF+.pride.mztab.gz:   0%|          | 0.00/4.19M [00:00<?, ?b/s]"
      ]
     },
     "metadata": {},
     "output_type": "display_data"
    },
    {
     "data": {
      "application/vnd.jupyter.widget-view+json": {
       "model_id": "7ed8b56aacfa42779c8efb6f6180c79e",
       "version_major": 2,
       "version_minor": 0
      },
      "text/plain": [
       "generated/Soy_sprout_SEC_56_1a_10232017.MSGF+.pride.mztab.gz:   0%|          | 0.00/4.08M [00:00<?, ?b/s]"
      ]
     },
     "metadata": {},
     "output_type": "display_data"
    },
    {
     "data": {
      "application/vnd.jupyter.widget-view+json": {
       "model_id": "1b7a1a5b22034466909201863c88ab58",
       "version_major": 2,
       "version_minor": 0
      },
      "text/plain": [
       "generated/Soy_sprout_SEC_57_1a_10242017.MSGF+.pride.mztab.gz:   0%|          | 0.00/3.05M [00:00<?, ?b/s]"
      ]
     },
     "metadata": {},
     "output_type": "display_data"
    },
    {
     "data": {
      "application/vnd.jupyter.widget-view+json": {
       "model_id": "3695d1601ce14f2eb10bc0f03c227318",
       "version_major": 2,
       "version_minor": 0
      },
      "text/plain": [
       "generated/Soy_sprout_SEC_58_1a_10242017.MSGF+.pride.mztab.gz:   0%|          | 0.00/3.02M [00:00<?, ?b/s]"
      ]
     },
     "metadata": {},
     "output_type": "display_data"
    },
    {
     "data": {
      "application/vnd.jupyter.widget-view+json": {
       "model_id": "bfd2eaa3e7bc4af99d53e16be69555b7",
       "version_major": 2,
       "version_minor": 0
      },
      "text/plain": [
       "generated/Soy_sprout_SEC_59_1a_10242017.MSGF+.pride.mztab.gz:   0%|          | 0.00/2.89M [00:00<?, ?b/s]"
      ]
     },
     "metadata": {},
     "output_type": "display_data"
    },
    {
     "data": {
      "application/vnd.jupyter.widget-view+json": {
       "model_id": "3ff90d339cd0409399d1476ebc54186b",
       "version_major": 2,
       "version_minor": 0
      },
      "text/plain": [
       "generated/Soy_sprout_SEC_60_1a_10242017.MSGF+.pride.mztab.gz:   0%|          | 0.00/4.10M [00:00<?, ?b/s]"
      ]
     },
     "metadata": {},
     "output_type": "display_data"
    },
    {
     "data": {
      "application/vnd.jupyter.widget-view+json": {
       "model_id": "7ab183b57cf4439bbf2bca57ed7cf53b",
       "version_major": 2,
       "version_minor": 0
      },
      "text/plain": [
       "generated/Soy_sprout_SEC_61_1a_10202017.MSGF+.pride.mztab.gz:   0%|          | 0.00/3.61M [00:00<?, ?b/s]"
      ]
     },
     "metadata": {},
     "output_type": "display_data"
    },
    {
     "data": {
      "application/vnd.jupyter.widget-view+json": {
       "model_id": "a549b124f62a4fa998ea04c2f2d693ec",
       "version_major": 2,
       "version_minor": 0
      },
      "text/plain": [
       "generated/Soy_sprout_SEC_62_1a_10212017.MSGF+.pride.mztab.gz:   0%|          | 0.00/3.19M [00:00<?, ?b/s]"
      ]
     },
     "metadata": {},
     "output_type": "display_data"
    },
    {
     "data": {
      "application/vnd.jupyter.widget-view+json": {
       "model_id": "394502bdc0104e0aa7129d5e442ce6d6",
       "version_major": 2,
       "version_minor": 0
      },
      "text/plain": [
       "generated/Soy_sprout_SEC_63_1a_10212017.MSGF+.pride.mztab.gz:   0%|          | 0.00/3.15M [00:00<?, ?b/s]"
      ]
     },
     "metadata": {},
     "output_type": "display_data"
    },
    {
     "data": {
      "application/vnd.jupyter.widget-view+json": {
       "model_id": "ec8c0cde27d240229b76d8b0c35d37b3",
       "version_major": 2,
       "version_minor": 0
      },
      "text/plain": [
       "generated/Soy_sprout_SEC_64_1a_10222017.MSGF+.pride.mztab.gz:   0%|          | 0.00/3.13M [00:00<?, ?b/s]"
      ]
     },
     "metadata": {},
     "output_type": "display_data"
    },
    {
     "data": {
      "application/vnd.jupyter.widget-view+json": {
       "model_id": "ba4c40bcacdd470ca8fb2a8b4c350125",
       "version_major": 2,
       "version_minor": 0
      },
      "text/plain": [
       "generated/Soy_sprout_SEC_65_1a_10222017.MSGF+.pride.mztab.gz:   0%|          | 0.00/3.04M [00:00<?, ?b/s]"
      ]
     },
     "metadata": {},
     "output_type": "display_data"
    },
    {
     "data": {
      "application/vnd.jupyter.widget-view+json": {
       "model_id": "d32a18e67a8945c3a2a23a5d305eddff",
       "version_major": 2,
       "version_minor": 0
      },
      "text/plain": [
       "generated/Soy_sprout_SEC_66_1a_10222017.MSGF+.pride.mztab.gz:   0%|          | 0.00/2.86M [00:00<?, ?b/s]"
      ]
     },
     "metadata": {},
     "output_type": "display_data"
    },
    {
     "data": {
      "application/vnd.jupyter.widget-view+json": {
       "model_id": "3ad2d8e8898f43c49036665d5730cf3e",
       "version_major": 2,
       "version_minor": 0
      },
      "text/plain": [
       "generated/Soy_sprout_SEC_67_1a_10232017.MSGF+.pride.mztab.gz:   0%|          | 0.00/3.37M [00:00<?, ?b/s]"
      ]
     },
     "metadata": {},
     "output_type": "display_data"
    },
    {
     "data": {
      "application/vnd.jupyter.widget-view+json": {
       "model_id": "c1e411197e4042169d2e8a844e188f3f",
       "version_major": 2,
       "version_minor": 0
      },
      "text/plain": [
       "generated/Soy_sprout_SEC_68_1a_10232017.MSGF+.pride.mztab.gz:   0%|          | 0.00/3.08M [00:00<?, ?b/s]"
      ]
     },
     "metadata": {},
     "output_type": "display_data"
    },
    {
     "data": {
      "application/vnd.jupyter.widget-view+json": {
       "model_id": "2a32a24d273e474394a7c9fded25f71e",
       "version_major": 2,
       "version_minor": 0
      },
      "text/plain": [
       "generated/Soy_sprout_SEC_69_1a_10242017.MSGF+.pride.mztab.gz:   0%|          | 0.00/2.17M [00:00<?, ?b/s]"
      ]
     },
     "metadata": {},
     "output_type": "display_data"
    },
    {
     "name": "stdout",
     "output_type": "stream",
     "text": [
      "Downloading projetc:PXD000160\n"
     ]
    },
    {
     "data": {
      "application/vnd.jupyter.widget-view+json": {
       "model_id": "397b408837a048888301f00d4f2a2def",
       "version_major": 2,
       "version_minor": 0
      },
      "text/plain": [
       "TOTAL:   0%|          | 0/24 [00:00<?, ?files/s]"
      ]
     },
     "metadata": {},
     "output_type": "display_data"
    },
    {
     "data": {
      "application/vnd.jupyter.widget-view+json": {
       "model_id": "7836d4770e9947478b08949ff848b6eb",
       "version_major": 2,
       "version_minor": 0
      },
      "text/plain": [
       "generated/PRIDE_Exp_Complete_Ac_28646.pride.mztab.gz:   0%|          | 0.00/343k [00:00<?, ?b/s]"
      ]
     },
     "metadata": {},
     "output_type": "display_data"
    },
    {
     "data": {
      "application/vnd.jupyter.widget-view+json": {
       "model_id": "aa9aa018ce014595bdef4eeda650d553",
       "version_major": 2,
       "version_minor": 0
      },
      "text/plain": [
       "generated/PRIDE_Exp_Complete_Ac_28647.pride.mztab.gz:   0%|          | 0.00/414k [00:00<?, ?b/s]"
      ]
     },
     "metadata": {},
     "output_type": "display_data"
    },
    {
     "data": {
      "application/vnd.jupyter.widget-view+json": {
       "model_id": "c08bde310114497684ce9e9aa93ba26c",
       "version_major": 2,
       "version_minor": 0
      },
      "text/plain": [
       "generated/PRIDE_Exp_Complete_Ac_28648.pride.mztab.gz:   0%|          | 0.00/411k [00:00<?, ?b/s]"
      ]
     },
     "metadata": {},
     "output_type": "display_data"
    },
    {
     "data": {
      "application/vnd.jupyter.widget-view+json": {
       "model_id": "a79d1743350f4157ba881d0b653b8f59",
       "version_major": 2,
       "version_minor": 0
      },
      "text/plain": [
       "generated/PRIDE_Exp_Complete_Ac_28649.pride.mztab.gz:   0%|          | 0.00/366k [00:00<?, ?b/s]"
      ]
     },
     "metadata": {},
     "output_type": "display_data"
    },
    {
     "data": {
      "application/vnd.jupyter.widget-view+json": {
       "model_id": "17e5d023076e4860a5ef067dfa600e27",
       "version_major": 2,
       "version_minor": 0
      },
      "text/plain": [
       "generated/PRIDE_Exp_Complete_Ac_28650.pride.mztab.gz:   0%|          | 0.00/401k [00:00<?, ?b/s]"
      ]
     },
     "metadata": {},
     "output_type": "display_data"
    },
    {
     "data": {
      "application/vnd.jupyter.widget-view+json": {
       "model_id": "cee5c43d13e14c3e8bf925092652a2fd",
       "version_major": 2,
       "version_minor": 0
      },
      "text/plain": [
       "generated/PRIDE_Exp_Complete_Ac_28651.pride.mztab.gz:   0%|          | 0.00/384k [00:00<?, ?b/s]"
      ]
     },
     "metadata": {},
     "output_type": "display_data"
    },
    {
     "data": {
      "application/vnd.jupyter.widget-view+json": {
       "model_id": "37a1d6662747496f9ee5693c67a4ce47",
       "version_major": 2,
       "version_minor": 0
      },
      "text/plain": [
       "generated/PRIDE_Exp_Complete_Ac_28652.pride.mztab.gz:   0%|          | 0.00/455k [00:00<?, ?b/s]"
      ]
     },
     "metadata": {},
     "output_type": "display_data"
    },
    {
     "data": {
      "application/vnd.jupyter.widget-view+json": {
       "model_id": "7e1fd9a3cd0b41fa9219ee9ece1d4d50",
       "version_major": 2,
       "version_minor": 0
      },
      "text/plain": [
       "generated/PRIDE_Exp_Complete_Ac_28653.pride.mztab.gz:   0%|          | 0.00/384k [00:00<?, ?b/s]"
      ]
     },
     "metadata": {},
     "output_type": "display_data"
    },
    {
     "data": {
      "application/vnd.jupyter.widget-view+json": {
       "model_id": "02e2dca362ab4e708b62b1bcb7ad849b",
       "version_major": 2,
       "version_minor": 0
      },
      "text/plain": [
       "generated/PRIDE_Exp_Complete_Ac_28654.pride.mztab.gz:   0%|          | 0.00/362k [00:00<?, ?b/s]"
      ]
     },
     "metadata": {},
     "output_type": "display_data"
    },
    {
     "data": {
      "application/vnd.jupyter.widget-view+json": {
       "model_id": "1b685484e61f47809b7a9950cae1e1b3",
       "version_major": 2,
       "version_minor": 0
      },
      "text/plain": [
       "generated/PRIDE_Exp_Complete_Ac_28655.pride.mztab.gz:   0%|          | 0.00/445k [00:00<?, ?b/s]"
      ]
     },
     "metadata": {},
     "output_type": "display_data"
    },
    {
     "data": {
      "application/vnd.jupyter.widget-view+json": {
       "model_id": "9dcb989e15c44a0abf91d00b54c02360",
       "version_major": 2,
       "version_minor": 0
      },
      "text/plain": [
       "generated/PRIDE_Exp_Complete_Ac_28656.pride.mztab.gz:   0%|          | 0.00/346k [00:00<?, ?b/s]"
      ]
     },
     "metadata": {},
     "output_type": "display_data"
    },
    {
     "data": {
      "application/vnd.jupyter.widget-view+json": {
       "model_id": "33fd7dee29814114b216410ff3452a98",
       "version_major": 2,
       "version_minor": 0
      },
      "text/plain": [
       "generated/PRIDE_Exp_Complete_Ac_28657.pride.mztab.gz:   0%|          | 0.00/396k [00:00<?, ?b/s]"
      ]
     },
     "metadata": {},
     "output_type": "display_data"
    },
    {
     "data": {
      "application/vnd.jupyter.widget-view+json": {
       "model_id": "963ac29a047d408d9a0d66a4b1b09da8",
       "version_major": 2,
       "version_minor": 0
      },
      "text/plain": [
       "generated/PRIDE_Exp_Complete_Ac_28658.pride.mztab.gz:   0%|          | 0.00/458k [00:00<?, ?b/s]"
      ]
     },
     "metadata": {},
     "output_type": "display_data"
    },
    {
     "data": {
      "application/vnd.jupyter.widget-view+json": {
       "model_id": "39944561da4a413ea30f88dfaf4ae4e8",
       "version_major": 2,
       "version_minor": 0
      },
      "text/plain": [
       "generated/PRIDE_Exp_Complete_Ac_28659.pride.mztab.gz:   0%|          | 0.00/446k [00:00<?, ?b/s]"
      ]
     },
     "metadata": {},
     "output_type": "display_data"
    },
    {
     "data": {
      "application/vnd.jupyter.widget-view+json": {
       "model_id": "61bf97104b7445089c5278ced8c9c03b",
       "version_major": 2,
       "version_minor": 0
      },
      "text/plain": [
       "generated/PRIDE_Exp_Complete_Ac_28660.pride.mztab.gz:   0%|          | 0.00/451k [00:00<?, ?b/s]"
      ]
     },
     "metadata": {},
     "output_type": "display_data"
    },
    {
     "data": {
      "application/vnd.jupyter.widget-view+json": {
       "model_id": "e49cb8a3efae4c8fadbbf134e3895e55",
       "version_major": 2,
       "version_minor": 0
      },
      "text/plain": [
       "generated/PRIDE_Exp_Complete_Ac_28661.pride.mztab.gz:   0%|          | 0.00/462k [00:00<?, ?b/s]"
      ]
     },
     "metadata": {},
     "output_type": "display_data"
    },
    {
     "data": {
      "application/vnd.jupyter.widget-view+json": {
       "model_id": "4ebb332b47204939a8e757ed39ca8cff",
       "version_major": 2,
       "version_minor": 0
      },
      "text/plain": [
       "generated/PRIDE_Exp_Complete_Ac_28662.pride.mztab.gz:   0%|          | 0.00/431k [00:00<?, ?b/s]"
      ]
     },
     "metadata": {},
     "output_type": "display_data"
    },
    {
     "data": {
      "application/vnd.jupyter.widget-view+json": {
       "model_id": "ce1c2e4cbfac4c65ba7b6d1332dead9e",
       "version_major": 2,
       "version_minor": 0
      },
      "text/plain": [
       "generated/PRIDE_Exp_Complete_Ac_28663.pride.mztab.gz:   0%|          | 0.00/441k [00:00<?, ?b/s]"
      ]
     },
     "metadata": {},
     "output_type": "display_data"
    },
    {
     "data": {
      "application/vnd.jupyter.widget-view+json": {
       "model_id": "4dd7130998344321973437d5dce46aa7",
       "version_major": 2,
       "version_minor": 0
      },
      "text/plain": [
       "generated/PRIDE_Exp_Complete_Ac_28664.pride.mztab.gz:   0%|          | 0.00/480k [00:00<?, ?b/s]"
      ]
     },
     "metadata": {},
     "output_type": "display_data"
    },
    {
     "data": {
      "application/vnd.jupyter.widget-view+json": {
       "model_id": "41209322342542e3bbeb1cb5c0553b9c",
       "version_major": 2,
       "version_minor": 0
      },
      "text/plain": [
       "generated/PRIDE_Exp_Complete_Ac_28665.pride.mztab.gz:   0%|          | 0.00/442k [00:00<?, ?b/s]"
      ]
     },
     "metadata": {},
     "output_type": "display_data"
    },
    {
     "data": {
      "application/vnd.jupyter.widget-view+json": {
       "model_id": "83a437224c564f699157c03ab22092f5",
       "version_major": 2,
       "version_minor": 0
      },
      "text/plain": [
       "generated/PRIDE_Exp_Complete_Ac_28666.pride.mztab.gz:   0%|          | 0.00/446k [00:00<?, ?b/s]"
      ]
     },
     "metadata": {},
     "output_type": "display_data"
    },
    {
     "data": {
      "application/vnd.jupyter.widget-view+json": {
       "model_id": "90c4c826f8b1427b8c2be3da443ff13b",
       "version_major": 2,
       "version_minor": 0
      },
      "text/plain": [
       "generated/PRIDE_Exp_Complete_Ac_28667.pride.mztab.gz:   0%|          | 0.00/453k [00:00<?, ?b/s]"
      ]
     },
     "metadata": {},
     "output_type": "display_data"
    },
    {
     "data": {
      "application/vnd.jupyter.widget-view+json": {
       "model_id": "969c9f63914f4b3b99cc29526fd7cd7e",
       "version_major": 2,
       "version_minor": 0
      },
      "text/plain": [
       "generated/PRIDE_Exp_Complete_Ac_28668.pride.mztab.gz:   0%|          | 0.00/463k [00:00<?, ?b/s]"
      ]
     },
     "metadata": {},
     "output_type": "display_data"
    },
    {
     "data": {
      "application/vnd.jupyter.widget-view+json": {
       "model_id": "1e42320596394cc785fc6af103921b0a",
       "version_major": 2,
       "version_minor": 0
      },
      "text/plain": [
       "generated/PRIDE_Exp_Complete_Ac_28669.pride.mztab.gz:   0%|          | 0.00/447k [00:00<?, ?b/s]"
      ]
     },
     "metadata": {},
     "output_type": "display_data"
    },
    {
     "name": "stdout",
     "output_type": "stream",
     "text": [
      "Downloading projetc:PXD000709\n"
     ]
    },
    {
     "data": {
      "application/vnd.jupyter.widget-view+json": {
       "model_id": "3608af4df9e342ad8c2219ec55d86ea9",
       "version_major": 2,
       "version_minor": 0
      },
      "text/plain": [
       "TOTAL:   0%|          | 0/30 [00:00<?, ?files/s]"
      ]
     },
     "metadata": {},
     "output_type": "display_data"
    },
    {
     "data": {
      "application/vnd.jupyter.widget-view+json": {
       "model_id": "9d1cc8d3209d4025a739a020e6e29ed2",
       "version_major": 2,
       "version_minor": 0
      },
      "text/plain": [
       "generated/Xtandem_results.G1_D.mgf.Glycine_max_RefSeq_proteins_BC.fasta-filtered.pride.mztab.gz:   0%|        …"
      ]
     },
     "metadata": {},
     "output_type": "display_data"
    },
    {
     "data": {
      "application/vnd.jupyter.widget-view+json": {
       "model_id": "853027e3720e431ab511a27deb7cfdbb",
       "version_major": 2,
       "version_minor": 0
      },
      "text/plain": [
       "generated/Xtandem_results.G1_S.mgf.Glycine_max_RefSeq_proteins_BC.fasta-filtered.pride.mztab.gz:   0%|        …"
      ]
     },
     "metadata": {},
     "output_type": "display_data"
    },
    {
     "data": {
      "application/vnd.jupyter.widget-view+json": {
       "model_id": "cdedd7d1f3e34276ad3af6aa55248eb1",
       "version_major": 2,
       "version_minor": 0
      },
      "text/plain": [
       "generated/Xtandem_results.G1_Tr.mgf.Glycine_max_RefSeq_proteins_BC.fasta-filtered.pride.mztab.gz:   0%|       …"
      ]
     },
     "metadata": {},
     "output_type": "display_data"
    },
    {
     "data": {
      "application/vnd.jupyter.widget-view+json": {
       "model_id": "f6076d7817104a22b9c071a6ef650528",
       "version_major": 2,
       "version_minor": 0
      },
      "text/plain": [
       "generated/Xtandem_results.G1_Tw.mgf.Glycine_max_RefSeq_proteins_BC.fasta-filtered.pride.mztab.gz:   0%|       …"
      ]
     },
     "metadata": {},
     "output_type": "display_data"
    },
    {
     "data": {
      "application/vnd.jupyter.widget-view+json": {
       "model_id": "57c2b8b0ec164fa49a52020815dad1b3",
       "version_major": 2,
       "version_minor": 0
      },
      "text/plain": [
       "generated/Xtandem_results.G1_U.mgf.Glycine_max_RefSeq_proteins_BC.fasta-filtered.pride.mztab.gz:   0%|        …"
      ]
     },
     "metadata": {},
     "output_type": "display_data"
    },
    {
     "data": {
      "application/vnd.jupyter.widget-view+json": {
       "model_id": "2db722aee9e9420d8a3e6ec262323c41",
       "version_major": 2,
       "version_minor": 0
      },
      "text/plain": [
       "generated/Xtandem_results.G2_D.mgf.Glycine_max_RefSeq_proteins_BC.fasta-filtered.pride.mztab.gz:   0%|        …"
      ]
     },
     "metadata": {},
     "output_type": "display_data"
    },
    {
     "data": {
      "application/vnd.jupyter.widget-view+json": {
       "model_id": "dd8a00a15bee4944a9059e65516f89c9",
       "version_major": 2,
       "version_minor": 0
      },
      "text/plain": [
       "generated/Xtandem_results.G2_S.mgf.Glycine_max_RefSeq_proteins_BC.fasta-filtered.pride.mztab.gz:   0%|        …"
      ]
     },
     "metadata": {},
     "output_type": "display_data"
    },
    {
     "data": {
      "application/vnd.jupyter.widget-view+json": {
       "model_id": "8b188590c9b94c6cb5f021ba9f505798",
       "version_major": 2,
       "version_minor": 0
      },
      "text/plain": [
       "generated/Xtandem_results.G2_Tr.mgf.Glycine_max_RefSeq_proteins_BC.fasta-filtered.pride.mztab.gz:   0%|       …"
      ]
     },
     "metadata": {},
     "output_type": "display_data"
    },
    {
     "data": {
      "application/vnd.jupyter.widget-view+json": {
       "model_id": "e7f900c05a544a9494d2685a23c2f644",
       "version_major": 2,
       "version_minor": 0
      },
      "text/plain": [
       "generated/Xtandem_results.G2_Tw.mgf.Glycine_max_RefSeq_proteins_BC.fasta-filtered.pride.mztab.gz:   0%|       …"
      ]
     },
     "metadata": {},
     "output_type": "display_data"
    },
    {
     "data": {
      "application/vnd.jupyter.widget-view+json": {
       "model_id": "5ce0a78a0e3942c78b70da39ac711c31",
       "version_major": 2,
       "version_minor": 0
      },
      "text/plain": [
       "generated/Xtandem_results.G2_U.mgf.Glycine_max_RefSeq_proteins_BC.fasta-filtered.pride.mztab.gz:   0%|        …"
      ]
     },
     "metadata": {},
     "output_type": "display_data"
    },
    {
     "data": {
      "application/vnd.jupyter.widget-view+json": {
       "model_id": "79d531e1547244ee9b9755275daefe02",
       "version_major": 2,
       "version_minor": 0
      },
      "text/plain": [
       "generated/Xtandem_results.G3_D.mgf.Glycine_max_RefSeq_proteins_BC.fasta-filtered.pride.mztab.gz:   0%|        …"
      ]
     },
     "metadata": {},
     "output_type": "display_data"
    },
    {
     "data": {
      "application/vnd.jupyter.widget-view+json": {
       "model_id": "953c9804b9c845d09cedae354792ec62",
       "version_major": 2,
       "version_minor": 0
      },
      "text/plain": [
       "generated/Xtandem_results.G3_S.mgf.Glycine_max_RefSeq_proteins_BC.fasta-filtered.pride.mztab.gz:   0%|        …"
      ]
     },
     "metadata": {},
     "output_type": "display_data"
    },
    {
     "data": {
      "application/vnd.jupyter.widget-view+json": {
       "model_id": "f07e8d09a124427f8c3b42870e6bd085",
       "version_major": 2,
       "version_minor": 0
      },
      "text/plain": [
       "generated/Xtandem_results.G3_Tr.mgf.Glycine_max_RefSeq_proteins_BC.fasta-filtered.pride.mztab.gz:   0%|       …"
      ]
     },
     "metadata": {},
     "output_type": "display_data"
    },
    {
     "data": {
      "application/vnd.jupyter.widget-view+json": {
       "model_id": "678d45458b3e4cfbae41f3c240db7dd2",
       "version_major": 2,
       "version_minor": 0
      },
      "text/plain": [
       "generated/Xtandem_results.G3_Tw.mgf.Glycine_max_RefSeq_proteins_BC.fasta-filtered.pride.mztab.gz:   0%|       …"
      ]
     },
     "metadata": {},
     "output_type": "display_data"
    },
    {
     "data": {
      "application/vnd.jupyter.widget-view+json": {
       "model_id": "9f114c65a9c2456d9813fbb9ea53d2df",
       "version_major": 2,
       "version_minor": 0
      },
      "text/plain": [
       "generated/Xtandem_results.G3_U.mgf.Glycine_max_RefSeq_proteins_BC.fasta-filtered.pride.mztab.gz:   0%|        …"
      ]
     },
     "metadata": {},
     "output_type": "display_data"
    },
    {
     "data": {
      "application/vnd.jupyter.widget-view+json": {
       "model_id": "bc6285ee7a604630b2b19c5e3f34afc3",
       "version_major": 2,
       "version_minor": 0
      },
      "text/plain": [
       "generated/Xtandem_results.O1_D.mgf.Glycine_max_RefSeq_proteins_BC.fasta-filtered.pride.mztab.gz:   0%|        …"
      ]
     },
     "metadata": {},
     "output_type": "display_data"
    },
    {
     "data": {
      "application/vnd.jupyter.widget-view+json": {
       "model_id": "20cf0a7f21fb497b96e7cfe0949ac9e1",
       "version_major": 2,
       "version_minor": 0
      },
      "text/plain": [
       "generated/Xtandem_results.O1_S.mgf.Glycine_max_RefSeq_proteins_BC.fasta-filtered.pride.mztab.gz:   0%|        …"
      ]
     },
     "metadata": {},
     "output_type": "display_data"
    },
    {
     "data": {
      "application/vnd.jupyter.widget-view+json": {
       "model_id": "fe592222f229490398305b0375d26e49",
       "version_major": 2,
       "version_minor": 0
      },
      "text/plain": [
       "generated/Xtandem_results.O1_Tr.mgf.Glycine_max_RefSeq_proteins_BC.fasta-filtered.pride.mztab.gz:   0%|       …"
      ]
     },
     "metadata": {},
     "output_type": "display_data"
    },
    {
     "data": {
      "application/vnd.jupyter.widget-view+json": {
       "model_id": "5bc8cf46cf7f400aaed81fb957873794",
       "version_major": 2,
       "version_minor": 0
      },
      "text/plain": [
       "generated/Xtandem_results.O1_Tw.mgf.Glycine_max_RefSeq_proteins_BC.fasta-filtered.pride.mztab.gz:   0%|       …"
      ]
     },
     "metadata": {},
     "output_type": "display_data"
    },
    {
     "data": {
      "application/vnd.jupyter.widget-view+json": {
       "model_id": "eccc48d9fb8e4757ad102bb57da0340f",
       "version_major": 2,
       "version_minor": 0
      },
      "text/plain": [
       "generated/Xtandem_results.O1_U.mgf.Glycine_max_RefSeq_proteins_BC.fasta-filtered.pride.mztab.gz:   0%|        …"
      ]
     },
     "metadata": {},
     "output_type": "display_data"
    },
    {
     "data": {
      "application/vnd.jupyter.widget-view+json": {
       "model_id": "fee0692c67b444adb60830d94724d7b9",
       "version_major": 2,
       "version_minor": 0
      },
      "text/plain": [
       "generated/Xtandem_results.O2_D.mgf.Glycine_max_RefSeq_proteins_BC.fasta-filtered.pride.mztab.gz:   0%|        …"
      ]
     },
     "metadata": {},
     "output_type": "display_data"
    },
    {
     "data": {
      "application/vnd.jupyter.widget-view+json": {
       "model_id": "39c9c8c177b24aa18648634f4d4bb6ca",
       "version_major": 2,
       "version_minor": 0
      },
      "text/plain": [
       "generated/Xtandem_results.O2_S.mgf.Glycine_max_RefSeq_proteins_BC.fasta-filtered.pride.mztab.gz:   0%|        …"
      ]
     },
     "metadata": {},
     "output_type": "display_data"
    },
    {
     "data": {
      "application/vnd.jupyter.widget-view+json": {
       "model_id": "d20adaf7c07544bb815a5fc47389e966",
       "version_major": 2,
       "version_minor": 0
      },
      "text/plain": [
       "generated/Xtandem_results.O2_Tr.mgf.Glycine_max_RefSeq_proteins_BC.fasta-filtered.pride.mztab.gz:   0%|       …"
      ]
     },
     "metadata": {},
     "output_type": "display_data"
    },
    {
     "data": {
      "application/vnd.jupyter.widget-view+json": {
       "model_id": "6627b722b0784e8ab6371276bdd988be",
       "version_major": 2,
       "version_minor": 0
      },
      "text/plain": [
       "generated/Xtandem_results.O2_Tw.mgf.Glycine_max_RefSeq_proteins_BC.fasta-filtered.pride.mztab.gz:   0%|       …"
      ]
     },
     "metadata": {},
     "output_type": "display_data"
    },
    {
     "data": {
      "application/vnd.jupyter.widget-view+json": {
       "model_id": "6c3abd44dd8d4ed68a8fc05373249ea7",
       "version_major": 2,
       "version_minor": 0
      },
      "text/plain": [
       "generated/Xtandem_results.O2_U.mgf.Glycine_max_RefSeq_proteins_BC.fasta-filtered.pride.mztab.gz:   0%|        …"
      ]
     },
     "metadata": {},
     "output_type": "display_data"
    },
    {
     "data": {
      "application/vnd.jupyter.widget-view+json": {
       "model_id": "c85e4aa4297345f0b847599eb9579f2d",
       "version_major": 2,
       "version_minor": 0
      },
      "text/plain": [
       "generated/Xtandem_results.O3_D.mgf.Glycine_max_RefSeq_proteins_BC.fasta-filtered.pride.mztab.gz:   0%|        …"
      ]
     },
     "metadata": {},
     "output_type": "display_data"
    },
    {
     "data": {
      "application/vnd.jupyter.widget-view+json": {
       "model_id": "a5e2ce68c48e4e4086bb893752460083",
       "version_major": 2,
       "version_minor": 0
      },
      "text/plain": [
       "generated/Xtandem_results.O3_S.mgf.Glycine_max_RefSeq_proteins_BC.fasta-filtered.pride.mztab.gz:   0%|        …"
      ]
     },
     "metadata": {},
     "output_type": "display_data"
    },
    {
     "data": {
      "application/vnd.jupyter.widget-view+json": {
       "model_id": "7271a76e1a044872beda6a76695a4d7b",
       "version_major": 2,
       "version_minor": 0
      },
      "text/plain": [
       "generated/Xtandem_results.O3_Tr.mgf.Glycine_max_RefSeq_proteins_BC.fasta-filtered.pride.mztab.gz:   0%|       …"
      ]
     },
     "metadata": {},
     "output_type": "display_data"
    },
    {
     "data": {
      "application/vnd.jupyter.widget-view+json": {
       "model_id": "4c1e1d6c7f1f4bc184fe7b157cab1a13",
       "version_major": 2,
       "version_minor": 0
      },
      "text/plain": [
       "generated/Xtandem_results.O3_Tw.mgf.Glycine_max_RefSeq_proteins_BC.fasta-filtered.pride.mztab.gz:   0%|       …"
      ]
     },
     "metadata": {},
     "output_type": "display_data"
    },
    {
     "data": {
      "application/vnd.jupyter.widget-view+json": {
       "model_id": "25c7337039b943d1b7b671e4b8feaa75",
       "version_major": 2,
       "version_minor": 0
      },
      "text/plain": [
       "generated/Xtandem_results.O3_U.mgf.Glycine_max_RefSeq_proteins_BC.fasta-filtered.pride.mztab.gz:   0%|        …"
      ]
     },
     "metadata": {},
     "output_type": "display_data"
    },
    {
     "name": "stdout",
     "output_type": "stream",
     "text": [
      "Downloading projetc:PXD000247\n"
     ]
    },
    {
     "data": {
      "application/vnd.jupyter.widget-view+json": {
       "model_id": "1fc7158834c14032912abdd81867e222",
       "version_major": 2,
       "version_minor": 0
      },
      "text/plain": [
       "TOTAL:   0%|          | 0/15 [00:00<?, ?files/s]"
      ]
     },
     "metadata": {},
     "output_type": "display_data"
    },
    {
     "data": {
      "application/vnd.jupyter.widget-view+json": {
       "model_id": "5c9ef3295e6d4e5f92d6b4ffc01e3084",
       "version_major": 2,
       "version_minor": 0
      },
      "text/plain": [
       "generated/PRIDE_Exp_Complete_Ac_29517.pride.mztab.gz:   0%|          | 0.00/352k [00:00<?, ?b/s]"
      ]
     },
     "metadata": {},
     "output_type": "display_data"
    },
    {
     "data": {
      "application/vnd.jupyter.widget-view+json": {
       "model_id": "c6ed1d5a65524581921cff05ba01e2d0",
       "version_major": 2,
       "version_minor": 0
      },
      "text/plain": [
       "generated/PRIDE_Exp_Complete_Ac_29518.pride.mztab.gz:   0%|          | 0.00/383k [00:00<?, ?b/s]"
      ]
     },
     "metadata": {},
     "output_type": "display_data"
    },
    {
     "data": {
      "application/vnd.jupyter.widget-view+json": {
       "model_id": "42b44ded76014502b2a9fc93db72b7d8",
       "version_major": 2,
       "version_minor": 0
      },
      "text/plain": [
       "generated/PRIDE_Exp_Complete_Ac_29519.pride.mztab.gz:   0%|          | 0.00/370k [00:00<?, ?b/s]"
      ]
     },
     "metadata": {},
     "output_type": "display_data"
    },
    {
     "data": {
      "application/vnd.jupyter.widget-view+json": {
       "model_id": "d145f7a3969b4be597d4675d5383e823",
       "version_major": 2,
       "version_minor": 0
      },
      "text/plain": [
       "generated/PRIDE_Exp_Complete_Ac_29520.pride.mztab.gz:   0%|          | 0.00/377k [00:00<?, ?b/s]"
      ]
     },
     "metadata": {},
     "output_type": "display_data"
    },
    {
     "data": {
      "application/vnd.jupyter.widget-view+json": {
       "model_id": "58b4715bb366436fae3daa620c55ceb0",
       "version_major": 2,
       "version_minor": 0
      },
      "text/plain": [
       "generated/PRIDE_Exp_Complete_Ac_29521.pride.mztab.gz:   0%|          | 0.00/417k [00:00<?, ?b/s]"
      ]
     },
     "metadata": {},
     "output_type": "display_data"
    },
    {
     "data": {
      "application/vnd.jupyter.widget-view+json": {
       "model_id": "aba41ac3632243819bbf2c077fc4b508",
       "version_major": 2,
       "version_minor": 0
      },
      "text/plain": [
       "generated/PRIDE_Exp_Complete_Ac_29522.pride.mztab.gz:   0%|          | 0.00/324k [00:00<?, ?b/s]"
      ]
     },
     "metadata": {},
     "output_type": "display_data"
    },
    {
     "data": {
      "application/vnd.jupyter.widget-view+json": {
       "model_id": "bbb48dad5b93488d9f9855a61f34eeb1",
       "version_major": 2,
       "version_minor": 0
      },
      "text/plain": [
       "generated/PRIDE_Exp_Complete_Ac_29523.pride.mztab.gz:   0%|          | 0.00/326k [00:00<?, ?b/s]"
      ]
     },
     "metadata": {},
     "output_type": "display_data"
    },
    {
     "data": {
      "application/vnd.jupyter.widget-view+json": {
       "model_id": "243243d08f134affacebb722b5bd1cbe",
       "version_major": 2,
       "version_minor": 0
      },
      "text/plain": [
       "generated/PRIDE_Exp_Complete_Ac_29524.pride.mztab.gz:   0%|          | 0.00/263k [00:00<?, ?b/s]"
      ]
     },
     "metadata": {},
     "output_type": "display_data"
    },
    {
     "data": {
      "application/vnd.jupyter.widget-view+json": {
       "model_id": "1013d435ff0c4396bf84ad7a9352166d",
       "version_major": 2,
       "version_minor": 0
      },
      "text/plain": [
       "generated/PRIDE_Exp_Complete_Ac_29525.pride.mztab.gz:   0%|          | 0.00/262k [00:00<?, ?b/s]"
      ]
     },
     "metadata": {},
     "output_type": "display_data"
    },
    {
     "data": {
      "application/vnd.jupyter.widget-view+json": {
       "model_id": "a28af969aed141638e442f0e83f84e45",
       "version_major": 2,
       "version_minor": 0
      },
      "text/plain": [
       "generated/PRIDE_Exp_Complete_Ac_29526.pride.mztab.gz:   0%|          | 0.00/473k [00:00<?, ?b/s]"
      ]
     },
     "metadata": {},
     "output_type": "display_data"
    },
    {
     "data": {
      "application/vnd.jupyter.widget-view+json": {
       "model_id": "26457f2be3a24185ba73995a3de33bec",
       "version_major": 2,
       "version_minor": 0
      },
      "text/plain": [
       "generated/PRIDE_Exp_Complete_Ac_29527.pride.mztab.gz:   0%|          | 0.00/465k [00:00<?, ?b/s]"
      ]
     },
     "metadata": {},
     "output_type": "display_data"
    },
    {
     "data": {
      "application/vnd.jupyter.widget-view+json": {
       "model_id": "fdf80f26645443bca516a5eb4f279da2",
       "version_major": 2,
       "version_minor": 0
      },
      "text/plain": [
       "generated/PRIDE_Exp_Complete_Ac_29528.pride.mztab.gz:   0%|          | 0.00/468k [00:00<?, ?b/s]"
      ]
     },
     "metadata": {},
     "output_type": "display_data"
    },
    {
     "data": {
      "application/vnd.jupyter.widget-view+json": {
       "model_id": "ae353bb10d394ede8028eecbf0430f2e",
       "version_major": 2,
       "version_minor": 0
      },
      "text/plain": [
       "generated/PRIDE_Exp_Complete_Ac_29529.pride.mztab.gz:   0%|          | 0.00/351k [00:00<?, ?b/s]"
      ]
     },
     "metadata": {},
     "output_type": "display_data"
    },
    {
     "data": {
      "application/vnd.jupyter.widget-view+json": {
       "model_id": "0659ac6d3dc44ce19f07fd824094c677",
       "version_major": 2,
       "version_minor": 0
      },
      "text/plain": [
       "generated/PRIDE_Exp_Complete_Ac_29530.pride.mztab.gz:   0%|          | 0.00/339k [00:00<?, ?b/s]"
      ]
     },
     "metadata": {},
     "output_type": "display_data"
    },
    {
     "data": {
      "application/vnd.jupyter.widget-view+json": {
       "model_id": "a058548091e14fc59d81d6ead17cdc2f",
       "version_major": 2,
       "version_minor": 0
      },
      "text/plain": [
       "generated/PRIDE_Exp_Complete_Ac_29531.pride.mztab.gz:   0%|          | 0.00/334k [00:00<?, ?b/s]"
      ]
     },
     "metadata": {},
     "output_type": "display_data"
    },
    {
     "name": "stdout",
     "output_type": "stream",
     "text": [
      "Downloading projetc:PXD003326\n"
     ]
    },
    {
     "data": {
      "application/vnd.jupyter.widget-view+json": {
       "model_id": "8e8afff1a87c44b69b29e350fd966602",
       "version_major": 2,
       "version_minor": 0
      },
      "text/plain": [
       "TOTAL:   0%|          | 0/12 [00:00<?, ?files/s]"
      ]
     },
     "metadata": {},
     "output_type": "display_data"
    },
    {
     "data": {
      "application/vnd.jupyter.widget-view+json": {
       "model_id": "446ce14d7ddf4e74a05b9c3fecfce947",
       "version_major": 2,
       "version_minor": 0
      },
      "text/plain": [
       "generated/Xtandem_results.WT_1.mgf.Glycine_max_RefSeq_proteins_with_BC_HGF_combined.fa-filtered.pride.mztab.gz…"
      ]
     },
     "metadata": {},
     "output_type": "display_data"
    },
    {
     "data": {
      "application/vnd.jupyter.widget-view+json": {
       "model_id": "914776aba8f04ff490e1d24f67c91b0c",
       "version_major": 2,
       "version_minor": 0
      },
      "text/plain": [
       "generated/Xtandem_results.WT_2.mgf.Glycine_max_RefSeq_proteins_with_BC_HGF_combined.fa-filtered.pride.mztab.gz…"
      ]
     },
     "metadata": {},
     "output_type": "display_data"
    },
    {
     "data": {
      "application/vnd.jupyter.widget-view+json": {
       "model_id": "a0111b7785dc4411afcd3b38d5021430",
       "version_major": 2,
       "version_minor": 0
      },
      "text/plain": [
       "generated/Xtandem_results.WT_3.mgf.Glycine_max_RefSeq_proteins_with_BC_HGF_combined.fa-filtered.pride.mztab.gz…"
      ]
     },
     "metadata": {},
     "output_type": "display_data"
    },
    {
     "data": {
      "application/vnd.jupyter.widget-view+json": {
       "model_id": "baeff7c9d5ef43f88bd4a97c2770b5ab",
       "version_major": 2,
       "version_minor": 0
      },
      "text/plain": [
       "generated/Xtandem_results.line4_1.mgf.Glycine_max_RefSeq_proteins_with_BC_HGF_combined.fa-filtered.pride.mztab…"
      ]
     },
     "metadata": {},
     "output_type": "display_data"
    },
    {
     "data": {
      "application/vnd.jupyter.widget-view+json": {
       "model_id": "03365eaf52374b608aabd728c47e80a4",
       "version_major": 2,
       "version_minor": 0
      },
      "text/plain": [
       "generated/Xtandem_results.line4_2.mgf.Glycine_max_RefSeq_proteins_with_BC_HGF_combined.fa-filtered.pride.mztab…"
      ]
     },
     "metadata": {},
     "output_type": "display_data"
    },
    {
     "data": {
      "application/vnd.jupyter.widget-view+json": {
       "model_id": "bba758584eea41bf99e216a5f338e6b5",
       "version_major": 2,
       "version_minor": 0
      },
      "text/plain": [
       "generated/Xtandem_results.line4_3.mgf.Glycine_max_RefSeq_proteins_with_BC_HGF_combined.fa-filtered.pride.mztab…"
      ]
     },
     "metadata": {},
     "output_type": "display_data"
    },
    {
     "data": {
      "application/vnd.jupyter.widget-view+json": {
       "model_id": "d1c427fe0264452e8538c1fa9cd80598",
       "version_major": 2,
       "version_minor": 0
      },
      "text/plain": [
       "generated/Xtandem_results.line5_1.mgf.Glycine_max_RefSeq_proteins_with_BC_HGF_combined.fa-filtered.pride.mztab…"
      ]
     },
     "metadata": {},
     "output_type": "display_data"
    },
    {
     "data": {
      "application/vnd.jupyter.widget-view+json": {
       "model_id": "4b7e93cf13514c3b8adb49364910632b",
       "version_major": 2,
       "version_minor": 0
      },
      "text/plain": [
       "generated/Xtandem_results.line5_2.mgf.Glycine_max_RefSeq_proteins_with_BC_HGF_combined.fa-filtered.pride.mztab…"
      ]
     },
     "metadata": {},
     "output_type": "display_data"
    },
    {
     "data": {
      "application/vnd.jupyter.widget-view+json": {
       "model_id": "392d974b2ed940c0b8824d2b05db2ded",
       "version_major": 2,
       "version_minor": 0
      },
      "text/plain": [
       "generated/Xtandem_results.line5_3.mgf.Glycine_max_RefSeq_proteins_with_BC_HGF_combined.fa-filtered.pride.mztab…"
      ]
     },
     "metadata": {},
     "output_type": "display_data"
    },
    {
     "data": {
      "application/vnd.jupyter.widget-view+json": {
       "model_id": "ffa3112153fb48bca21df63ce7fecec4",
       "version_major": 2,
       "version_minor": 0
      },
      "text/plain": [
       "generated/Xtandem_results.line6_1.mgf.Glycine_max_RefSeq_proteins_with_BC_HGF_combined.fa-filtered.pride.mztab…"
      ]
     },
     "metadata": {},
     "output_type": "display_data"
    },
    {
     "data": {
      "application/vnd.jupyter.widget-view+json": {
       "model_id": "aeecf953a84a4f828f88a26710860197",
       "version_major": 2,
       "version_minor": 0
      },
      "text/plain": [
       "generated/Xtandem_results.line6_2.mgf.Glycine_max_RefSeq_proteins_with_BC_HGF_combined.fa-filtered.pride.mztab…"
      ]
     },
     "metadata": {},
     "output_type": "display_data"
    },
    {
     "data": {
      "application/vnd.jupyter.widget-view+json": {
       "model_id": "29cc2d26732046d48776104e7fd74ccb",
       "version_major": 2,
       "version_minor": 0
      },
      "text/plain": [
       "generated/Xtandem_results.line6_3.mgf.Glycine_max_RefSeq_proteins_with_BC_HGF_combined.fa-filtered.pride.mztab…"
      ]
     },
     "metadata": {},
     "output_type": "display_data"
    },
    {
     "name": "stdout",
     "output_type": "stream",
     "text": [
      "Downloading projetc:PXD000201\n"
     ]
    },
    {
     "data": {
      "application/vnd.jupyter.widget-view+json": {
       "model_id": "45eaa7307fa14e88afa5a2018bc48623",
       "version_major": 2,
       "version_minor": 0
      },
      "text/plain": [
       "TOTAL:   0%|          | 0/90 [00:00<?, ?files/s]"
      ]
     },
     "metadata": {},
     "output_type": "display_data"
    },
    {
     "data": {
      "application/vnd.jupyter.widget-view+json": {
       "model_id": "2c4e21c6fc0e4d41bc0e52553fd6f028",
       "version_major": 2,
       "version_minor": 0
      },
      "text/plain": [
       "generated/PRIDE_Exp_Complete_Ac_28967.pride.mztab.gz:   0%|          | 0.00/205k [00:00<?, ?b/s]"
      ]
     },
     "metadata": {},
     "output_type": "display_data"
    },
    {
     "data": {
      "application/vnd.jupyter.widget-view+json": {
       "model_id": "b3ae33c6752d4f3cad38aafa494588ac",
       "version_major": 2,
       "version_minor": 0
      },
      "text/plain": [
       "generated/PRIDE_Exp_Complete_Ac_28968.pride.mztab.gz:   0%|          | 0.00/225k [00:00<?, ?b/s]"
      ]
     },
     "metadata": {},
     "output_type": "display_data"
    },
    {
     "data": {
      "application/vnd.jupyter.widget-view+json": {
       "model_id": "fccf8eae198c4c00ab536b8897d29898",
       "version_major": 2,
       "version_minor": 0
      },
      "text/plain": [
       "generated/PRIDE_Exp_Complete_Ac_28969.pride.mztab.gz:   0%|          | 0.00/213k [00:00<?, ?b/s]"
      ]
     },
     "metadata": {},
     "output_type": "display_data"
    },
    {
     "data": {
      "application/vnd.jupyter.widget-view+json": {
       "model_id": "489824bb06de4df3886c051414b750b0",
       "version_major": 2,
       "version_minor": 0
      },
      "text/plain": [
       "generated/PRIDE_Exp_Complete_Ac_28970.pride.mztab.gz:   0%|          | 0.00/232k [00:00<?, ?b/s]"
      ]
     },
     "metadata": {},
     "output_type": "display_data"
    },
    {
     "data": {
      "application/vnd.jupyter.widget-view+json": {
       "model_id": "2e9fc00211b6430a9cc7c1d9927bed9c",
       "version_major": 2,
       "version_minor": 0
      },
      "text/plain": [
       "generated/PRIDE_Exp_Complete_Ac_28971.pride.mztab.gz:   0%|          | 0.00/213k [00:00<?, ?b/s]"
      ]
     },
     "metadata": {},
     "output_type": "display_data"
    },
    {
     "data": {
      "application/vnd.jupyter.widget-view+json": {
       "model_id": "80aeaa4dca814696b7b8f9d1cf6d68a4",
       "version_major": 2,
       "version_minor": 0
      },
      "text/plain": [
       "generated/PRIDE_Exp_Complete_Ac_28972.pride.mztab.gz:   0%|          | 0.00/224k [00:00<?, ?b/s]"
      ]
     },
     "metadata": {},
     "output_type": "display_data"
    },
    {
     "data": {
      "application/vnd.jupyter.widget-view+json": {
       "model_id": "90aad20de2be4d0bb1c27335d41a770b",
       "version_major": 2,
       "version_minor": 0
      },
      "text/plain": [
       "generated/PRIDE_Exp_Complete_Ac_28973.pride.mztab.gz:   0%|          | 0.00/183k [00:00<?, ?b/s]"
      ]
     },
     "metadata": {},
     "output_type": "display_data"
    },
    {
     "data": {
      "application/vnd.jupyter.widget-view+json": {
       "model_id": "9b8c8416313c43ad89319a37533a5b68",
       "version_major": 2,
       "version_minor": 0
      },
      "text/plain": [
       "generated/PRIDE_Exp_Complete_Ac_28974.pride.mztab.gz:   0%|          | 0.00/201k [00:00<?, ?b/s]"
      ]
     },
     "metadata": {},
     "output_type": "display_data"
    },
    {
     "data": {
      "application/vnd.jupyter.widget-view+json": {
       "model_id": "4394353cb89248bba14df01357816ddd",
       "version_major": 2,
       "version_minor": 0
      },
      "text/plain": [
       "generated/PRIDE_Exp_Complete_Ac_28975.pride.mztab.gz:   0%|          | 0.00/201k [00:00<?, ?b/s]"
      ]
     },
     "metadata": {},
     "output_type": "display_data"
    },
    {
     "data": {
      "application/vnd.jupyter.widget-view+json": {
       "model_id": "053ec1c0c3c24b25b1a6881dcc416a6a",
       "version_major": 2,
       "version_minor": 0
      },
      "text/plain": [
       "generated/PRIDE_Exp_Complete_Ac_28976.pride.mztab.gz:   0%|          | 0.00/209k [00:00<?, ?b/s]"
      ]
     },
     "metadata": {},
     "output_type": "display_data"
    },
    {
     "data": {
      "application/vnd.jupyter.widget-view+json": {
       "model_id": "04b77f441a2749b79186f666cb7adee9",
       "version_major": 2,
       "version_minor": 0
      },
      "text/plain": [
       "generated/PRIDE_Exp_Complete_Ac_28977.pride.mztab.gz:   0%|          | 0.00/194k [00:00<?, ?b/s]"
      ]
     },
     "metadata": {},
     "output_type": "display_data"
    },
    {
     "data": {
      "application/vnd.jupyter.widget-view+json": {
       "model_id": "72adb9e586ca43868700bcae8c0b533c",
       "version_major": 2,
       "version_minor": 0
      },
      "text/plain": [
       "generated/PRIDE_Exp_Complete_Ac_28978.pride.mztab.gz:   0%|          | 0.00/216k [00:00<?, ?b/s]"
      ]
     },
     "metadata": {},
     "output_type": "display_data"
    },
    {
     "data": {
      "application/vnd.jupyter.widget-view+json": {
       "model_id": "18a6a899ac7f424cb9deecadf74dcd5c",
       "version_major": 2,
       "version_minor": 0
      },
      "text/plain": [
       "generated/PRIDE_Exp_Complete_Ac_28979.pride.mztab.gz:   0%|          | 0.00/179k [00:00<?, ?b/s]"
      ]
     },
     "metadata": {},
     "output_type": "display_data"
    },
    {
     "data": {
      "application/vnd.jupyter.widget-view+json": {
       "model_id": "5d8d609e49274e89801cc1047db1f778",
       "version_major": 2,
       "version_minor": 0
      },
      "text/plain": [
       "generated/PRIDE_Exp_Complete_Ac_28980.pride.mztab.gz:   0%|          | 0.00/213k [00:00<?, ?b/s]"
      ]
     },
     "metadata": {},
     "output_type": "display_data"
    },
    {
     "data": {
      "application/vnd.jupyter.widget-view+json": {
       "model_id": "722810882d054aa496bd0907771c416e",
       "version_major": 2,
       "version_minor": 0
      },
      "text/plain": [
       "generated/PRIDE_Exp_Complete_Ac_28981.pride.mztab.gz:   0%|          | 0.00/186k [00:00<?, ?b/s]"
      ]
     },
     "metadata": {},
     "output_type": "display_data"
    },
    {
     "data": {
      "application/vnd.jupyter.widget-view+json": {
       "model_id": "686527ebda0f44ef885b2db6b7205264",
       "version_major": 2,
       "version_minor": 0
      },
      "text/plain": [
       "generated/PRIDE_Exp_Complete_Ac_28982.pride.mztab.gz:   0%|          | 0.00/223k [00:00<?, ?b/s]"
      ]
     },
     "metadata": {},
     "output_type": "display_data"
    },
    {
     "data": {
      "application/vnd.jupyter.widget-view+json": {
       "model_id": "333aa024d6154dcab47efc3cc9708c64",
       "version_major": 2,
       "version_minor": 0
      },
      "text/plain": [
       "generated/PRIDE_Exp_Complete_Ac_28983.pride.mztab.gz:   0%|          | 0.00/195k [00:00<?, ?b/s]"
      ]
     },
     "metadata": {},
     "output_type": "display_data"
    },
    {
     "data": {
      "application/vnd.jupyter.widget-view+json": {
       "model_id": "f23bf62f68374446acfc77e1e67fb8d2",
       "version_major": 2,
       "version_minor": 0
      },
      "text/plain": [
       "generated/PRIDE_Exp_Complete_Ac_28984.pride.mztab.gz:   0%|          | 0.00/219k [00:00<?, ?b/s]"
      ]
     },
     "metadata": {},
     "output_type": "display_data"
    },
    {
     "data": {
      "application/vnd.jupyter.widget-view+json": {
       "model_id": "6b2b1de7a12241399c9db9affa47d7d2",
       "version_major": 2,
       "version_minor": 0
      },
      "text/plain": [
       "generated/PRIDE_Exp_Complete_Ac_28985.pride.mztab.gz:   0%|          | 0.00/205k [00:00<?, ?b/s]"
      ]
     },
     "metadata": {},
     "output_type": "display_data"
    },
    {
     "data": {
      "application/vnd.jupyter.widget-view+json": {
       "model_id": "812aa80b2ec44b19bb90cd3417634b76",
       "version_major": 2,
       "version_minor": 0
      },
      "text/plain": [
       "generated/PRIDE_Exp_Complete_Ac_28986.pride.mztab.gz:   0%|          | 0.00/220k [00:00<?, ?b/s]"
      ]
     },
     "metadata": {},
     "output_type": "display_data"
    },
    {
     "data": {
      "application/vnd.jupyter.widget-view+json": {
       "model_id": "725c44c83e4542ecafdefe92529fb1ed",
       "version_major": 2,
       "version_minor": 0
      },
      "text/plain": [
       "generated/PRIDE_Exp_Complete_Ac_28987.pride.mztab.gz:   0%|          | 0.00/206k [00:00<?, ?b/s]"
      ]
     },
     "metadata": {},
     "output_type": "display_data"
    },
    {
     "data": {
      "application/vnd.jupyter.widget-view+json": {
       "model_id": "b4d798c60ac2484ba2f2ac08fa65f05f",
       "version_major": 2,
       "version_minor": 0
      },
      "text/plain": [
       "generated/PRIDE_Exp_Complete_Ac_28988.pride.mztab.gz:   0%|          | 0.00/216k [00:00<?, ?b/s]"
      ]
     },
     "metadata": {},
     "output_type": "display_data"
    },
    {
     "data": {
      "application/vnd.jupyter.widget-view+json": {
       "model_id": "2a664bdda61d4946a9cc0b21ceda0147",
       "version_major": 2,
       "version_minor": 0
      },
      "text/plain": [
       "generated/PRIDE_Exp_Complete_Ac_28989.pride.mztab.gz:   0%|          | 0.00/207k [00:00<?, ?b/s]"
      ]
     },
     "metadata": {},
     "output_type": "display_data"
    },
    {
     "data": {
      "application/vnd.jupyter.widget-view+json": {
       "model_id": "8ba936d9a902422e9e5578ebabde95ea",
       "version_major": 2,
       "version_minor": 0
      },
      "text/plain": [
       "generated/PRIDE_Exp_Complete_Ac_28990.pride.mztab.gz:   0%|          | 0.00/224k [00:00<?, ?b/s]"
      ]
     },
     "metadata": {},
     "output_type": "display_data"
    },
    {
     "data": {
      "application/vnd.jupyter.widget-view+json": {
       "model_id": "37778a1c655a41519a3d635e6dce74c2",
       "version_major": 2,
       "version_minor": 0
      },
      "text/plain": [
       "generated/PRIDE_Exp_Complete_Ac_28991.pride.mztab.gz:   0%|          | 0.00/271k [00:00<?, ?b/s]"
      ]
     },
     "metadata": {},
     "output_type": "display_data"
    },
    {
     "data": {
      "application/vnd.jupyter.widget-view+json": {
       "model_id": "3721922a44f64d5ab17190f4cd530f03",
       "version_major": 2,
       "version_minor": 0
      },
      "text/plain": [
       "generated/PRIDE_Exp_Complete_Ac_28992.pride.mztab.gz:   0%|          | 0.00/252k [00:00<?, ?b/s]"
      ]
     },
     "metadata": {},
     "output_type": "display_data"
    },
    {
     "data": {
      "application/vnd.jupyter.widget-view+json": {
       "model_id": "9ec3536c9a57402dabde3bbefe32aa50",
       "version_major": 2,
       "version_minor": 0
      },
      "text/plain": [
       "generated/PRIDE_Exp_Complete_Ac_28993.pride.mztab.gz:   0%|          | 0.00/258k [00:00<?, ?b/s]"
      ]
     },
     "metadata": {},
     "output_type": "display_data"
    },
    {
     "data": {
      "application/vnd.jupyter.widget-view+json": {
       "model_id": "2b03b8dccb6a46c3a7de72e7a9bacda6",
       "version_major": 2,
       "version_minor": 0
      },
      "text/plain": [
       "generated/PRIDE_Exp_Complete_Ac_28994.pride.mztab.gz:   0%|          | 0.00/258k [00:00<?, ?b/s]"
      ]
     },
     "metadata": {},
     "output_type": "display_data"
    },
    {
     "data": {
      "application/vnd.jupyter.widget-view+json": {
       "model_id": "4a71a0f4f50a46eda905ee9dee3c862f",
       "version_major": 2,
       "version_minor": 0
      },
      "text/plain": [
       "generated/PRIDE_Exp_Complete_Ac_28995.pride.mztab.gz:   0%|          | 0.00/275k [00:00<?, ?b/s]"
      ]
     },
     "metadata": {},
     "output_type": "display_data"
    },
    {
     "data": {
      "application/vnd.jupyter.widget-view+json": {
       "model_id": "9190104239d549d3956ee4df89c2a773",
       "version_major": 2,
       "version_minor": 0
      },
      "text/plain": [
       "generated/PRIDE_Exp_Complete_Ac_28996.pride.mztab.gz:   0%|          | 0.00/270k [00:00<?, ?b/s]"
      ]
     },
     "metadata": {},
     "output_type": "display_data"
    },
    {
     "data": {
      "application/vnd.jupyter.widget-view+json": {
       "model_id": "a1d13d0f5e8f4a3c9589003927e880ee",
       "version_major": 2,
       "version_minor": 0
      },
      "text/plain": [
       "generated/PRIDE_Exp_Complete_Ac_28997.pride.mztab.gz:   0%|          | 0.00/264k [00:00<?, ?b/s]"
      ]
     },
     "metadata": {},
     "output_type": "display_data"
    },
    {
     "data": {
      "application/vnd.jupyter.widget-view+json": {
       "model_id": "f19a2c46473540de939cde8312239a01",
       "version_major": 2,
       "version_minor": 0
      },
      "text/plain": [
       "generated/PRIDE_Exp_Complete_Ac_28998.pride.mztab.gz:   0%|          | 0.00/277k [00:00<?, ?b/s]"
      ]
     },
     "metadata": {},
     "output_type": "display_data"
    },
    {
     "data": {
      "application/vnd.jupyter.widget-view+json": {
       "model_id": "2e2feded1c2343a68115631b88a53894",
       "version_major": 2,
       "version_minor": 0
      },
      "text/plain": [
       "generated/PRIDE_Exp_Complete_Ac_28999.pride.mztab.gz:   0%|          | 0.00/297k [00:00<?, ?b/s]"
      ]
     },
     "metadata": {},
     "output_type": "display_data"
    },
    {
     "data": {
      "application/vnd.jupyter.widget-view+json": {
       "model_id": "419b8b7aa5104504b19824922744786e",
       "version_major": 2,
       "version_minor": 0
      },
      "text/plain": [
       "generated/PRIDE_Exp_Complete_Ac_29000.pride.mztab.gz:   0%|          | 0.00/294k [00:00<?, ?b/s]"
      ]
     },
     "metadata": {},
     "output_type": "display_data"
    },
    {
     "data": {
      "application/vnd.jupyter.widget-view+json": {
       "model_id": "72bac0cd53d141a98f1aa3de2a1162d5",
       "version_major": 2,
       "version_minor": 0
      },
      "text/plain": [
       "generated/PRIDE_Exp_Complete_Ac_29001.pride.mztab.gz:   0%|          | 0.00/301k [00:00<?, ?b/s]"
      ]
     },
     "metadata": {},
     "output_type": "display_data"
    },
    {
     "data": {
      "application/vnd.jupyter.widget-view+json": {
       "model_id": "94a951401bf148ba85145414cb72aadf",
       "version_major": 2,
       "version_minor": 0
      },
      "text/plain": [
       "generated/PRIDE_Exp_Complete_Ac_29002.pride.mztab.gz:   0%|          | 0.00/295k [00:00<?, ?b/s]"
      ]
     },
     "metadata": {},
     "output_type": "display_data"
    },
    {
     "data": {
      "application/vnd.jupyter.widget-view+json": {
       "model_id": "c41afb05595e4421be6ee9b03cb5e0ff",
       "version_major": 2,
       "version_minor": 0
      },
      "text/plain": [
       "generated/PRIDE_Exp_Complete_Ac_29003.pride.mztab.gz:   0%|          | 0.00/249k [00:00<?, ?b/s]"
      ]
     },
     "metadata": {},
     "output_type": "display_data"
    },
    {
     "data": {
      "application/vnd.jupyter.widget-view+json": {
       "model_id": "627fae1fb2784d02bea56dbe9b069327",
       "version_major": 2,
       "version_minor": 0
      },
      "text/plain": [
       "generated/PRIDE_Exp_Complete_Ac_29004.pride.mztab.gz:   0%|          | 0.00/268k [00:00<?, ?b/s]"
      ]
     },
     "metadata": {},
     "output_type": "display_data"
    },
    {
     "data": {
      "application/vnd.jupyter.widget-view+json": {
       "model_id": "175b3e462b844e998cbfb89b7eb19360",
       "version_major": 2,
       "version_minor": 0
      },
      "text/plain": [
       "generated/PRIDE_Exp_Complete_Ac_29005.pride.mztab.gz:   0%|          | 0.00/239k [00:00<?, ?b/s]"
      ]
     },
     "metadata": {},
     "output_type": "display_data"
    },
    {
     "data": {
      "application/vnd.jupyter.widget-view+json": {
       "model_id": "0952fa0bab6549cc96ff958c2b1b60ba",
       "version_major": 2,
       "version_minor": 0
      },
      "text/plain": [
       "generated/PRIDE_Exp_Complete_Ac_29006.pride.mztab.gz:   0%|          | 0.00/246k [00:00<?, ?b/s]"
      ]
     },
     "metadata": {},
     "output_type": "display_data"
    },
    {
     "data": {
      "application/vnd.jupyter.widget-view+json": {
       "model_id": "c180a14c84c444289834a07848918dcb",
       "version_major": 2,
       "version_minor": 0
      },
      "text/plain": [
       "generated/PRIDE_Exp_Complete_Ac_29007.pride.mztab.gz:   0%|          | 0.00/285k [00:00<?, ?b/s]"
      ]
     },
     "metadata": {},
     "output_type": "display_data"
    },
    {
     "data": {
      "application/vnd.jupyter.widget-view+json": {
       "model_id": "82979baac88a4e35970cc5e18554ec75",
       "version_major": 2,
       "version_minor": 0
      },
      "text/plain": [
       "generated/PRIDE_Exp_Complete_Ac_29008.pride.mztab.gz:   0%|          | 0.00/276k [00:00<?, ?b/s]"
      ]
     },
     "metadata": {},
     "output_type": "display_data"
    },
    {
     "data": {
      "application/vnd.jupyter.widget-view+json": {
       "model_id": "3320f0c33e6848b8bba224fc82a87102",
       "version_major": 2,
       "version_minor": 0
      },
      "text/plain": [
       "generated/PRIDE_Exp_Complete_Ac_29009.pride.mztab.gz:   0%|          | 0.00/286k [00:00<?, ?b/s]"
      ]
     },
     "metadata": {},
     "output_type": "display_data"
    },
    {
     "data": {
      "application/vnd.jupyter.widget-view+json": {
       "model_id": "967c4fbe24e648ab853f961a61f63482",
       "version_major": 2,
       "version_minor": 0
      },
      "text/plain": [
       "generated/PRIDE_Exp_Complete_Ac_29010.pride.mztab.gz:   0%|          | 0.00/274k [00:00<?, ?b/s]"
      ]
     },
     "metadata": {},
     "output_type": "display_data"
    },
    {
     "data": {
      "application/vnd.jupyter.widget-view+json": {
       "model_id": "ff70ee8345894c3b8a4aca0d9e3eac82",
       "version_major": 2,
       "version_minor": 0
      },
      "text/plain": [
       "generated/PRIDE_Exp_Complete_Ac_29011.pride.mztab.gz:   0%|          | 0.00/269k [00:00<?, ?b/s]"
      ]
     },
     "metadata": {},
     "output_type": "display_data"
    },
    {
     "data": {
      "application/vnd.jupyter.widget-view+json": {
       "model_id": "771cef463257498aa9f4f93f112857a5",
       "version_major": 2,
       "version_minor": 0
      },
      "text/plain": [
       "generated/PRIDE_Exp_Complete_Ac_29012.pride.mztab.gz:   0%|          | 0.00/270k [00:00<?, ?b/s]"
      ]
     },
     "metadata": {},
     "output_type": "display_data"
    },
    {
     "data": {
      "application/vnd.jupyter.widget-view+json": {
       "model_id": "d032ed18658b4e048983f6a39fe9847c",
       "version_major": 2,
       "version_minor": 0
      },
      "text/plain": [
       "generated/PRIDE_Exp_Complete_Ac_29013.pride.mztab.gz:   0%|          | 0.00/254k [00:00<?, ?b/s]"
      ]
     },
     "metadata": {},
     "output_type": "display_data"
    },
    {
     "data": {
      "application/vnd.jupyter.widget-view+json": {
       "model_id": "a720aca6984d4964aacddf4bba3aea1a",
       "version_major": 2,
       "version_minor": 0
      },
      "text/plain": [
       "generated/PRIDE_Exp_Complete_Ac_29014.pride.mztab.gz:   0%|          | 0.00/268k [00:00<?, ?b/s]"
      ]
     },
     "metadata": {},
     "output_type": "display_data"
    },
    {
     "data": {
      "application/vnd.jupyter.widget-view+json": {
       "model_id": "82e1d07ceed44f609aaa9d1d5eccc887",
       "version_major": 2,
       "version_minor": 0
      },
      "text/plain": [
       "generated/PRIDE_Exp_Complete_Ac_29015.pride.mztab.gz:   0%|          | 0.00/251k [00:00<?, ?b/s]"
      ]
     },
     "metadata": {},
     "output_type": "display_data"
    },
    {
     "data": {
      "application/vnd.jupyter.widget-view+json": {
       "model_id": "91fda51938c841c0ad0e6ed5e3463759",
       "version_major": 2,
       "version_minor": 0
      },
      "text/plain": [
       "generated/PRIDE_Exp_Complete_Ac_29016.pride.mztab.gz:   0%|          | 0.00/254k [00:00<?, ?b/s]"
      ]
     },
     "metadata": {},
     "output_type": "display_data"
    },
    {
     "data": {
      "application/vnd.jupyter.widget-view+json": {
       "model_id": "cb1ea56dab77450e998f9af96bd90081",
       "version_major": 2,
       "version_minor": 0
      },
      "text/plain": [
       "generated/PRIDE_Exp_Complete_Ac_29017.pride.mztab.gz:   0%|          | 0.00/254k [00:00<?, ?b/s]"
      ]
     },
     "metadata": {},
     "output_type": "display_data"
    },
    {
     "data": {
      "application/vnd.jupyter.widget-view+json": {
       "model_id": "0f165a6be9cc4bf2971b771368ba793b",
       "version_major": 2,
       "version_minor": 0
      },
      "text/plain": [
       "generated/PRIDE_Exp_Complete_Ac_29018.pride.mztab.gz:   0%|          | 0.00/252k [00:00<?, ?b/s]"
      ]
     },
     "metadata": {},
     "output_type": "display_data"
    },
    {
     "data": {
      "application/vnd.jupyter.widget-view+json": {
       "model_id": "510580dd8bdf4b9d9efe7ecca96f8c28",
       "version_major": 2,
       "version_minor": 0
      },
      "text/plain": [
       "generated/PRIDE_Exp_Complete_Ac_29019.pride.mztab.gz:   0%|          | 0.00/256k [00:00<?, ?b/s]"
      ]
     },
     "metadata": {},
     "output_type": "display_data"
    },
    {
     "data": {
      "application/vnd.jupyter.widget-view+json": {
       "model_id": "1d00ae1bfe944ae082a0670024cc3ecf",
       "version_major": 2,
       "version_minor": 0
      },
      "text/plain": [
       "generated/PRIDE_Exp_Complete_Ac_29020.pride.mztab.gz:   0%|          | 0.00/256k [00:00<?, ?b/s]"
      ]
     },
     "metadata": {},
     "output_type": "display_data"
    },
    {
     "data": {
      "application/vnd.jupyter.widget-view+json": {
       "model_id": "cb15983967e944199aaa762189b08997",
       "version_major": 2,
       "version_minor": 0
      },
      "text/plain": [
       "generated/PRIDE_Exp_Complete_Ac_29021.pride.mztab.gz:   0%|          | 0.00/280k [00:00<?, ?b/s]"
      ]
     },
     "metadata": {},
     "output_type": "display_data"
    },
    {
     "data": {
      "application/vnd.jupyter.widget-view+json": {
       "model_id": "09abc64637624dd9a8ddb38b8317963c",
       "version_major": 2,
       "version_minor": 0
      },
      "text/plain": [
       "generated/PRIDE_Exp_Complete_Ac_29022.pride.mztab.gz:   0%|          | 0.00/270k [00:00<?, ?b/s]"
      ]
     },
     "metadata": {},
     "output_type": "display_data"
    },
    {
     "data": {
      "application/vnd.jupyter.widget-view+json": {
       "model_id": "9733f47982854d15a704453874bc50a3",
       "version_major": 2,
       "version_minor": 0
      },
      "text/plain": [
       "generated/PRIDE_Exp_Complete_Ac_29023.pride.mztab.gz:   0%|          | 0.00/272k [00:00<?, ?b/s]"
      ]
     },
     "metadata": {},
     "output_type": "display_data"
    },
    {
     "data": {
      "application/vnd.jupyter.widget-view+json": {
       "model_id": "ab3b77e0d60d4b2890dbc50f209294ea",
       "version_major": 2,
       "version_minor": 0
      },
      "text/plain": [
       "generated/PRIDE_Exp_Complete_Ac_29024.pride.mztab.gz:   0%|          | 0.00/250k [00:00<?, ?b/s]"
      ]
     },
     "metadata": {},
     "output_type": "display_data"
    },
    {
     "data": {
      "application/vnd.jupyter.widget-view+json": {
       "model_id": "ebdb8c5c26c54274a5d2cdf805fa9920",
       "version_major": 2,
       "version_minor": 0
      },
      "text/plain": [
       "generated/PRIDE_Exp_Complete_Ac_29025.pride.mztab.gz:   0%|          | 0.00/269k [00:00<?, ?b/s]"
      ]
     },
     "metadata": {},
     "output_type": "display_data"
    },
    {
     "data": {
      "application/vnd.jupyter.widget-view+json": {
       "model_id": "1463794f6bca4eeeb78ee130a9d724c7",
       "version_major": 2,
       "version_minor": 0
      },
      "text/plain": [
       "generated/PRIDE_Exp_Complete_Ac_29026.pride.mztab.gz:   0%|          | 0.00/267k [00:00<?, ?b/s]"
      ]
     },
     "metadata": {},
     "output_type": "display_data"
    },
    {
     "data": {
      "application/vnd.jupyter.widget-view+json": {
       "model_id": "1297d9f2953648279ba253b85520c23f",
       "version_major": 2,
       "version_minor": 0
      },
      "text/plain": [
       "generated/PRIDE_Exp_Complete_Ac_29027.pride.mztab.gz:   0%|          | 0.00/269k [00:00<?, ?b/s]"
      ]
     },
     "metadata": {},
     "output_type": "display_data"
    },
    {
     "data": {
      "application/vnd.jupyter.widget-view+json": {
       "model_id": "ea1f32f0df4149339b27e6b6bc31f860",
       "version_major": 2,
       "version_minor": 0
      },
      "text/plain": [
       "generated/PRIDE_Exp_Complete_Ac_29028.pride.mztab.gz:   0%|          | 0.00/273k [00:00<?, ?b/s]"
      ]
     },
     "metadata": {},
     "output_type": "display_data"
    },
    {
     "data": {
      "application/vnd.jupyter.widget-view+json": {
       "model_id": "64cf01e1973a469b965e683edc4ea513",
       "version_major": 2,
       "version_minor": 0
      },
      "text/plain": [
       "generated/PRIDE_Exp_Complete_Ac_29029.pride.mztab.gz:   0%|          | 0.00/253k [00:00<?, ?b/s]"
      ]
     },
     "metadata": {},
     "output_type": "display_data"
    },
    {
     "data": {
      "application/vnd.jupyter.widget-view+json": {
       "model_id": "05f996e9b7664606a12048674b5e057e",
       "version_major": 2,
       "version_minor": 0
      },
      "text/plain": [
       "generated/PRIDE_Exp_Complete_Ac_29030.pride.mztab.gz:   0%|          | 0.00/256k [00:00<?, ?b/s]"
      ]
     },
     "metadata": {},
     "output_type": "display_data"
    },
    {
     "data": {
      "application/vnd.jupyter.widget-view+json": {
       "model_id": "7663559c8d39421684f6b3e32b8674cd",
       "version_major": 2,
       "version_minor": 0
      },
      "text/plain": [
       "generated/PRIDE_Exp_Complete_Ac_29031.pride.mztab.gz:   0%|          | 0.00/243k [00:00<?, ?b/s]"
      ]
     },
     "metadata": {},
     "output_type": "display_data"
    },
    {
     "data": {
      "application/vnd.jupyter.widget-view+json": {
       "model_id": "214b4e672839469286a0fe10459311ce",
       "version_major": 2,
       "version_minor": 0
      },
      "text/plain": [
       "generated/PRIDE_Exp_Complete_Ac_29032.pride.mztab.gz:   0%|          | 0.00/260k [00:00<?, ?b/s]"
      ]
     },
     "metadata": {},
     "output_type": "display_data"
    },
    {
     "data": {
      "application/vnd.jupyter.widget-view+json": {
       "model_id": "5b591405b12045868ac42f55363683c4",
       "version_major": 2,
       "version_minor": 0
      },
      "text/plain": [
       "generated/PRIDE_Exp_Complete_Ac_29033.pride.mztab.gz:   0%|          | 0.00/262k [00:00<?, ?b/s]"
      ]
     },
     "metadata": {},
     "output_type": "display_data"
    },
    {
     "data": {
      "application/vnd.jupyter.widget-view+json": {
       "model_id": "01269f5abe7f4a30a43c2595cc35811e",
       "version_major": 2,
       "version_minor": 0
      },
      "text/plain": [
       "generated/PRIDE_Exp_Complete_Ac_29034.pride.mztab.gz:   0%|          | 0.00/260k [00:00<?, ?b/s]"
      ]
     },
     "metadata": {},
     "output_type": "display_data"
    },
    {
     "data": {
      "application/vnd.jupyter.widget-view+json": {
       "model_id": "00d85cd0bf0a4ed1a40c1b2f276844fe",
       "version_major": 2,
       "version_minor": 0
      },
      "text/plain": [
       "generated/PRIDE_Exp_Complete_Ac_29035.pride.mztab.gz:   0%|          | 0.00/259k [00:00<?, ?b/s]"
      ]
     },
     "metadata": {},
     "output_type": "display_data"
    },
    {
     "data": {
      "application/vnd.jupyter.widget-view+json": {
       "model_id": "594e408e03244e6c9918e6a8027579fd",
       "version_major": 2,
       "version_minor": 0
      },
      "text/plain": [
       "generated/PRIDE_Exp_Complete_Ac_29036.pride.mztab.gz:   0%|          | 0.00/257k [00:00<?, ?b/s]"
      ]
     },
     "metadata": {},
     "output_type": "display_data"
    },
    {
     "data": {
      "application/vnd.jupyter.widget-view+json": {
       "model_id": "8aaed592a3ea41e891c1c0c2504ecaa6",
       "version_major": 2,
       "version_minor": 0
      },
      "text/plain": [
       "generated/PRIDE_Exp_Complete_Ac_29037.pride.mztab.gz:   0%|          | 0.00/264k [00:00<?, ?b/s]"
      ]
     },
     "metadata": {},
     "output_type": "display_data"
    },
    {
     "data": {
      "application/vnd.jupyter.widget-view+json": {
       "model_id": "7b639b75b3204b208264c8d131c9348f",
       "version_major": 2,
       "version_minor": 0
      },
      "text/plain": [
       "generated/PRIDE_Exp_Complete_Ac_29038.pride.mztab.gz:   0%|          | 0.00/267k [00:00<?, ?b/s]"
      ]
     },
     "metadata": {},
     "output_type": "display_data"
    },
    {
     "data": {
      "application/vnd.jupyter.widget-view+json": {
       "model_id": "d9a8005791924da5bec24452bd643ec5",
       "version_major": 2,
       "version_minor": 0
      },
      "text/plain": [
       "generated/PRIDE_Exp_Complete_Ac_29039.pride.mztab.gz:   0%|          | 0.00/154k [00:00<?, ?b/s]"
      ]
     },
     "metadata": {},
     "output_type": "display_data"
    },
    {
     "data": {
      "application/vnd.jupyter.widget-view+json": {
       "model_id": "850c363d1f8c4a22b00597ff24d0f235",
       "version_major": 2,
       "version_minor": 0
      },
      "text/plain": [
       "generated/PRIDE_Exp_Complete_Ac_29040.pride.mztab.gz:   0%|          | 0.00/144k [00:00<?, ?b/s]"
      ]
     },
     "metadata": {},
     "output_type": "display_data"
    },
    {
     "data": {
      "application/vnd.jupyter.widget-view+json": {
       "model_id": "65675be175364300be569122b3cf9f6d",
       "version_major": 2,
       "version_minor": 0
      },
      "text/plain": [
       "generated/PRIDE_Exp_Complete_Ac_29041.pride.mztab.gz:   0%|          | 0.00/134k [00:00<?, ?b/s]"
      ]
     },
     "metadata": {},
     "output_type": "display_data"
    },
    {
     "data": {
      "application/vnd.jupyter.widget-view+json": {
       "model_id": "ca3bea67854c453ca3e63d755a40cfec",
       "version_major": 2,
       "version_minor": 0
      },
      "text/plain": [
       "generated/PRIDE_Exp_Complete_Ac_29042.pride.mztab.gz:   0%|          | 0.00/126k [00:00<?, ?b/s]"
      ]
     },
     "metadata": {},
     "output_type": "display_data"
    },
    {
     "data": {
      "application/vnd.jupyter.widget-view+json": {
       "model_id": "021a8050f80c46c28bcd950fb8805efc",
       "version_major": 2,
       "version_minor": 0
      },
      "text/plain": [
       "generated/PRIDE_Exp_Complete_Ac_29043.pride.mztab.gz:   0%|          | 0.00/163k [00:00<?, ?b/s]"
      ]
     },
     "metadata": {},
     "output_type": "display_data"
    },
    {
     "data": {
      "application/vnd.jupyter.widget-view+json": {
       "model_id": "805fd47468c94458bbf6e74f925075fd",
       "version_major": 2,
       "version_minor": 0
      },
      "text/plain": [
       "generated/PRIDE_Exp_Complete_Ac_29044.pride.mztab.gz:   0%|          | 0.00/155k [00:00<?, ?b/s]"
      ]
     },
     "metadata": {},
     "output_type": "display_data"
    },
    {
     "data": {
      "application/vnd.jupyter.widget-view+json": {
       "model_id": "1360999541b0460c86635d9b3ba02e21",
       "version_major": 2,
       "version_minor": 0
      },
      "text/plain": [
       "generated/PRIDE_Exp_Complete_Ac_29045.pride.mztab.gz:   0%|          | 0.00/176k [00:00<?, ?b/s]"
      ]
     },
     "metadata": {},
     "output_type": "display_data"
    },
    {
     "data": {
      "application/vnd.jupyter.widget-view+json": {
       "model_id": "c55a023e140043b89aff7511841195a0",
       "version_major": 2,
       "version_minor": 0
      },
      "text/plain": [
       "generated/PRIDE_Exp_Complete_Ac_29046.pride.mztab.gz:   0%|          | 0.00/171k [00:00<?, ?b/s]"
      ]
     },
     "metadata": {},
     "output_type": "display_data"
    },
    {
     "data": {
      "application/vnd.jupyter.widget-view+json": {
       "model_id": "22d1797113294b749dba23c78fad2933",
       "version_major": 2,
       "version_minor": 0
      },
      "text/plain": [
       "generated/PRIDE_Exp_Complete_Ac_29047.pride.mztab.gz:   0%|          | 0.00/168k [00:00<?, ?b/s]"
      ]
     },
     "metadata": {},
     "output_type": "display_data"
    },
    {
     "data": {
      "application/vnd.jupyter.widget-view+json": {
       "model_id": "93e26f3cf3e54e7bb1e0b40ef26ddf4c",
       "version_major": 2,
       "version_minor": 0
      },
      "text/plain": [
       "generated/PRIDE_Exp_Complete_Ac_29048.pride.mztab.gz:   0%|          | 0.00/162k [00:00<?, ?b/s]"
      ]
     },
     "metadata": {},
     "output_type": "display_data"
    },
    {
     "data": {
      "application/vnd.jupyter.widget-view+json": {
       "model_id": "235b938b0d9a42f2b35445a12c0c32bf",
       "version_major": 2,
       "version_minor": 0
      },
      "text/plain": [
       "generated/PRIDE_Exp_Complete_Ac_29049.pride.mztab.gz:   0%|          | 0.00/150k [00:00<?, ?b/s]"
      ]
     },
     "metadata": {},
     "output_type": "display_data"
    },
    {
     "data": {
      "application/vnd.jupyter.widget-view+json": {
       "model_id": "c7f959587633444a9070dccd107e320a",
       "version_major": 2,
       "version_minor": 0
      },
      "text/plain": [
       "generated/PRIDE_Exp_Complete_Ac_29050.pride.mztab.gz:   0%|          | 0.00/148k [00:00<?, ?b/s]"
      ]
     },
     "metadata": {},
     "output_type": "display_data"
    },
    {
     "data": {
      "application/vnd.jupyter.widget-view+json": {
       "model_id": "e649481ffc1645afad78233cc3938ce7",
       "version_major": 2,
       "version_minor": 0
      },
      "text/plain": [
       "generated/PRIDE_Exp_Complete_Ac_29051.pride.mztab.gz:   0%|          | 0.00/155k [00:00<?, ?b/s]"
      ]
     },
     "metadata": {},
     "output_type": "display_data"
    },
    {
     "data": {
      "application/vnd.jupyter.widget-view+json": {
       "model_id": "d164c6406e0f404c8f714fa6b7645e04",
       "version_major": 2,
       "version_minor": 0
      },
      "text/plain": [
       "generated/PRIDE_Exp_Complete_Ac_29052.pride.mztab.gz:   0%|          | 0.00/152k [00:00<?, ?b/s]"
      ]
     },
     "metadata": {},
     "output_type": "display_data"
    },
    {
     "data": {
      "application/vnd.jupyter.widget-view+json": {
       "model_id": "8286ff088b8d4fd18b509a48effbcabd",
       "version_major": 2,
       "version_minor": 0
      },
      "text/plain": [
       "generated/PRIDE_Exp_Complete_Ac_29053.pride.mztab.gz:   0%|          | 0.00/166k [00:00<?, ?b/s]"
      ]
     },
     "metadata": {},
     "output_type": "display_data"
    },
    {
     "data": {
      "application/vnd.jupyter.widget-view+json": {
       "model_id": "1e90edda9fcc4b6ca0659225c4b254ad",
       "version_major": 2,
       "version_minor": 0
      },
      "text/plain": [
       "generated/PRIDE_Exp_Complete_Ac_29054.pride.mztab.gz:   0%|          | 0.00/159k [00:00<?, ?b/s]"
      ]
     },
     "metadata": {},
     "output_type": "display_data"
    },
    {
     "data": {
      "application/vnd.jupyter.widget-view+json": {
       "model_id": "607e5a4741574dcbb9d77539fd608cf2",
       "version_major": 2,
       "version_minor": 0
      },
      "text/plain": [
       "generated/PRIDE_Exp_Complete_Ac_29055.pride.mztab.gz:   0%|          | 0.00/160k [00:00<?, ?b/s]"
      ]
     },
     "metadata": {},
     "output_type": "display_data"
    },
    {
     "data": {
      "application/vnd.jupyter.widget-view+json": {
       "model_id": "a6c1c70f0dee47f0b283a87c28cc27ff",
       "version_major": 2,
       "version_minor": 0
      },
      "text/plain": [
       "generated/PRIDE_Exp_Complete_Ac_29056.pride.mztab.gz:   0%|          | 0.00/156k [00:00<?, ?b/s]"
      ]
     },
     "metadata": {},
     "output_type": "display_data"
    },
    {
     "name": "stdout",
     "output_type": "stream",
     "text": [
      "Downloading projetc:PXD001132\n"
     ]
    },
    {
     "data": {
      "application/vnd.jupyter.widget-view+json": {
       "model_id": "a40099713b5e447281446ebd139c83e4",
       "version_major": 2,
       "version_minor": 0
      },
      "text/plain": [
       "TOTAL:   0%|          | 0/35 [00:00<?, ?files/s]"
      ]
     },
     "metadata": {},
     "output_type": "display_data"
    },
    {
     "data": {
      "application/vnd.jupyter.widget-view+json": {
       "model_id": "fd46b5958d99479e812163bd8cd26d3d",
       "version_major": 2,
       "version_minor": 0
      },
      "text/plain": [
       "generated/20110827_J1D (J1D).pride.mztab.gz:   0%|          | 0.00/61.6k [00:00<?, ?b/s]"
      ]
     },
     "metadata": {},
     "output_type": "display_data"
    },
    {
     "data": {
      "application/vnd.jupyter.widget-view+json": {
       "model_id": "b221d7dfca714e469afddc6d24276531",
       "version_major": 2,
       "version_minor": 0
      },
      "text/plain": [
       "generated/20110827_J1_A (J1A).pride.mztab.gz:   0%|          | 0.00/74.2k [00:00<?, ?b/s]"
      ]
     },
     "metadata": {},
     "output_type": "display_data"
    },
    {
     "data": {
      "application/vnd.jupyter.widget-view+json": {
       "model_id": "72d725c572e04a69a0d7d61fbbd08eec",
       "version_major": 2,
       "version_minor": 0
      },
      "text/plain": [
       "generated/20110827_J1_B (J1B).pride.mztab.gz:   0%|          | 0.00/55.7k [00:00<?, ?b/s]"
      ]
     },
     "metadata": {},
     "output_type": "display_data"
    },
    {
     "data": {
      "application/vnd.jupyter.widget-view+json": {
       "model_id": "80c1864b1a1647ee8cbd8de61cf46ec7",
       "version_major": 2,
       "version_minor": 0
      },
      "text/plain": [
       "generated/20110827_J2_A (J2A).pride.mztab.gz:   0%|          | 0.00/17.1k [00:00<?, ?b/s]"
      ]
     },
     "metadata": {},
     "output_type": "display_data"
    },
    {
     "data": {
      "application/vnd.jupyter.widget-view+json": {
       "model_id": "b66bea4f0601455f98394c3b9ed5faf3",
       "version_major": 2,
       "version_minor": 0
      },
      "text/plain": [
       "generated/20110827_J2_B (J2B).pride.mztab.gz:   0%|          | 0.00/20.2k [00:00<?, ?b/s]"
      ]
     },
     "metadata": {},
     "output_type": "display_data"
    },
    {
     "data": {
      "application/vnd.jupyter.widget-view+json": {
       "model_id": "0d28a3da2cdf41deae07c0cbef6bae02",
       "version_major": 2,
       "version_minor": 0
      },
      "text/plain": [
       "generated/20110827_K1_A (K1A).pride.mztab.gz:   0%|          | 0.00/57.8k [00:00<?, ?b/s]"
      ]
     },
     "metadata": {},
     "output_type": "display_data"
    },
    {
     "data": {
      "application/vnd.jupyter.widget-view+json": {
       "model_id": "b947d47de1c34b349baccdcebc96db7e",
       "version_major": 2,
       "version_minor": 0
      },
      "text/plain": [
       "generated/20110827_K1_B (K1B).pride.mztab.gz:   0%|          | 0.00/19.9k [00:00<?, ?b/s]"
      ]
     },
     "metadata": {},
     "output_type": "display_data"
    },
    {
     "data": {
      "application/vnd.jupyter.widget-view+json": {
       "model_id": "590c237979444ed1a938605f6ad22b7a",
       "version_major": 2,
       "version_minor": 0
      },
      "text/plain": [
       "generated/20110827_L1_A (L1A).pride.mztab.gz:   0%|          | 0.00/30.4k [00:00<?, ?b/s]"
      ]
     },
     "metadata": {},
     "output_type": "display_data"
    },
    {
     "data": {
      "application/vnd.jupyter.widget-view+json": {
       "model_id": "d002e6d9136d4957a5170d9fdfacc44e",
       "version_major": 2,
       "version_minor": 0
      },
      "text/plain": [
       "generated/20110827_L1_B (L1B).pride.mztab.gz:   0%|          | 0.00/23.1k [00:00<?, ?b/s]"
      ]
     },
     "metadata": {},
     "output_type": "display_data"
    },
    {
     "data": {
      "application/vnd.jupyter.widget-view+json": {
       "model_id": "dd22aea3bf904395a479f126dff64054",
       "version_major": 2,
       "version_minor": 0
      },
      "text/plain": [
       "generated/20110827_M1_A (M1A).pride.mztab.gz:   0%|          | 0.00/66.7k [00:00<?, ?b/s]"
      ]
     },
     "metadata": {},
     "output_type": "display_data"
    },
    {
     "data": {
      "application/vnd.jupyter.widget-view+json": {
       "model_id": "681c471eb05443fcba411d3e913c2f28",
       "version_major": 2,
       "version_minor": 0
      },
      "text/plain": [
       "generated/20110827_M1_B (M1B).pride.mztab.gz:   0%|          | 0.00/56.8k [00:00<?, ?b/s]"
      ]
     },
     "metadata": {},
     "output_type": "display_data"
    },
    {
     "data": {
      "application/vnd.jupyter.widget-view+json": {
       "model_id": "1abec01f58ec4258a4294dfd12bb45e2",
       "version_major": 2,
       "version_minor": 0
      },
      "text/plain": [
       "generated/20110827_M2_A (M2A).pride.mztab.gz:   0%|          | 0.00/17.0k [00:00<?, ?b/s]"
      ]
     },
     "metadata": {},
     "output_type": "display_data"
    },
    {
     "data": {
      "application/vnd.jupyter.widget-view+json": {
       "model_id": "2eb5b9c75cd8462ea2c633b84ea6f5d9",
       "version_major": 2,
       "version_minor": 0
      },
      "text/plain": [
       "generated/20110827_M2_B (M2B).pride.mztab.gz:   0%|          | 0.00/11.6k [00:00<?, ?b/s]"
      ]
     },
     "metadata": {},
     "output_type": "display_data"
    },
    {
     "data": {
      "application/vnd.jupyter.widget-view+json": {
       "model_id": "6572ffc5f8464a00b959554094dacf37",
       "version_major": 2,
       "version_minor": 0
      },
      "text/plain": [
       "generated/20110831_J1C (J1C).pride.mztab.gz:   0%|          | 0.00/74.5k [00:00<?, ?b/s]"
      ]
     },
     "metadata": {},
     "output_type": "display_data"
    },
    {
     "data": {
      "application/vnd.jupyter.widget-view+json": {
       "model_id": "5abb82b530f74b6985a652476da95b34",
       "version_major": 2,
       "version_minor": 0
      },
      "text/plain": [
       "generated/20110831_K1C (K1C).pride.mztab.gz:   0%|          | 0.00/53.8k [00:00<?, ?b/s]"
      ]
     },
     "metadata": {},
     "output_type": "display_data"
    },
    {
     "data": {
      "application/vnd.jupyter.widget-view+json": {
       "model_id": "9a33eb50e7f2447197dd9f68d419fc11",
       "version_major": 2,
       "version_minor": 0
      },
      "text/plain": [
       "generated/20110831_K1D (K1D).pride.mztab.gz:   0%|          | 0.00/50.2k [00:00<?, ?b/s]"
      ]
     },
     "metadata": {},
     "output_type": "display_data"
    },
    {
     "data": {
      "application/vnd.jupyter.widget-view+json": {
       "model_id": "becb0a8a51f9419cb9bf3c37295452f4",
       "version_major": 2,
       "version_minor": 0
      },
      "text/plain": [
       "generated/20110831_L1C (L1C).pride.mztab.gz:   0%|          | 0.00/6.22k [00:00<?, ?b/s]"
      ]
     },
     "metadata": {},
     "output_type": "display_data"
    },
    {
     "data": {
      "application/vnd.jupyter.widget-view+json": {
       "model_id": "ffee345ca1e742f8b379e9459acb7e66",
       "version_major": 2,
       "version_minor": 0
      },
      "text/plain": [
       "generated/20110831_L1D (L1D).pride.mztab.gz:   0%|          | 0.00/42.2k [00:00<?, ?b/s]"
      ]
     },
     "metadata": {},
     "output_type": "display_data"
    },
    {
     "data": {
      "application/vnd.jupyter.widget-view+json": {
       "model_id": "379a7cb48e0340deb30c43ebf6b0a74f",
       "version_major": 2,
       "version_minor": 0
      },
      "text/plain": [
       "generated/20110831_M1C (M1C).pride.mztab.gz:   0%|          | 0.00/62.3k [00:00<?, ?b/s]"
      ]
     },
     "metadata": {},
     "output_type": "display_data"
    },
    {
     "data": {
      "application/vnd.jupyter.widget-view+json": {
       "model_id": "10ebb15c78764e4ab4470c61d87f3a06",
       "version_major": 2,
       "version_minor": 0
      },
      "text/plain": [
       "generated/20110831_M1D (M1D).pride.mztab.gz:   0%|          | 0.00/59.3k [00:00<?, ?b/s]"
      ]
     },
     "metadata": {},
     "output_type": "display_data"
    },
    {
     "data": {
      "application/vnd.jupyter.widget-view+json": {
       "model_id": "313b55a8ee754221a9edb900e65045fa",
       "version_major": 2,
       "version_minor": 0
      },
      "text/plain": [
       "generated/20110901_J2C (J2C).pride.mztab.gz:   0%|          | 0.00/22.1k [00:00<?, ?b/s]"
      ]
     },
     "metadata": {},
     "output_type": "display_data"
    },
    {
     "data": {
      "application/vnd.jupyter.widget-view+json": {
       "model_id": "b70988a03f1549fb9e0058986d4b4444",
       "version_major": 2,
       "version_minor": 0
      },
      "text/plain": [
       "generated/20110901_J2D (J2D).pride.mztab.gz:   0%|          | 0.00/20.7k [00:00<?, ?b/s]"
      ]
     },
     "metadata": {},
     "output_type": "display_data"
    },
    {
     "data": {
      "application/vnd.jupyter.widget-view+json": {
       "model_id": "b7c41eb57bbb45e7b6e486b500578147",
       "version_major": 2,
       "version_minor": 0
      },
      "text/plain": [
       "generated/20110901_K2A (K2A).pride.mztab.gz:   0%|          | 0.00/54.0k [00:00<?, ?b/s]"
      ]
     },
     "metadata": {},
     "output_type": "display_data"
    },
    {
     "data": {
      "application/vnd.jupyter.widget-view+json": {
       "model_id": "bc3273c9378e403290775463acb6cce1",
       "version_major": 2,
       "version_minor": 0
      },
      "text/plain": [
       "generated/20110901_K2B (K2B).pride.mztab.gz:   0%|          | 0.00/13.9k [00:00<?, ?b/s]"
      ]
     },
     "metadata": {},
     "output_type": "display_data"
    },
    {
     "data": {
      "application/vnd.jupyter.widget-view+json": {
       "model_id": "a5f406b3dcd94dd4ab33e16b1dc74937",
       "version_major": 2,
       "version_minor": 0
      },
      "text/plain": [
       "generated/20110901_K2C (K2C).pride.mztab.gz:   0%|          | 0.00/5.70k [00:00<?, ?b/s]"
      ]
     },
     "metadata": {},
     "output_type": "display_data"
    },
    {
     "data": {
      "application/vnd.jupyter.widget-view+json": {
       "model_id": "97d9e1acd6574832a18f29ad0bfa2381",
       "version_major": 2,
       "version_minor": 0
      },
      "text/plain": [
       "generated/20110901_L2A (L2A).pride.mztab.gz:   0%|          | 0.00/46.8k [00:00<?, ?b/s]"
      ]
     },
     "metadata": {},
     "output_type": "display_data"
    },
    {
     "data": {
      "application/vnd.jupyter.widget-view+json": {
       "model_id": "81e74f779b744c3b858dc0533b1713eb",
       "version_major": 2,
       "version_minor": 0
      },
      "text/plain": [
       "generated/20110901_L2B (L2B).pride.mztab.gz:   0%|          | 0.00/13.0k [00:00<?, ?b/s]"
      ]
     },
     "metadata": {},
     "output_type": "display_data"
    },
    {
     "data": {
      "application/vnd.jupyter.widget-view+json": {
       "model_id": "c527f4ace5d5482294ead697d18ea6f0",
       "version_major": 2,
       "version_minor": 0
      },
      "text/plain": [
       "generated/20110901_L2C (L2C).pride.mztab.gz:   0%|          | 0.00/3.89k [00:00<?, ?b/s]"
      ]
     },
     "metadata": {},
     "output_type": "display_data"
    },
    {
     "data": {
      "application/vnd.jupyter.widget-view+json": {
       "model_id": "483622b98ad241749864e108d36ac839",
       "version_major": 2,
       "version_minor": 0
      },
      "text/plain": [
       "generated/20110901_M2C (M2C).pride.mztab.gz:   0%|          | 0.00/14.2k [00:00<?, ?b/s]"
      ]
     },
     "metadata": {},
     "output_type": "display_data"
    },
    {
     "data": {
      "application/vnd.jupyter.widget-view+json": {
       "model_id": "46e1268d2ce74aee8c8c2f7b3939cd13",
       "version_major": 2,
       "version_minor": 0
      },
      "text/plain": [
       "generated/20110901_M2D (M2D).pride.mztab.gz:   0%|          | 0.00/19.3k [00:00<?, ?b/s]"
      ]
     },
     "metadata": {},
     "output_type": "display_data"
    },
    {
     "data": {
      "application/vnd.jupyter.widget-view+json": {
       "model_id": "9cb94d3e72bd4953b90c843658ebe526",
       "version_major": 2,
       "version_minor": 0
      },
      "text/plain": [
       "generated/A1.pride.mztab.gz:   0%|          | 0.00/60.9k [00:00<?, ?b/s]"
      ]
     },
     "metadata": {},
     "output_type": "display_data"
    },
    {
     "data": {
      "application/vnd.jupyter.widget-view+json": {
       "model_id": "19b7a75bbfd645c89f9c76c19b4e5ece",
       "version_major": 2,
       "version_minor": 0
      },
      "text/plain": [
       "generated/A2.pride.mztab.gz:   0%|          | 0.00/78.7k [00:00<?, ?b/s]"
      ]
     },
     "metadata": {},
     "output_type": "display_data"
    },
    {
     "data": {
      "application/vnd.jupyter.widget-view+json": {
       "model_id": "a71dd6e01cb04c5fa40d3900a32d8349",
       "version_major": 2,
       "version_minor": 0
      },
      "text/plain": [
       "generated/B1.pride.mztab.gz:   0%|          | 0.00/74.6k [00:00<?, ?b/s]"
      ]
     },
     "metadata": {},
     "output_type": "display_data"
    },
    {
     "data": {
      "application/vnd.jupyter.widget-view+json": {
       "model_id": "08fedb59c2d64c50900fdd9c48a3fbfe",
       "version_major": 2,
       "version_minor": 0
      },
      "text/plain": [
       "generated/B2.pride.mztab.gz:   0%|          | 0.00/59.7k [00:00<?, ?b/s]"
      ]
     },
     "metadata": {},
     "output_type": "display_data"
    },
    {
     "data": {
      "application/vnd.jupyter.widget-view+json": {
       "model_id": "645d148fdd21446095dc1ccd9a45a374",
       "version_major": 2,
       "version_minor": 0
      },
      "text/plain": [
       "generated/B3.pride.mztab.gz:   0%|          | 0.00/64.2k [00:00<?, ?b/s]"
      ]
     },
     "metadata": {},
     "output_type": "display_data"
    },
    {
     "name": "stderr",
     "output_type": "stream",
     "text": [
      "gzip: /home/tiago/documents/lncRNA/G.max/PXD000160/generated/PRIDE_Exp_Complete_Ac_28646.pride.mztab already exists;\tnot overwritten\n",
      "gzip: /home/tiago/documents/lncRNA/G.max/PXD000160/generated/PRIDE_Exp_Complete_Ac_28647.pride.mztab already exists;\tnot overwritten\n",
      "gzip: /home/tiago/documents/lncRNA/G.max/PXD000160/generated/PRIDE_Exp_Complete_Ac_28648.pride.mztab already exists;\tnot overwritten\n",
      "gzip: /home/tiago/documents/lncRNA/G.max/PXD000160/generated/PRIDE_Exp_Complete_Ac_28649.pride.mztab already exists;\tnot overwritten\n",
      "gzip: /home/tiago/documents/lncRNA/G.max/PXD000160/generated/PRIDE_Exp_Complete_Ac_28650.pride.mztab already exists;\tnot overwritten\n",
      "gzip: /home/tiago/documents/lncRNA/G.max/PXD000160/generated/PRIDE_Exp_Complete_Ac_28651.pride.mztab already exists;\tnot overwritten\n",
      "gzip: /home/tiago/documents/lncRNA/G.max/PXD000160/generated/PRIDE_Exp_Complete_Ac_28652.pride.mztab already exists;\tnot overwritten\n",
      "gzip: /home/tiago/documents/lncRNA/G.max/PXD000160/generated/PRIDE_Exp_Complete_Ac_28653.pride.mztab already exists;\tnot overwritten\n",
      "gzip: /home/tiago/documents/lncRNA/G.max/PXD000160/generated/PRIDE_Exp_Complete_Ac_28654.pride.mztab already exists;\tnot overwritten\n",
      "gzip: /home/tiago/documents/lncRNA/G.max/PXD000160/generated/PRIDE_Exp_Complete_Ac_28655.pride.mztab already exists;\tnot overwritten\n",
      "gzip: /home/tiago/documents/lncRNA/G.max/PXD000160/generated/PRIDE_Exp_Complete_Ac_28656.pride.mztab already exists;\tnot overwritten\n",
      "gzip: /home/tiago/documents/lncRNA/G.max/PXD000160/generated/PRIDE_Exp_Complete_Ac_28657.pride.mztab already exists;\tnot overwritten\n",
      "gzip: /home/tiago/documents/lncRNA/G.max/PXD000160/generated/PRIDE_Exp_Complete_Ac_28658.pride.mztab already exists;\tnot overwritten\n",
      "gzip: /home/tiago/documents/lncRNA/G.max/PXD000160/generated/PRIDE_Exp_Complete_Ac_28659.pride.mztab already exists;\tnot overwritten\n",
      "gzip: /home/tiago/documents/lncRNA/G.max/PXD000160/generated/PRIDE_Exp_Complete_Ac_28660.pride.mztab already exists;\tnot overwritten\n",
      "gzip: /home/tiago/documents/lncRNA/G.max/PXD000160/generated/PRIDE_Exp_Complete_Ac_28661.pride.mztab already exists;\tnot overwritten\n",
      "gzip: /home/tiago/documents/lncRNA/G.max/PXD000160/generated/PRIDE_Exp_Complete_Ac_28662.pride.mztab already exists;\tnot overwritten\n",
      "gzip: /home/tiago/documents/lncRNA/G.max/PXD000160/generated/PRIDE_Exp_Complete_Ac_28663.pride.mztab already exists;\tnot overwritten\n",
      "gzip: /home/tiago/documents/lncRNA/G.max/PXD000160/generated/PRIDE_Exp_Complete_Ac_28664.pride.mztab already exists;\tnot overwritten\n",
      "gzip: /home/tiago/documents/lncRNA/G.max/PXD000160/generated/PRIDE_Exp_Complete_Ac_28665.pride.mztab already exists;\tnot overwritten\n",
      "gzip: /home/tiago/documents/lncRNA/G.max/PXD000160/generated/PRIDE_Exp_Complete_Ac_28666.pride.mztab already exists;\tnot overwritten\n",
      "gzip: /home/tiago/documents/lncRNA/G.max/PXD000160/generated/PRIDE_Exp_Complete_Ac_28667.pride.mztab already exists;\tnot overwritten\n",
      "gzip: /home/tiago/documents/lncRNA/G.max/PXD000160/generated/PRIDE_Exp_Complete_Ac_28668.pride.mztab already exists;\tnot overwritten\n",
      "gzip: /home/tiago/documents/lncRNA/G.max/PXD000160/generated/PRIDE_Exp_Complete_Ac_28669.pride.mztab already exists;\tnot overwritten\n",
      "gzip: /home/tiago/documents/lncRNA/G.max/PXD000709/generated/Xtandem_results.G1_D.mgf.Glycine_max_RefSeq_proteins_BC.fasta-filtered.pride.mztab already exists;\tnot overwritten\n",
      "gzip: /home/tiago/documents/lncRNA/G.max/PXD000709/generated/Xtandem_results.G1_S.mgf.Glycine_max_RefSeq_proteins_BC.fasta-filtered.pride.mztab already exists;\tnot overwritten\n",
      "gzip: /home/tiago/documents/lncRNA/G.max/PXD000709/generated/Xtandem_results.G1_Tr.mgf.Glycine_max_RefSeq_proteins_BC.fasta-filtered.pride.mztab already exists;\tnot overwritten\n",
      "gzip: /home/tiago/documents/lncRNA/G.max/PXD000709/generated/Xtandem_results.G1_Tw.mgf.Glycine_max_RefSeq_proteins_BC.fasta-filtered.pride.mztab already exists;\tnot overwritten\n",
      "gzip: /home/tiago/documents/lncRNA/G.max/PXD000709/generated/Xtandem_results.G1_U.mgf.Glycine_max_RefSeq_proteins_BC.fasta-filtered.pride.mztab already exists;\tnot overwritten\n",
      "gzip: /home/tiago/documents/lncRNA/G.max/PXD000709/generated/Xtandem_results.G2_D.mgf.Glycine_max_RefSeq_proteins_BC.fasta-filtered.pride.mztab already exists;\tnot overwritten\n",
      "gzip: /home/tiago/documents/lncRNA/G.max/PXD000709/generated/Xtandem_results.G2_S.mgf.Glycine_max_RefSeq_proteins_BC.fasta-filtered.pride.mztab already exists;\tnot overwritten\n",
      "gzip: /home/tiago/documents/lncRNA/G.max/PXD000709/generated/Xtandem_results.G2_Tr.mgf.Glycine_max_RefSeq_proteins_BC.fasta-filtered.pride.mztab already exists;\tnot overwritten\n",
      "gzip: /home/tiago/documents/lncRNA/G.max/PXD000709/generated/Xtandem_results.G2_Tw.mgf.Glycine_max_RefSeq_proteins_BC.fasta-filtered.pride.mztab already exists;\tnot overwritten\n",
      "gzip: /home/tiago/documents/lncRNA/G.max/PXD000709/generated/Xtandem_results.G2_U.mgf.Glycine_max_RefSeq_proteins_BC.fasta-filtered.pride.mztab already exists;\tnot overwritten\n",
      "gzip: /home/tiago/documents/lncRNA/G.max/PXD000709/generated/Xtandem_results.G3_D.mgf.Glycine_max_RefSeq_proteins_BC.fasta-filtered.pride.mztab already exists;\tnot overwritten\n",
      "gzip: /home/tiago/documents/lncRNA/G.max/PXD000709/generated/Xtandem_results.G3_S.mgf.Glycine_max_RefSeq_proteins_BC.fasta-filtered.pride.mztab already exists;\tnot overwritten\n",
      "gzip: /home/tiago/documents/lncRNA/G.max/PXD000709/generated/Xtandem_results.G3_Tr.mgf.Glycine_max_RefSeq_proteins_BC.fasta-filtered.pride.mztab already exists;\tnot overwritten\n",
      "gzip: /home/tiago/documents/lncRNA/G.max/PXD000709/generated/Xtandem_results.G3_Tw.mgf.Glycine_max_RefSeq_proteins_BC.fasta-filtered.pride.mztab already exists;\tnot overwritten\n",
      "gzip: /home/tiago/documents/lncRNA/G.max/PXD000709/generated/Xtandem_results.G3_U.mgf.Glycine_max_RefSeq_proteins_BC.fasta-filtered.pride.mztab already exists;\tnot overwritten\n",
      "gzip: /home/tiago/documents/lncRNA/G.max/PXD000709/generated/Xtandem_results.O1_D.mgf.Glycine_max_RefSeq_proteins_BC.fasta-filtered.pride.mztab already exists;\tnot overwritten\n",
      "gzip: /home/tiago/documents/lncRNA/G.max/PXD000709/generated/Xtandem_results.O1_S.mgf.Glycine_max_RefSeq_proteins_BC.fasta-filtered.pride.mztab already exists;\tnot overwritten\n",
      "gzip: /home/tiago/documents/lncRNA/G.max/PXD000709/generated/Xtandem_results.O1_Tr.mgf.Glycine_max_RefSeq_proteins_BC.fasta-filtered.pride.mztab already exists;\tnot overwritten\n",
      "gzip: /home/tiago/documents/lncRNA/G.max/PXD000709/generated/Xtandem_results.O1_Tw.mgf.Glycine_max_RefSeq_proteins_BC.fasta-filtered.pride.mztab already exists;\tnot overwritten\n",
      "gzip: /home/tiago/documents/lncRNA/G.max/PXD000709/generated/Xtandem_results.O1_U.mgf.Glycine_max_RefSeq_proteins_BC.fasta-filtered.pride.mztab already exists;\tnot overwritten\n",
      "gzip: /home/tiago/documents/lncRNA/G.max/PXD000709/generated/Xtandem_results.O2_D.mgf.Glycine_max_RefSeq_proteins_BC.fasta-filtered.pride.mztab already exists;\tnot overwritten\n",
      "gzip: /home/tiago/documents/lncRNA/G.max/PXD000709/generated/Xtandem_results.O2_S.mgf.Glycine_max_RefSeq_proteins_BC.fasta-filtered.pride.mztab already exists;\tnot overwritten\n",
      "gzip: /home/tiago/documents/lncRNA/G.max/PXD000709/generated/Xtandem_results.O2_Tr.mgf.Glycine_max_RefSeq_proteins_BC.fasta-filtered.pride.mztab already exists;\tnot overwritten\n",
      "gzip: /home/tiago/documents/lncRNA/G.max/PXD000709/generated/Xtandem_results.O2_Tw.mgf.Glycine_max_RefSeq_proteins_BC.fasta-filtered.pride.mztab already exists;\tnot overwritten\n",
      "gzip: /home/tiago/documents/lncRNA/G.max/PXD000709/generated/Xtandem_results.O2_U.mgf.Glycine_max_RefSeq_proteins_BC.fasta-filtered.pride.mztab already exists;\tnot overwritten\n",
      "gzip: /home/tiago/documents/lncRNA/G.max/PXD000709/generated/Xtandem_results.O3_D.mgf.Glycine_max_RefSeq_proteins_BC.fasta-filtered.pride.mztab already exists;\tnot overwritten\n",
      "gzip: /home/tiago/documents/lncRNA/G.max/PXD000709/generated/Xtandem_results.O3_S.mgf.Glycine_max_RefSeq_proteins_BC.fasta-filtered.pride.mztab already exists;\tnot overwritten\n",
      "gzip: /home/tiago/documents/lncRNA/G.max/PXD000709/generated/Xtandem_results.O3_Tr.mgf.Glycine_max_RefSeq_proteins_BC.fasta-filtered.pride.mztab already exists;\tnot overwritten\n",
      "gzip: /home/tiago/documents/lncRNA/G.max/PXD000709/generated/Xtandem_results.O3_Tw.mgf.Glycine_max_RefSeq_proteins_BC.fasta-filtered.pride.mztab already exists;\tnot overwritten\n",
      "gzip: /home/tiago/documents/lncRNA/G.max/PXD000709/generated/Xtandem_results.O3_U.mgf.Glycine_max_RefSeq_proteins_BC.fasta-filtered.pride.mztab already exists;\tnot overwritten\n",
      "gzip: /home/tiago/documents/lncRNA/G.max/PXD013198/generated/SoySEC_standards_02a_03132018.MSGF+.pride.mztab already exists;\tnot overwritten\n",
      "gzip: /home/tiago/documents/lncRNA/G.max/PXD013198/generated/SoySEC_standards_03a_03142018.MSGF+.pride.mztab already exists;\tnot overwritten\n",
      "gzip: /home/tiago/documents/lncRNA/G.max/PXD013198/generated/SoySEC_standards_04a_03142018.MSGF+.pride.mztab already exists;\tnot overwritten\n",
      "gzip: /home/tiago/documents/lncRNA/G.max/PXD013198/generated/SoySEC_standards_06a_03152018.MSGF+.pride.mztab already exists;\tnot overwritten\n",
      "gzip: /home/tiago/documents/lncRNA/G.max/PXD013198/generated/SoySEC_standards_07a_03152018.MSGF+.pride.mztab already exists;\tnot overwritten\n",
      "gzip: /home/tiago/documents/lncRNA/G.max/PXD013198/generated/SoySEC_standards_08a_03162018.MSGF+.pride.mztab already exists;\tnot overwritten\n",
      "gzip: /home/tiago/documents/lncRNA/G.max/PXD013198/generated/SoySEC_standards_09a_03162018.MSGF+.pride.mztab already exists;\tnot overwritten\n",
      "gzip: /home/tiago/documents/lncRNA/G.max/PXD013198/generated/SoySEC_standards_10a_03162018.MSGF+.pride.mztab already exists;\tnot overwritten\n",
      "gzip: /home/tiago/documents/lncRNA/G.max/PXD013198/generated/SoySEC_standards_11a_03172018.MSGF+.pride.mztab already exists;\tnot overwritten\n",
      "gzip: /home/tiago/documents/lncRNA/G.max/PXD013198/generated/SoySEC_standards_12a_03172018.MSGF+.pride.mztab already exists;\tnot overwritten\n",
      "gzip: /home/tiago/documents/lncRNA/G.max/PXD013198/generated/SoySEC_standards_13a_03132018.MSGF+.pride.mztab already exists;\tnot overwritten\n",
      "gzip: /home/tiago/documents/lncRNA/G.max/PXD013198/generated/SoySEC_standards_14a_03132018.MSGF+.pride.mztab already exists;\tnot overwritten\n",
      "gzip: /home/tiago/documents/lncRNA/G.max/PXD013198/generated/SoySEC_standards_15a_03142018.MSGF+.pride.mztab already exists;\tnot overwritten\n",
      "gzip: /home/tiago/documents/lncRNA/G.max/PXD013198/generated/SoySEC_standards_16a_03142018.MSGF+.pride.mztab already exists;\tnot overwritten\n",
      "gzip: /home/tiago/documents/lncRNA/G.max/PXD013198/generated/SoySEC_standards_17a_03152018.MSGF+.pride.mztab already exists;\tnot overwritten\n",
      "gzip: /home/tiago/documents/lncRNA/G.max/PXD013198/generated/SoySEC_standards_18a_03152018.MSGF+.pride.mztab already exists;\tnot overwritten\n",
      "gzip: /home/tiago/documents/lncRNA/G.max/PXD013198/generated/SoySEC_standards_19a_03152018.MSGF+.pride.mztab already exists;\tnot overwritten\n",
      "gzip: /home/tiago/documents/lncRNA/G.max/PXD013198/generated/SoySEC_standards_20a_03162018.MSGF+.pride.mztab already exists;\tnot overwritten\n",
      "gzip: /home/tiago/documents/lncRNA/G.max/PXD013198/generated/SoySEC_standards_21a_03162018.MSGF+.pride.mztab already exists;\tnot overwritten\n",
      "gzip: /home/tiago/documents/lncRNA/G.max/PXD013198/generated/SoySEC_standards_22a_03162018.MSGF+.pride.mztab already exists;\tnot overwritten\n",
      "gzip: /home/tiago/documents/lncRNA/G.max/PXD013198/generated/SoySEC_standards_23a_03172018.MSGF+.pride.mztab already exists;\tnot overwritten\n",
      "gzip: /home/tiago/documents/lncRNA/G.max/PXD013198/generated/SoySEC_standards_24a_03172018.MSGF+.pride.mztab already exists;\tnot overwritten\n",
      "gzip: /home/tiago/documents/lncRNA/G.max/PXD013198/generated/SoySEC_standards_25a_03132018.MSGF+.pride.mztab already exists;\tnot overwritten\n",
      "gzip: /home/tiago/documents/lncRNA/G.max/PXD013198/generated/SoySEC_standards_26a_03132018.MSGF+.pride.mztab already exists;\tnot overwritten\n",
      "gzip: /home/tiago/documents/lncRNA/G.max/PXD013198/generated/SoySEC_standards_27a_03142018.MSGF+.pride.mztab already exists;\tnot overwritten\n",
      "gzip: /home/tiago/documents/lncRNA/G.max/PXD013198/generated/SoySEC_standards_28a_03142018.MSGF+.pride.mztab already exists;\tnot overwritten\n",
      "gzip: /home/tiago/documents/lncRNA/G.max/PXD013198/generated/SoySEC_standards_29a_03152018.MSGF+.pride.mztab already exists;\tnot overwritten\n",
      "gzip: /home/tiago/documents/lncRNA/G.max/PXD013198/generated/SoySEC_standards_30a_03152018.MSGF+.pride.mztab already exists;\tnot overwritten\n",
      "gzip: /home/tiago/documents/lncRNA/G.max/PXD013198/generated/SoySEC_standards_31a_03152018.MSGF+.pride.mztab already exists;\tnot overwritten\n",
      "gzip: /home/tiago/documents/lncRNA/G.max/PXD013198/generated/SoySEC_standards_32a_03162018.MSGF+.pride.mztab already exists;\tnot overwritten\n",
      "gzip: /home/tiago/documents/lncRNA/G.max/PXD013198/generated/SoySEC_standards_33a_03162018.MSGF+.pride.mztab already exists;\tnot overwritten\n",
      "gzip: /home/tiago/documents/lncRNA/G.max/PXD013198/generated/SoySEC_standards_34a_03162018.MSGF+.pride.mztab already exists;\tnot overwritten\n",
      "gzip: /home/tiago/documents/lncRNA/G.max/PXD013198/generated/SoySEC_standards_35a_03172018.MSGF+.pride.mztab already exists;\tnot overwritten\n",
      "gzip: /home/tiago/documents/lncRNA/G.max/PXD013198/generated/SoySEC_standards_36a_03172018.MSGF+.pride.mztab already exists;\tnot overwritten\n",
      "gzip: /home/tiago/documents/lncRNA/G.max/PXD013198/generated/SoySEC_standards_37a_03132018.MSGF+.pride.mztab already exists;\tnot overwritten\n",
      "gzip: /home/tiago/documents/lncRNA/G.max/PXD013198/generated/SoySEC_standards_38a_03142018.MSGF+.pride.mztab already exists;\tnot overwritten\n",
      "gzip: /home/tiago/documents/lncRNA/G.max/PXD013198/generated/SoySEC_standards_39a_03142018.MSGF+.pride.mztab already exists;\tnot overwritten\n",
      "gzip: /home/tiago/documents/lncRNA/G.max/PXD013198/generated/SoySEC_standards_40a_03142018.MSGF+.pride.mztab already exists;\tnot overwritten\n",
      "gzip: /home/tiago/documents/lncRNA/G.max/PXD013198/generated/SoySEC_standards_41a_03152018.MSGF+.pride.mztab already exists;\tnot overwritten\n",
      "gzip: /home/tiago/documents/lncRNA/G.max/PXD013198/generated/SoySEC_standards_42a_03152018.MSGF+.pride.mztab already exists;\tnot overwritten\n",
      "gzip: /home/tiago/documents/lncRNA/G.max/PXD013198/generated/SoySEC_standards_43a_03152018.MSGF+.pride.mztab already exists;\tnot overwritten\n",
      "gzip: /home/tiago/documents/lncRNA/G.max/PXD013198/generated/SoySEC_standards_44a_03162018.MSGF+.pride.mztab already exists;\tnot overwritten\n",
      "gzip: /home/tiago/documents/lncRNA/G.max/PXD013198/generated/SoySEC_standards_45a_03162018.MSGF+.pride.mztab already exists;\tnot overwritten\n",
      "gzip: /home/tiago/documents/lncRNA/G.max/PXD013198/generated/SoySEC_standards_46a_03162018.MSGF+.pride.mztab already exists;\tnot overwritten\n",
      "gzip: /home/tiago/documents/lncRNA/G.max/PXD013198/generated/SoySEC_standards_47a_03172018.MSGF+.pride.mztab already exists;\tnot overwritten\n",
      "gzip: /home/tiago/documents/lncRNA/G.max/PXD013198/generated/SoySEC_standards_48a_03172018.MSGF+.pride.mztab already exists;\tnot overwritten\n",
      "gzip: /home/tiago/documents/lncRNA/G.max/PXD013198/generated/SoySEC_standards_49a_03132018.MSGF+.pride.mztab already exists;\tnot overwritten\n",
      "gzip: /home/tiago/documents/lncRNA/G.max/PXD013198/generated/SoySEC_standards_50a_03142018.MSGF+.pride.mztab already exists;\tnot overwritten\n",
      "gzip: /home/tiago/documents/lncRNA/G.max/PXD013198/generated/SoySEC_standards_51a_03142018.MSGF+.pride.mztab already exists;\tnot overwritten\n",
      "gzip: /home/tiago/documents/lncRNA/G.max/PXD013198/generated/SoySEC_standards_52a_03142018.MSGF+.pride.mztab already exists;\tnot overwritten\n",
      "gzip: /home/tiago/documents/lncRNA/G.max/PXD013198/generated/SoySEC_standards_53a_03152018.MSGF+.pride.mztab already exists;\tnot overwritten\n",
      "gzip: /home/tiago/documents/lncRNA/G.max/PXD013198/generated/SoySEC_standards_54a_03152018.MSGF+.pride.mztab already exists;\tnot overwritten\n",
      "gzip: /home/tiago/documents/lncRNA/G.max/PXD013198/generated/SoySEC_standards_55a_03152018.MSGF+.pride.mztab already exists;\tnot overwritten\n",
      "gzip: /home/tiago/documents/lncRNA/G.max/PXD013198/generated/SoySEC_standards_56a_03162018.MSGF+.pride.mztab already exists;\tnot overwritten\n",
      "gzip: /home/tiago/documents/lncRNA/G.max/PXD013198/generated/SoySEC_standards_57a_03162018.MSGF+.pride.mztab already exists;\tnot overwritten\n",
      "gzip: /home/tiago/documents/lncRNA/G.max/PXD013198/generated/SoySEC_standards_58a_03162018.MSGF+.pride.mztab already exists;\tnot overwritten\n",
      "gzip: /home/tiago/documents/lncRNA/G.max/PXD013198/generated/SoySEC_standards_59a_03172018.MSGF+.pride.mztab already exists;\tnot overwritten\n",
      "gzip: /home/tiago/documents/lncRNA/G.max/PXD013198/generated/SoySEC_standards_60a_03172018.MSGF+.pride.mztab already exists;\tnot overwritten\n",
      "gzip: /home/tiago/documents/lncRNA/G.max/PXD013198/generated/SoySEC_standards_61a_03132018.MSGF+.pride.mztab already exists;\tnot overwritten\n",
      "gzip: /home/tiago/documents/lncRNA/G.max/PXD013198/generated/SoySEC_standards_62a_03142018.MSGF+.pride.mztab already exists;\tnot overwritten\n",
      "gzip: /home/tiago/documents/lncRNA/G.max/PXD013198/generated/SoySEC_standards_63a_03142018.MSGF+.pride.mztab already exists;\tnot overwritten\n",
      "gzip: /home/tiago/documents/lncRNA/G.max/PXD013198/generated/SoySEC_standards_64a_03142018.MSGF+.pride.mztab already exists;\tnot overwritten\n",
      "gzip: /home/tiago/documents/lncRNA/G.max/PXD013198/generated/SoySEC_standards_65a_03152018.MSGF+.pride.mztab already exists;\tnot overwritten\n",
      "gzip: /home/tiago/documents/lncRNA/G.max/PXD013198/generated/SoySEC_standards_66a_03152018.MSGF+.pride.mztab already exists;\tnot overwritten\n",
      "gzip: /home/tiago/documents/lncRNA/G.max/PXD013198/generated/SoySEC_standards_67a_03162018.MSGF+.pride.mztab already exists;\tnot overwritten\n",
      "gzip: /home/tiago/documents/lncRNA/G.max/PXD013198/generated/SoySEC_standards_68a_03162018.MSGF+.pride.mztab already exists;\tnot overwritten\n",
      "gzip: /home/tiago/documents/lncRNA/G.max/PXD013198/generated/SoySEC_standards_69a_03162018.MSGF+.pride.mztab already exists;\tnot overwritten\n",
      "gzip: /home/tiago/documents/lncRNA/G.max/PXD013198/generated/SoySEC_standards_70a_03172018.MSGF+.pride.mztab already exists;\tnot overwritten\n",
      "gzip: /home/tiago/documents/lncRNA/G.max/PXD013198/generated/SoySEC_standards_71a_03172018.MSGF+.pride.mztab already exists;\tnot overwritten\n",
      "gzip: /home/tiago/documents/lncRNA/G.max/PXD013198/generated/SoySEC_standards_72a_03172018.MSGF+.pride.mztab already exists;\tnot overwritten\n",
      "gzip: /home/tiago/documents/lncRNA/G.max/PXD013198/generated/Soy_sprout_SEC_03_1a_10212017.MSGF+.pride.mztab already exists;\tnot overwritten\n",
      "gzip: /home/tiago/documents/lncRNA/G.max/PXD013198/generated/Soy_sprout_SEC_04_1a_10212017.MSGF+.pride.mztab already exists;\tnot overwritten\n",
      "gzip: /home/tiago/documents/lncRNA/G.max/PXD013198/generated/Soy_sprout_SEC_05_1a_10222017.MSGF+.pride.mztab already exists;\tnot overwritten\n",
      "gzip: /home/tiago/documents/lncRNA/G.max/PXD013198/generated/Soy_sprout_SEC_06_1a_10222017.MSGF+.pride.mztab already exists;\tnot overwritten\n",
      "gzip: /home/tiago/documents/lncRNA/G.max/PXD013198/generated/Soy_sprout_SEC_07_1a_10222017.MSGF+.pride.mztab already exists;\tnot overwritten\n",
      "gzip: /home/tiago/documents/lncRNA/G.max/PXD013198/generated/Soy_sprout_SEC_08_1a_10232017.MSGF+.pride.mztab already exists;\tnot overwritten\n",
      "gzip: /home/tiago/documents/lncRNA/G.max/PXD013198/generated/Soy_sprout_SEC_09_1a_10232017.MSGF+.pride.mztab already exists;\tnot overwritten\n",
      "gzip: /home/tiago/documents/lncRNA/G.max/PXD013198/generated/Soy_sprout_SEC_10_1a_10242017.MSGF+.pride.mztab already exists;\tnot overwritten\n",
      "gzip: /home/tiago/documents/lncRNA/G.max/PXD013198/generated/Soy_sprout_SEC_11_1a_10242017.MSGF+.pride.mztab already exists;\tnot overwritten\n",
      "gzip: /home/tiago/documents/lncRNA/G.max/PXD013198/generated/Soy_sprout_SEC_12_1a_10242017.MSGF+.pride.mztab already exists;\tnot overwritten\n",
      "gzip: /home/tiago/documents/lncRNA/G.max/PXD013198/generated/Soy_sprout_SEC_13_1a_10202017.MSGF+.pride.mztab already exists;\tnot overwritten\n",
      "gzip: /home/tiago/documents/lncRNA/G.max/PXD013198/generated/Soy_sprout_SEC_14_1a_10212017.MSGF+.pride.mztab already exists;\tnot overwritten\n",
      "gzip: /home/tiago/documents/lncRNA/G.max/PXD013198/generated/Soy_sprout_SEC_15_1a_10212017.MSGF+.pride.mztab already exists;\tnot overwritten\n",
      "gzip: /home/tiago/documents/lncRNA/G.max/PXD013198/generated/Soy_sprout_SEC_16_1a_10212017.MSGF+.pride.mztab already exists;\tnot overwritten\n",
      "gzip: /home/tiago/documents/lncRNA/G.max/PXD013198/generated/Soy_sprout_SEC_17_1a_10222017.MSGF+.pride.mztab already exists;\tnot overwritten\n",
      "gzip: /home/tiago/documents/lncRNA/G.max/PXD013198/generated/Soy_sprout_SEC_18_1a_10222017.MSGF+.pride.mztab already exists;\tnot overwritten\n",
      "gzip: /home/tiago/documents/lncRNA/G.max/PXD013198/generated/Soy_sprout_SEC_19_1a_10232017.MSGF+.pride.mztab already exists;\tnot overwritten\n",
      "gzip: /home/tiago/documents/lncRNA/G.max/PXD013198/generated/Soy_sprout_SEC_20_1a_10232017.MSGF+.pride.mztab already exists;\tnot overwritten\n",
      "gzip: /home/tiago/documents/lncRNA/G.max/PXD013198/generated/Soy_sprout_SEC_21_1a_10232017.MSGF+.pride.mztab already exists;\tnot overwritten\n",
      "gzip: /home/tiago/documents/lncRNA/G.max/PXD013198/generated/Soy_sprout_SEC_22_1a_10242017.MSGF+.pride.mztab already exists;\tnot overwritten\n",
      "gzip: /home/tiago/documents/lncRNA/G.max/PXD013198/generated/Soy_sprout_SEC_23_1a_10242017.MSGF+.pride.mztab already exists;\tnot overwritten\n",
      "gzip: /home/tiago/documents/lncRNA/G.max/PXD013198/generated/Soy_sprout_SEC_24_1a_10242017.MSGF+.pride.mztab already exists;\tnot overwritten\n",
      "gzip: /home/tiago/documents/lncRNA/G.max/PXD013198/generated/Soy_sprout_SEC_25_1a_10202017.MSGF+.pride.mztab already exists;\tnot overwritten\n",
      "gzip: /home/tiago/documents/lncRNA/G.max/PXD013198/generated/Soy_sprout_SEC_26_1a_10212017.MSGF+.pride.mztab already exists;\tnot overwritten\n",
      "gzip: /home/tiago/documents/lncRNA/G.max/PXD013198/generated/Soy_sprout_SEC_27_1a_10212017.MSGF+.pride.mztab already exists;\tnot overwritten\n",
      "gzip: /home/tiago/documents/lncRNA/G.max/PXD013198/generated/Soy_sprout_SEC_28_1a_10212017.MSGF+.pride.mztab already exists;\tnot overwritten\n",
      "gzip: /home/tiago/documents/lncRNA/G.max/PXD013198/generated/Soy_sprout_SEC_29_1a_10222017.MSGF+.pride.mztab already exists;\tnot overwritten\n",
      "gzip: /home/tiago/documents/lncRNA/G.max/PXD013198/generated/Soy_sprout_SEC_30_1a_10222017.MSGF+.pride.mztab already exists;\tnot overwritten\n",
      "gzip: /home/tiago/documents/lncRNA/G.max/PXD013198/generated/Soy_sprout_SEC_31_1a_10232017.MSGF+.pride.mztab already exists;\tnot overwritten\n",
      "gzip: /home/tiago/documents/lncRNA/G.max/PXD013198/generated/Soy_sprout_SEC_32_1a_10232017.MSGF+.pride.mztab already exists;\tnot overwritten\n",
      "gzip: /home/tiago/documents/lncRNA/G.max/PXD013198/generated/Soy_sprout_SEC_33_1a_10232017.MSGF+.pride.mztab already exists;\tnot overwritten\n",
      "gzip: /home/tiago/documents/lncRNA/G.max/PXD013198/generated/Soy_sprout_SEC_34_1a_10242017.MSGF+.pride.mztab already exists;\tnot overwritten\n",
      "gzip: /home/tiago/documents/lncRNA/G.max/PXD013198/generated/Soy_sprout_SEC_35_1a_10242017.MSGF+.pride.mztab already exists;\tnot overwritten\n",
      "gzip: /home/tiago/documents/lncRNA/G.max/PXD013198/generated/Soy_sprout_SEC_36_1a_10242017.MSGF+.pride.mztab already exists;\tnot overwritten\n",
      "gzip: /home/tiago/documents/lncRNA/G.max/PXD013198/generated/Soy_sprout_SEC_37_1a_10202017.MSGF+.pride.mztab already exists;\tnot overwritten\n",
      "gzip: /home/tiago/documents/lncRNA/G.max/PXD013198/generated/Soy_sprout_SEC_38_1a_10212017.MSGF+.pride.mztab already exists;\tnot overwritten\n",
      "gzip: /home/tiago/documents/lncRNA/G.max/PXD013198/generated/Soy_sprout_SEC_39_1a_10212017.MSGF+.pride.mztab already exists;\tnot overwritten\n",
      "gzip: /home/tiago/documents/lncRNA/G.max/PXD013198/generated/Soy_sprout_SEC_40_1a_10212017.MSGF+.pride.mztab already exists;\tnot overwritten\n",
      "gzip: /home/tiago/documents/lncRNA/G.max/PXD013198/generated/Soy_sprout_SEC_41_1a_10222017.MSGF+.pride.mztab already exists;\tnot overwritten\n",
      "gzip: /home/tiago/documents/lncRNA/G.max/PXD013198/generated/Soy_sprout_SEC_42_1a_10222017.MSGF+.pride.mztab already exists;\tnot overwritten\n",
      "gzip: /home/tiago/documents/lncRNA/G.max/PXD013198/generated/Soy_sprout_SEC_43_1a_10232017.MSGF+.pride.mztab already exists;\tnot overwritten\n",
      "gzip: /home/tiago/documents/lncRNA/G.max/PXD013198/generated/Soy_sprout_SEC_44_1a_10232017.MSGF+.pride.mztab already exists;\tnot overwritten\n",
      "gzip: /home/tiago/documents/lncRNA/G.max/PXD013198/generated/Soy_sprout_SEC_45_1a_10232017.MSGF+.pride.mztab already exists;\tnot overwritten\n",
      "gzip: /home/tiago/documents/lncRNA/G.max/PXD013198/generated/Soy_sprout_SEC_46_1a_10242017.MSGF+.pride.mztab already exists;\tnot overwritten\n",
      "gzip: /home/tiago/documents/lncRNA/G.max/PXD013198/generated/Soy_sprout_SEC_47_1a_10242017.MSGF+.pride.mztab already exists;\tnot overwritten\n",
      "gzip: /home/tiago/documents/lncRNA/G.max/PXD013198/generated/Soy_sprout_SEC_48_1a_10242017.MSGF+.pride.mztab already exists;\tnot overwritten\n",
      "gzip: /home/tiago/documents/lncRNA/G.max/PXD013198/generated/Soy_sprout_SEC_49_1a_10202017.MSGF+.pride.mztab already exists;\tnot overwritten\n",
      "gzip: /home/tiago/documents/lncRNA/G.max/PXD013198/generated/Soy_sprout_SEC_50_1a_10212017.MSGF+.pride.mztab already exists;\tnot overwritten\n",
      "gzip: /home/tiago/documents/lncRNA/G.max/PXD013198/generated/Soy_sprout_SEC_51_1a_10212017.MSGF+.pride.mztab already exists;\tnot overwritten\n",
      "gzip: /home/tiago/documents/lncRNA/G.max/PXD013198/generated/Soy_sprout_SEC_52_1a_10222017.MSGF+.pride.mztab already exists;\tnot overwritten\n",
      "gzip: /home/tiago/documents/lncRNA/G.max/PXD013198/generated/Soy_sprout_SEC_53_1a_10222017.MSGF+.pride.mztab already exists;\tnot overwritten\n",
      "gzip: /home/tiago/documents/lncRNA/G.max/PXD013198/generated/Soy_sprout_SEC_54_1a_10222017.MSGF+.pride.mztab already exists;\tnot overwritten\n",
      "gzip: /home/tiago/documents/lncRNA/G.max/PXD013198/generated/Soy_sprout_SEC_55_1a_10232017.MSGF+.pride.mztab already exists;\tnot overwritten\n",
      "gzip: /home/tiago/documents/lncRNA/G.max/PXD013198/generated/Soy_sprout_SEC_56_1a_10232017.MSGF+.pride.mztab already exists;\tnot overwritten\n",
      "gzip: /home/tiago/documents/lncRNA/G.max/PXD013198/generated/Soy_sprout_SEC_57_1a_10242017.MSGF+.pride.mztab already exists;\tnot overwritten\n",
      "gzip: /home/tiago/documents/lncRNA/G.max/PXD013198/generated/Soy_sprout_SEC_58_1a_10242017.MSGF+.pride.mztab already exists;\tnot overwritten\n",
      "gzip: /home/tiago/documents/lncRNA/G.max/PXD013198/generated/Soy_sprout_SEC_59_1a_10242017.MSGF+.pride.mztab already exists;\tnot overwritten\n",
      "gzip: /home/tiago/documents/lncRNA/G.max/PXD013198/generated/Soy_sprout_SEC_60_1a_10242017.MSGF+.pride.mztab already exists;\tnot overwritten\n",
      "gzip: /home/tiago/documents/lncRNA/G.max/PXD013198/generated/Soy_sprout_SEC_61_1a_10202017.MSGF+.pride.mztab already exists;\tnot overwritten\n",
      "gzip: /home/tiago/documents/lncRNA/G.max/PXD013198/generated/Soy_sprout_SEC_62_1a_10212017.MSGF+.pride.mztab already exists;\tnot overwritten\n",
      "gzip: /home/tiago/documents/lncRNA/G.max/PXD013198/generated/Soy_sprout_SEC_63_1a_10212017.MSGF+.pride.mztab already exists;\tnot overwritten\n",
      "gzip: /home/tiago/documents/lncRNA/G.max/PXD013198/generated/Soy_sprout_SEC_64_1a_10222017.MSGF+.pride.mztab already exists;\tnot overwritten\n",
      "gzip: /home/tiago/documents/lncRNA/G.max/PXD013198/generated/Soy_sprout_SEC_65_1a_10222017.MSGF+.pride.mztab already exists;\tnot overwritten\n",
      "gzip: /home/tiago/documents/lncRNA/G.max/PXD013198/generated/Soy_sprout_SEC_66_1a_10222017.MSGF+.pride.mztab already exists;\tnot overwritten\n",
      "gzip: /home/tiago/documents/lncRNA/G.max/PXD013198/generated/Soy_sprout_SEC_67_1a_10232017.MSGF+.pride.mztab already exists;\tnot overwritten\n",
      "gzip: /home/tiago/documents/lncRNA/G.max/PXD013198/generated/Soy_sprout_SEC_68_1a_10232017.MSGF+.pride.mztab already exists;\tnot overwritten\n",
      "gzip: /home/tiago/documents/lncRNA/G.max/PXD013198/generated/Soy_sprout_SEC_69_1a_10242017.MSGF+.pride.mztab already exists;\tnot overwritten\n",
      "gzip: /home/tiago/documents/lncRNA/G.max/PXD003326/generated/Xtandem_results.WT_1.mgf.Glycine_max_RefSeq_proteins_with_BC_HGF_combined.fa-filtered.pride.mztab already exists;\tnot overwritten\n",
      "gzip: /home/tiago/documents/lncRNA/G.max/PXD003326/generated/Xtandem_results.WT_2.mgf.Glycine_max_RefSeq_proteins_with_BC_HGF_combined.fa-filtered.pride.mztab already exists;\tnot overwritten\n",
      "gzip: /home/tiago/documents/lncRNA/G.max/PXD003326/generated/Xtandem_results.WT_3.mgf.Glycine_max_RefSeq_proteins_with_BC_HGF_combined.fa-filtered.pride.mztab already exists;\tnot overwritten\n",
      "gzip: /home/tiago/documents/lncRNA/G.max/PXD003326/generated/Xtandem_results.line4_1.mgf.Glycine_max_RefSeq_proteins_with_BC_HGF_combined.fa-filtered.pride.mztab already exists;\tnot overwritten\n",
      "gzip: /home/tiago/documents/lncRNA/G.max/PXD003326/generated/Xtandem_results.line4_2.mgf.Glycine_max_RefSeq_proteins_with_BC_HGF_combined.fa-filtered.pride.mztab already exists;\tnot overwritten\n",
      "gzip: /home/tiago/documents/lncRNA/G.max/PXD003326/generated/Xtandem_results.line4_3.mgf.Glycine_max_RefSeq_proteins_with_BC_HGF_combined.fa-filtered.pride.mztab already exists;\tnot overwritten\n",
      "gzip: /home/tiago/documents/lncRNA/G.max/PXD003326/generated/Xtandem_results.line5_1.mgf.Glycine_max_RefSeq_proteins_with_BC_HGF_combined.fa-filtered.pride.mztab already exists;\tnot overwritten\n",
      "gzip: /home/tiago/documents/lncRNA/G.max/PXD003326/generated/Xtandem_results.line5_2.mgf.Glycine_max_RefSeq_proteins_with_BC_HGF_combined.fa-filtered.pride.mztab already exists;\tnot overwritten\n",
      "gzip: /home/tiago/documents/lncRNA/G.max/PXD003326/generated/Xtandem_results.line5_3.mgf.Glycine_max_RefSeq_proteins_with_BC_HGF_combined.fa-filtered.pride.mztab already exists;\tnot overwritten\n",
      "gzip: /home/tiago/documents/lncRNA/G.max/PXD003326/generated/Xtandem_results.line6_1.mgf.Glycine_max_RefSeq_proteins_with_BC_HGF_combined.fa-filtered.pride.mztab already exists;\tnot overwritten\n",
      "gzip: /home/tiago/documents/lncRNA/G.max/PXD003326/generated/Xtandem_results.line6_2.mgf.Glycine_max_RefSeq_proteins_with_BC_HGF_combined.fa-filtered.pride.mztab already exists;\tnot overwritten\n",
      "gzip: /home/tiago/documents/lncRNA/G.max/PXD003326/generated/Xtandem_results.line6_3.mgf.Glycine_max_RefSeq_proteins_with_BC_HGF_combined.fa-filtered.pride.mztab already exists;\tnot overwritten\n",
      "gzip: /home/tiago/documents/lncRNA/G.max/PXD001132/generated/20110827_J1D (J1D).pride.mztab already exists;\tnot overwritten\n",
      "gzip: /home/tiago/documents/lncRNA/G.max/PXD001132/generated/20110827_J1_A (J1A).pride.mztab already exists;\tnot overwritten\n",
      "gzip: /home/tiago/documents/lncRNA/G.max/PXD001132/generated/20110827_J1_B (J1B).pride.mztab already exists;\tnot overwritten\n",
      "gzip: /home/tiago/documents/lncRNA/G.max/PXD001132/generated/20110827_J2_A (J2A).pride.mztab already exists;\tnot overwritten\n",
      "gzip: /home/tiago/documents/lncRNA/G.max/PXD001132/generated/20110827_J2_B (J2B).pride.mztab already exists;\tnot overwritten\n",
      "gzip: /home/tiago/documents/lncRNA/G.max/PXD001132/generated/20110827_K1_A (K1A).pride.mztab already exists;\tnot overwritten\n",
      "gzip: /home/tiago/documents/lncRNA/G.max/PXD001132/generated/20110827_K1_B (K1B).pride.mztab already exists;\tnot overwritten\n",
      "gzip: /home/tiago/documents/lncRNA/G.max/PXD001132/generated/20110827_L1_A (L1A).pride.mztab already exists;\tnot overwritten\n",
      "gzip: /home/tiago/documents/lncRNA/G.max/PXD001132/generated/20110827_L1_B (L1B).pride.mztab already exists;\tnot overwritten\n",
      "gzip: /home/tiago/documents/lncRNA/G.max/PXD001132/generated/20110827_M1_A (M1A).pride.mztab already exists;\tnot overwritten\n",
      "gzip: /home/tiago/documents/lncRNA/G.max/PXD001132/generated/20110827_M1_B (M1B).pride.mztab already exists;\tnot overwritten\n",
      "gzip: /home/tiago/documents/lncRNA/G.max/PXD001132/generated/20110827_M2_A (M2A).pride.mztab already exists;\tnot overwritten\n",
      "gzip: /home/tiago/documents/lncRNA/G.max/PXD001132/generated/20110827_M2_B (M2B).pride.mztab already exists;\tnot overwritten\n",
      "gzip: /home/tiago/documents/lncRNA/G.max/PXD001132/generated/20110831_J1C (J1C).pride.mztab already exists;\tnot overwritten\n",
      "gzip: /home/tiago/documents/lncRNA/G.max/PXD001132/generated/20110831_K1C (K1C).pride.mztab already exists;\tnot overwritten\n",
      "gzip: /home/tiago/documents/lncRNA/G.max/PXD001132/generated/20110831_K1D (K1D).pride.mztab already exists;\tnot overwritten\n",
      "gzip: /home/tiago/documents/lncRNA/G.max/PXD001132/generated/20110831_L1C (L1C).pride.mztab already exists;\tnot overwritten\n",
      "gzip: /home/tiago/documents/lncRNA/G.max/PXD001132/generated/20110831_L1D (L1D).pride.mztab already exists;\tnot overwritten\n",
      "gzip: /home/tiago/documents/lncRNA/G.max/PXD001132/generated/20110831_M1C (M1C).pride.mztab already exists;\tnot overwritten\n",
      "gzip: /home/tiago/documents/lncRNA/G.max/PXD001132/generated/20110831_M1D (M1D).pride.mztab already exists;\tnot overwritten\n",
      "gzip: /home/tiago/documents/lncRNA/G.max/PXD001132/generated/20110901_J2C (J2C).pride.mztab already exists;\tnot overwritten\n",
      "gzip: /home/tiago/documents/lncRNA/G.max/PXD001132/generated/20110901_J2D (J2D).pride.mztab already exists;\tnot overwritten\n",
      "gzip: /home/tiago/documents/lncRNA/G.max/PXD001132/generated/20110901_K2A (K2A).pride.mztab already exists;\tnot overwritten\n",
      "gzip: /home/tiago/documents/lncRNA/G.max/PXD001132/generated/20110901_K2B (K2B).pride.mztab already exists;\tnot overwritten\n",
      "gzip: /home/tiago/documents/lncRNA/G.max/PXD001132/generated/20110901_K2C (K2C).pride.mztab already exists;\tnot overwritten\n",
      "gzip: /home/tiago/documents/lncRNA/G.max/PXD001132/generated/20110901_L2A (L2A).pride.mztab already exists;\tnot overwritten\n",
      "gzip: /home/tiago/documents/lncRNA/G.max/PXD001132/generated/20110901_L2B (L2B).pride.mztab already exists;\tnot overwritten\n",
      "gzip: /home/tiago/documents/lncRNA/G.max/PXD001132/generated/20110901_L2C (L2C).pride.mztab already exists;\tnot overwritten\n",
      "gzip: /home/tiago/documents/lncRNA/G.max/PXD001132/generated/20110901_M2C (M2C).pride.mztab already exists;\tnot overwritten\n",
      "gzip: /home/tiago/documents/lncRNA/G.max/PXD001132/generated/20110901_M2D (M2D).pride.mztab already exists;\tnot overwritten\n",
      "gzip: /home/tiago/documents/lncRNA/G.max/PXD001132/generated/A1.pride.mztab already exists;\tnot overwritten\n",
      "gzip: /home/tiago/documents/lncRNA/G.max/PXD001132/generated/A2.pride.mztab already exists;\tnot overwritten\n",
      "gzip: /home/tiago/documents/lncRNA/G.max/PXD001132/generated/B1.pride.mztab already exists;\tnot overwritten\n",
      "gzip: /home/tiago/documents/lncRNA/G.max/PXD001132/generated/B2.pride.mztab already exists;\tnot overwritten\n",
      "gzip: /home/tiago/documents/lncRNA/G.max/PXD001132/generated/B3.pride.mztab already exists;\tnot overwritten\n",
      "gzip: /home/tiago/documents/lncRNA/G.max/PXD000201/generated/PRIDE_Exp_Complete_Ac_28967.pride.mztab already exists;\tnot overwritten\n",
      "gzip: /home/tiago/documents/lncRNA/G.max/PXD000201/generated/PRIDE_Exp_Complete_Ac_28968.pride.mztab already exists;\tnot overwritten\n",
      "gzip: /home/tiago/documents/lncRNA/G.max/PXD000201/generated/PRIDE_Exp_Complete_Ac_28969.pride.mztab already exists;\tnot overwritten\n",
      "gzip: /home/tiago/documents/lncRNA/G.max/PXD000201/generated/PRIDE_Exp_Complete_Ac_28970.pride.mztab already exists;\tnot overwritten\n",
      "gzip: /home/tiago/documents/lncRNA/G.max/PXD000201/generated/PRIDE_Exp_Complete_Ac_28971.pride.mztab already exists;\tnot overwritten\n",
      "gzip: /home/tiago/documents/lncRNA/G.max/PXD000201/generated/PRIDE_Exp_Complete_Ac_28972.pride.mztab already exists;\tnot overwritten\n",
      "gzip: /home/tiago/documents/lncRNA/G.max/PXD000201/generated/PRIDE_Exp_Complete_Ac_28973.pride.mztab already exists;\tnot overwritten\n",
      "gzip: /home/tiago/documents/lncRNA/G.max/PXD000201/generated/PRIDE_Exp_Complete_Ac_28974.pride.mztab already exists;\tnot overwritten\n",
      "gzip: /home/tiago/documents/lncRNA/G.max/PXD000201/generated/PRIDE_Exp_Complete_Ac_28975.pride.mztab already exists;\tnot overwritten\n",
      "gzip: /home/tiago/documents/lncRNA/G.max/PXD000201/generated/PRIDE_Exp_Complete_Ac_28976.pride.mztab already exists;\tnot overwritten\n",
      "gzip: /home/tiago/documents/lncRNA/G.max/PXD000201/generated/PRIDE_Exp_Complete_Ac_28977.pride.mztab already exists;\tnot overwritten\n",
      "gzip: /home/tiago/documents/lncRNA/G.max/PXD000201/generated/PRIDE_Exp_Complete_Ac_28978.pride.mztab already exists;\tnot overwritten\n",
      "gzip: /home/tiago/documents/lncRNA/G.max/PXD000201/generated/PRIDE_Exp_Complete_Ac_28979.pride.mztab already exists;\tnot overwritten\n",
      "gzip: /home/tiago/documents/lncRNA/G.max/PXD000201/generated/PRIDE_Exp_Complete_Ac_28980.pride.mztab already exists;\tnot overwritten\n",
      "gzip: /home/tiago/documents/lncRNA/G.max/PXD000201/generated/PRIDE_Exp_Complete_Ac_28981.pride.mztab already exists;\tnot overwritten\n",
      "gzip: /home/tiago/documents/lncRNA/G.max/PXD000201/generated/PRIDE_Exp_Complete_Ac_28982.pride.mztab already exists;\tnot overwritten\n",
      "gzip: /home/tiago/documents/lncRNA/G.max/PXD000201/generated/PRIDE_Exp_Complete_Ac_28983.pride.mztab already exists;\tnot overwritten\n",
      "gzip: /home/tiago/documents/lncRNA/G.max/PXD000201/generated/PRIDE_Exp_Complete_Ac_28984.pride.mztab already exists;\tnot overwritten\n",
      "gzip: /home/tiago/documents/lncRNA/G.max/PXD000201/generated/PRIDE_Exp_Complete_Ac_28985.pride.mztab already exists;\tnot overwritten\n",
      "gzip: /home/tiago/documents/lncRNA/G.max/PXD000201/generated/PRIDE_Exp_Complete_Ac_28986.pride.mztab already exists;\tnot overwritten\n",
      "gzip: /home/tiago/documents/lncRNA/G.max/PXD000201/generated/PRIDE_Exp_Complete_Ac_28987.pride.mztab already exists;\tnot overwritten\n",
      "gzip: /home/tiago/documents/lncRNA/G.max/PXD000201/generated/PRIDE_Exp_Complete_Ac_28988.pride.mztab already exists;\tnot overwritten\n",
      "gzip: /home/tiago/documents/lncRNA/G.max/PXD000201/generated/PRIDE_Exp_Complete_Ac_28989.pride.mztab already exists;\tnot overwritten\n",
      "gzip: /home/tiago/documents/lncRNA/G.max/PXD000201/generated/PRIDE_Exp_Complete_Ac_28990.pride.mztab already exists;\tnot overwritten\n",
      "gzip: /home/tiago/documents/lncRNA/G.max/PXD000201/generated/PRIDE_Exp_Complete_Ac_28991.pride.mztab already exists;\tnot overwritten\n",
      "gzip: /home/tiago/documents/lncRNA/G.max/PXD000201/generated/PRIDE_Exp_Complete_Ac_28992.pride.mztab already exists;\tnot overwritten\n",
      "gzip: /home/tiago/documents/lncRNA/G.max/PXD000201/generated/PRIDE_Exp_Complete_Ac_28993.pride.mztab already exists;\tnot overwritten\n",
      "gzip: /home/tiago/documents/lncRNA/G.max/PXD000201/generated/PRIDE_Exp_Complete_Ac_28994.pride.mztab already exists;\tnot overwritten\n",
      "gzip: /home/tiago/documents/lncRNA/G.max/PXD000201/generated/PRIDE_Exp_Complete_Ac_28995.pride.mztab already exists;\tnot overwritten\n",
      "gzip: /home/tiago/documents/lncRNA/G.max/PXD000201/generated/PRIDE_Exp_Complete_Ac_28996.pride.mztab already exists;\tnot overwritten\n",
      "gzip: /home/tiago/documents/lncRNA/G.max/PXD000201/generated/PRIDE_Exp_Complete_Ac_28997.pride.mztab already exists;\tnot overwritten\n",
      "gzip: /home/tiago/documents/lncRNA/G.max/PXD000201/generated/PRIDE_Exp_Complete_Ac_28998.pride.mztab already exists;\tnot overwritten\n",
      "gzip: /home/tiago/documents/lncRNA/G.max/PXD000201/generated/PRIDE_Exp_Complete_Ac_28999.pride.mztab already exists;\tnot overwritten\n",
      "gzip: /home/tiago/documents/lncRNA/G.max/PXD000201/generated/PRIDE_Exp_Complete_Ac_29000.pride.mztab already exists;\tnot overwritten\n",
      "gzip: /home/tiago/documents/lncRNA/G.max/PXD000201/generated/PRIDE_Exp_Complete_Ac_29001.pride.mztab already exists;\tnot overwritten\n",
      "gzip: /home/tiago/documents/lncRNA/G.max/PXD000201/generated/PRIDE_Exp_Complete_Ac_29002.pride.mztab already exists;\tnot overwritten\n",
      "gzip: /home/tiago/documents/lncRNA/G.max/PXD000201/generated/PRIDE_Exp_Complete_Ac_29003.pride.mztab already exists;\tnot overwritten\n",
      "gzip: /home/tiago/documents/lncRNA/G.max/PXD000201/generated/PRIDE_Exp_Complete_Ac_29004.pride.mztab already exists;\tnot overwritten\n",
      "gzip: /home/tiago/documents/lncRNA/G.max/PXD000201/generated/PRIDE_Exp_Complete_Ac_29005.pride.mztab already exists;\tnot overwritten\n",
      "gzip: /home/tiago/documents/lncRNA/G.max/PXD000201/generated/PRIDE_Exp_Complete_Ac_29006.pride.mztab already exists;\tnot overwritten\n",
      "gzip: /home/tiago/documents/lncRNA/G.max/PXD000201/generated/PRIDE_Exp_Complete_Ac_29007.pride.mztab already exists;\tnot overwritten\n",
      "gzip: /home/tiago/documents/lncRNA/G.max/PXD000201/generated/PRIDE_Exp_Complete_Ac_29008.pride.mztab already exists;\tnot overwritten\n",
      "gzip: /home/tiago/documents/lncRNA/G.max/PXD000201/generated/PRIDE_Exp_Complete_Ac_29009.pride.mztab already exists;\tnot overwritten\n",
      "gzip: /home/tiago/documents/lncRNA/G.max/PXD000201/generated/PRIDE_Exp_Complete_Ac_29010.pride.mztab already exists;\tnot overwritten\n",
      "gzip: /home/tiago/documents/lncRNA/G.max/PXD000201/generated/PRIDE_Exp_Complete_Ac_29011.pride.mztab already exists;\tnot overwritten\n",
      "gzip: /home/tiago/documents/lncRNA/G.max/PXD000201/generated/PRIDE_Exp_Complete_Ac_29012.pride.mztab already exists;\tnot overwritten\n",
      "gzip: /home/tiago/documents/lncRNA/G.max/PXD000201/generated/PRIDE_Exp_Complete_Ac_29013.pride.mztab already exists;\tnot overwritten\n",
      "gzip: /home/tiago/documents/lncRNA/G.max/PXD000201/generated/PRIDE_Exp_Complete_Ac_29014.pride.mztab already exists;\tnot overwritten\n",
      "gzip: /home/tiago/documents/lncRNA/G.max/PXD000201/generated/PRIDE_Exp_Complete_Ac_29015.pride.mztab already exists;\tnot overwritten\n",
      "gzip: /home/tiago/documents/lncRNA/G.max/PXD000201/generated/PRIDE_Exp_Complete_Ac_29016.pride.mztab already exists;\tnot overwritten\n",
      "gzip: /home/tiago/documents/lncRNA/G.max/PXD000201/generated/PRIDE_Exp_Complete_Ac_29017.pride.mztab already exists;\tnot overwritten\n",
      "gzip: /home/tiago/documents/lncRNA/G.max/PXD000201/generated/PRIDE_Exp_Complete_Ac_29018.pride.mztab already exists;\tnot overwritten\n",
      "gzip: /home/tiago/documents/lncRNA/G.max/PXD000201/generated/PRIDE_Exp_Complete_Ac_29019.pride.mztab already exists;\tnot overwritten\n",
      "gzip: /home/tiago/documents/lncRNA/G.max/PXD000201/generated/PRIDE_Exp_Complete_Ac_29020.pride.mztab already exists;\tnot overwritten\n",
      "gzip: /home/tiago/documents/lncRNA/G.max/PXD000201/generated/PRIDE_Exp_Complete_Ac_29021.pride.mztab already exists;\tnot overwritten\n",
      "gzip: /home/tiago/documents/lncRNA/G.max/PXD000201/generated/PRIDE_Exp_Complete_Ac_29022.pride.mztab already exists;\tnot overwritten\n",
      "gzip: /home/tiago/documents/lncRNA/G.max/PXD000201/generated/PRIDE_Exp_Complete_Ac_29023.pride.mztab already exists;\tnot overwritten\n",
      "gzip: /home/tiago/documents/lncRNA/G.max/PXD000201/generated/PRIDE_Exp_Complete_Ac_29024.pride.mztab already exists;\tnot overwritten\n",
      "gzip: /home/tiago/documents/lncRNA/G.max/PXD000201/generated/PRIDE_Exp_Complete_Ac_29025.pride.mztab already exists;\tnot overwritten\n",
      "gzip: /home/tiago/documents/lncRNA/G.max/PXD000201/generated/PRIDE_Exp_Complete_Ac_29026.pride.mztab already exists;\tnot overwritten\n",
      "gzip: /home/tiago/documents/lncRNA/G.max/PXD000201/generated/PRIDE_Exp_Complete_Ac_29027.pride.mztab already exists;\tnot overwritten\n",
      "gzip: /home/tiago/documents/lncRNA/G.max/PXD000201/generated/PRIDE_Exp_Complete_Ac_29028.pride.mztab already exists;\tnot overwritten\n",
      "gzip: /home/tiago/documents/lncRNA/G.max/PXD000201/generated/PRIDE_Exp_Complete_Ac_29029.pride.mztab already exists;\tnot overwritten\n",
      "gzip: /home/tiago/documents/lncRNA/G.max/PXD000201/generated/PRIDE_Exp_Complete_Ac_29030.pride.mztab already exists;\tnot overwritten\n",
      "gzip: /home/tiago/documents/lncRNA/G.max/PXD000201/generated/PRIDE_Exp_Complete_Ac_29031.pride.mztab already exists;\tnot overwritten\n",
      "gzip: /home/tiago/documents/lncRNA/G.max/PXD000201/generated/PRIDE_Exp_Complete_Ac_29032.pride.mztab already exists;\tnot overwritten\n",
      "gzip: /home/tiago/documents/lncRNA/G.max/PXD000201/generated/PRIDE_Exp_Complete_Ac_29033.pride.mztab already exists;\tnot overwritten\n",
      "gzip: /home/tiago/documents/lncRNA/G.max/PXD000201/generated/PRIDE_Exp_Complete_Ac_29034.pride.mztab already exists;\tnot overwritten\n",
      "gzip: /home/tiago/documents/lncRNA/G.max/PXD000201/generated/PRIDE_Exp_Complete_Ac_29035.pride.mztab already exists;\tnot overwritten\n",
      "gzip: /home/tiago/documents/lncRNA/G.max/PXD000201/generated/PRIDE_Exp_Complete_Ac_29036.pride.mztab already exists;\tnot overwritten\n",
      "gzip: /home/tiago/documents/lncRNA/G.max/PXD000201/generated/PRIDE_Exp_Complete_Ac_29037.pride.mztab already exists;\tnot overwritten\n",
      "gzip: /home/tiago/documents/lncRNA/G.max/PXD000201/generated/PRIDE_Exp_Complete_Ac_29038.pride.mztab already exists;\tnot overwritten\n",
      "gzip: /home/tiago/documents/lncRNA/G.max/PXD000201/generated/PRIDE_Exp_Complete_Ac_29039.pride.mztab already exists;\tnot overwritten\n",
      "gzip: /home/tiago/documents/lncRNA/G.max/PXD000201/generated/PRIDE_Exp_Complete_Ac_29040.pride.mztab already exists;\tnot overwritten\n",
      "gzip: /home/tiago/documents/lncRNA/G.max/PXD000201/generated/PRIDE_Exp_Complete_Ac_29041.pride.mztab already exists;\tnot overwritten\n",
      "gzip: /home/tiago/documents/lncRNA/G.max/PXD000201/generated/PRIDE_Exp_Complete_Ac_29042.pride.mztab already exists;\tnot overwritten\n",
      "gzip: /home/tiago/documents/lncRNA/G.max/PXD000201/generated/PRIDE_Exp_Complete_Ac_29043.pride.mztab already exists;\tnot overwritten\n",
      "gzip: /home/tiago/documents/lncRNA/G.max/PXD000201/generated/PRIDE_Exp_Complete_Ac_29044.pride.mztab already exists;\tnot overwritten\n",
      "gzip: /home/tiago/documents/lncRNA/G.max/PXD000201/generated/PRIDE_Exp_Complete_Ac_29045.pride.mztab already exists;\tnot overwritten\n",
      "gzip: /home/tiago/documents/lncRNA/G.max/PXD000201/generated/PRIDE_Exp_Complete_Ac_29046.pride.mztab already exists;\tnot overwritten\n",
      "gzip: /home/tiago/documents/lncRNA/G.max/PXD000201/generated/PRIDE_Exp_Complete_Ac_29047.pride.mztab already exists;\tnot overwritten\n",
      "gzip: /home/tiago/documents/lncRNA/G.max/PXD000201/generated/PRIDE_Exp_Complete_Ac_29048.pride.mztab already exists;\tnot overwritten\n",
      "gzip: /home/tiago/documents/lncRNA/G.max/PXD000201/generated/PRIDE_Exp_Complete_Ac_29049.pride.mztab already exists;\tnot overwritten\n",
      "gzip: /home/tiago/documents/lncRNA/G.max/PXD000201/generated/PRIDE_Exp_Complete_Ac_29050.pride.mztab already exists;\tnot overwritten\n",
      "gzip: /home/tiago/documents/lncRNA/G.max/PXD000201/generated/PRIDE_Exp_Complete_Ac_29051.pride.mztab already exists;\tnot overwritten\n",
      "gzip: /home/tiago/documents/lncRNA/G.max/PXD000201/generated/PRIDE_Exp_Complete_Ac_29052.pride.mztab already exists;\tnot overwritten\n",
      "gzip: /home/tiago/documents/lncRNA/G.max/PXD000201/generated/PRIDE_Exp_Complete_Ac_29053.pride.mztab already exists;\tnot overwritten\n",
      "gzip: /home/tiago/documents/lncRNA/G.max/PXD000201/generated/PRIDE_Exp_Complete_Ac_29054.pride.mztab already exists;\tnot overwritten\n",
      "gzip: /home/tiago/documents/lncRNA/G.max/PXD000201/generated/PRIDE_Exp_Complete_Ac_29055.pride.mztab already exists;\tnot overwritten\n",
      "gzip: /home/tiago/documents/lncRNA/G.max/PXD000201/generated/PRIDE_Exp_Complete_Ac_29056.pride.mztab already exists;\tnot overwritten\n",
      "gzip: /home/tiago/documents/lncRNA/G.max/PXD000247/generated/PRIDE_Exp_Complete_Ac_29517.pride.mztab already exists;\tnot overwritten\n",
      "gzip: /home/tiago/documents/lncRNA/G.max/PXD000247/generated/PRIDE_Exp_Complete_Ac_29518.pride.mztab already exists;\tnot overwritten\n",
      "gzip: /home/tiago/documents/lncRNA/G.max/PXD000247/generated/PRIDE_Exp_Complete_Ac_29519.pride.mztab already exists;\tnot overwritten\n",
      "gzip: /home/tiago/documents/lncRNA/G.max/PXD000247/generated/PRIDE_Exp_Complete_Ac_29520.pride.mztab already exists;\tnot overwritten\n",
      "gzip: /home/tiago/documents/lncRNA/G.max/PXD000247/generated/PRIDE_Exp_Complete_Ac_29521.pride.mztab already exists;\tnot overwritten\n",
      "gzip: /home/tiago/documents/lncRNA/G.max/PXD000247/generated/PRIDE_Exp_Complete_Ac_29522.pride.mztab already exists;\tnot overwritten\n",
      "gzip: /home/tiago/documents/lncRNA/G.max/PXD000247/generated/PRIDE_Exp_Complete_Ac_29523.pride.mztab already exists;\tnot overwritten\n",
      "gzip: /home/tiago/documents/lncRNA/G.max/PXD000247/generated/PRIDE_Exp_Complete_Ac_29524.pride.mztab already exists;\tnot overwritten\n",
      "gzip: /home/tiago/documents/lncRNA/G.max/PXD000247/generated/PRIDE_Exp_Complete_Ac_29525.pride.mztab already exists;\tnot overwritten\n",
      "gzip: /home/tiago/documents/lncRNA/G.max/PXD000247/generated/PRIDE_Exp_Complete_Ac_29526.pride.mztab already exists;\tnot overwritten\n",
      "gzip: /home/tiago/documents/lncRNA/G.max/PXD000247/generated/PRIDE_Exp_Complete_Ac_29527.pride.mztab already exists;\tnot overwritten\n",
      "gzip: /home/tiago/documents/lncRNA/G.max/PXD000247/generated/PRIDE_Exp_Complete_Ac_29528.pride.mztab already exists;\tnot overwritten\n",
      "gzip: /home/tiago/documents/lncRNA/G.max/PXD000247/generated/PRIDE_Exp_Complete_Ac_29529.pride.mztab already exists;\tnot overwritten\n",
      "gzip: /home/tiago/documents/lncRNA/G.max/PXD000247/generated/PRIDE_Exp_Complete_Ac_29530.pride.mztab already exists;\tnot overwritten\n",
      "gzip: /home/tiago/documents/lncRNA/G.max/PXD000247/generated/PRIDE_Exp_Complete_Ac_29531.pride.mztab already exists;\tnot overwritten\n"
     ]
    },
    {
     "name": "stdout",
     "output_type": "stream",
     "text": [
      "PXD000160\n"
     ]
    }
   ],
   "source": [
    "specie = \"Glycine max\"\n",
    "projects = get_projects(specie = specie)\n",
    "print(f\"Total of projects for {specie}:{len(projects)}\")\n",
    "download_projects(projects)\n",
    "unzip_mztabs(path = os.path.join(os.getcwd(),mztab_storage_folder))\n",
    "for proj_dir,subdir,files in os.walk(os.path.join(os.getcwd(),mztab_storage_folder)):\n",
    "    if proj_dir.endswith(\"/generated\"):\n",
    "        all_mztab_files = get_allmztab(os.path.join(proj_dir,\"*.mztab\"))\n",
    "        for mztab_path in all_mztab_files:\n",
    "            mztab_obj = mztab.MzTab(mztab_path)\n",
    "            print(proj_dir.split(\"/\")[-2])\n",
    "            download_sequences(mztab_obj,proj_dir) "
   ]
  },
  {
   "cell_type": "markdown",
   "metadata": {},
   "source": [
    "### *Arabidopsis thaliana*"
   ]
  },
  {
   "cell_type": "code",
   "execution_count": 23,
   "metadata": {},
   "outputs": [],
   "source": [
    "mztab_storage_folder = \"A.thaliana\"\n",
    "try:\n",
    "    os.makedirs(os.path.join(os.getcwd(),mztab_storage_folder))\n",
    "except:\n",
    "    print(f\"Folder already exist: {os.path.join(os.getcwd(),mztab_storage_folder)}\")"
   ]
  },
  {
   "cell_type": "code",
   "execution_count": 24,
   "metadata": {},
   "outputs": [
    {
     "name": "stdout",
     "output_type": "stream",
     "text": [
      "110\n",
      "['PXD006328', 'PXD002606', 'PRD000634', 'PXD000136', 'PXD000692', 'PXD004596', 'PRD000156', 'PXD001344', 'PXD004267', 'PRD000392', 'PXD001880', 'PXD000908', 'PXD005179', 'PXD002476', 'PXD003103', 'PXD005740', 'PRD000635', 'PXD000869', 'PXD000880', 'PXD001286', 'PXD001878', 'PXD000280', 'PXD001885', 'PXD006807', 'PXD013321', 'PXD000235', 'PXD006880', 'PXD001134', 'PRD000737', 'PXD001877', 'PXD010518', 'PXD002186', 'PXD000211', 'PXD007979', 'PRD000314', 'PXD003352', 'PXD002396', 'PXD010104', 'PXD000567', 'PXD002075', 'PXD000566', 'PXD001386', 'PXD001879', 'PXD005168', 'PXD001884', 'PXD013999', 'PXD001252', 'PXD004027', 'PXD009392', 'PXD004763', 'PRD000246', 'PXD006848', 'PRD000581', 'PXD009510', 'PXD001883', 'PRD000182', 'PXD000500', 'PXD001400', 'PXD000223', 'PXD010816', 'PXD001562', 'PXD004896', 'PXD000417', 'PRD000096', 'PRD000508', 'PXD001795', 'PXD004025', 'PXD001349', 'PRD000289', 'PXD000942', 'PRD000531', 'PXD006598', 'PXD007678', 'PRD000717', 'PXD001179', 'PXD013264', 'PXD003449', 'PXD003189', 'PRD000084', 'PXD001119', 'PRD000569', 'PXD007100', 'PXD010575', 'PXD000515', 'PXD002908', 'PXD009918', 'PRD000349', 'PXD005408', 'PXD003923', 'PRD000722', 'PXD001881', 'PXD000521', 'PXD003684', 'PRD000280', 'PXD009978', 'PXD001882', 'PXD001177', 'PXD009640', 'PXD005889', 'PXD000568', 'PXD003821', 'PXD000546', 'PRD000308', 'PXD000693', 'PXD006352', 'PRD000141', 'PRD000664', 'PXD000565', 'PXD005585', 'PXD000941']\n"
     ]
    }
   ],
   "source": [
    "specie = \"Arabidopsis thaliana\"\n",
    "projects = get_projects(specie = specie)\n",
    "download_projects(projects)\n",
    "unzip_mztabs(path = os.path.join(os.getcwd(),mztab_storage_folder))\n",
    "for proj_dir,subdir,files in os.walk(os.path.join(os.getcwd(),mztab_storage_folder)):\n",
    "    if proj_dir.endswith(\"/generated\"):\n",
    "        all_mztab_files = get_allmztab(os.path.join(proj_dir,\"*.mztab\"))\n",
    "        for mztab_path in all_mztab_files:\n",
    "            mztab_obj = mztab.MzTab(mztab_path)\n",
    "            print(proj_dir.split(\"/\")[-2])\n",
    "            download_sequences(mztab_obj,proj_dir)"
   ]
  }
 ],
 "metadata": {
  "interpreter": {
   "hash": "aef02e25b8f048ebbd4c2676995f65e0bca0bcbe7f18cd04ddbf903968badd38"
  },
  "kernelspec": {
   "display_name": "Python 3.9.7 64-bit ('lncrna': conda)",
   "language": "python",
   "name": "python3"
  },
  "language_info": {
   "codemirror_mode": {
    "name": "ipython",
    "version": 3
   },
   "file_extension": ".py",
   "mimetype": "text/x-python",
   "name": "python",
   "nbconvert_exporter": "python",
   "pygments_lexer": "ipython3",
   "version": "3.9.7"
  },
  "orig_nbformat": 4
 },
 "nbformat": 4,
 "nbformat_minor": 2
}
